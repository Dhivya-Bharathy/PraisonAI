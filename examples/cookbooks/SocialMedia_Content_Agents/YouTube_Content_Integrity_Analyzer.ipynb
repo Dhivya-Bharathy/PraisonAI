{
  "cells": [
    {
      "cell_type": "markdown",
      "metadata": {
        "id": "ghztCKohBcZP"
      },
      "source": [
        "# 🎬 YouTube Content Integrity Analyzer"
      ]
    },
    {
      "cell_type": "markdown",
      "metadata": {
        "id": "hUmdUm4eBfCg"
      },
      "source": [
        "This notebook uses PraisonAI to analyze YouTube video captions for harmful content (hate speech, misinformation, violence, fraud) and evaluates educational value, relevance, integrity, and clarity. The agent provides unbiased, category-based content quality assessments using only the transcript text."
      ]
    },
    {
      "cell_type": "markdown",
      "metadata": {
        "id": "TZylRAldFYwv"
      },
      "source": [
        "[![Open in Colab](https://colab.research.google.com/assets/colab-badge.svg)](https://colab.research.google.com/github/Dhivya-Bharathy/PraisonAI/blob/main/examples/cookbooks/Qwen2.5_InstructionAgent.ipynb)"
      ]
    },
    {
      "cell_type": "markdown",
      "metadata": {
        "id": "ALWJRTXZBsKg"
      },
      "source": [
        "# Dependencies"
      ]
    },
    {
      "cell_type": "code",
      "execution_count": null,
      "metadata": {
        "id": "S4mLEe-RBrkq"
      },
      "outputs": [],
      "source": [
        "!pip install praisonaiagents openai youtube-transcript-api --quiet"
      ]
    },
    {
      "cell_type": "markdown",
      "source": [
        "# Set up API KEY"
      ],
      "metadata": {
        "id": "AjLdy4NYD-AV"
      }
    },
    {
      "cell_type": "code",
      "execution_count": null,
      "metadata": {
        "id": "ZzOX1ASAB6S3"
      },
      "outputs": [],
      "source": [
        "from praisonaiagents import Agent\n",
        "import os\n",
        "import json\n",
        "\n",
        "# Set your OpenAI API key\n",
        "os.environ[\"OPENAI_API_KEY\"] = \"Enter your api key\"  # <-- Replace with your actual OpenAI API key"
      ]
    },
    {
      "cell_type": "markdown",
      "source": [
        "# Get YouTube Transcript"
      ],
      "metadata": {
        "id": "DFJH4Jf0E4gU"
      }
    },
    {
      "cell_type": "code",
      "execution_count": null,
      "metadata": {
        "id": "pGY3CzCyCBtH"
      },
      "outputs": [],
      "source": [
        "from youtube_transcript_api import YouTubeTranscriptApi\n",
        "\n",
        "def get_youtube_transcript(video_id, languages=['en']):\n",
        "    try:\n",
        "        transcript = YouTubeTranscriptApi.get_transcript(video_id, languages=languages)\n",
        "        text = \" \".join([entry['text'] for entry in transcript])\n",
        "        return text\n",
        "    except Exception as e:\n",
        "        return None"
      ]
    },
    {
      "cell_type": "markdown",
      "source": [
        "# Prompts (role, goal, instructions)"
      ],
      "metadata": {
        "id": "x5vHRKqAE7az"
      }
    },
    {
      "cell_type": "code",
      "execution_count": null,
      "metadata": {
        "id": "Trs-R1NRC4jv"
      },
      "outputs": [],
      "source": [
        "ROLE = \"\"\"\n",
        "Act as a content integrity and quality analyst trained to evaluate YouTube video captions. You are an expert in content policy enforcement, linguistic analysis, and media integrity.\n",
        "You specialize in detecting harmful content (e.g., hate speech, misinformation, fraud) and evaluating the clarity, educational value, and relevance of language in video captions, using only textual evidence and without assumptions about tone or intent.\n",
        "\"\"\"\n",
        "\n",
        "GOAL = \"\"\"\n",
        "Your task is to assess whether specific content categories are present based solely on the language in the transcript. Your judgments should be precise, unbiased, and strictly based on linguistic clues — do not rely on assumptions about video intent or tone.\n",
        "\"\"\"\n",
        "\n",
        "INSTRUCTIONS = \"\"\"\n",
        "You will receive a list of categories and a YouTube transcript. Analyze the transcript to determine the presence of the specified categories.\n",
        "Only use these categories: [\"hatred\", \"misinformation\", \"violence\", \"fraud\", \"educational\", \"relevance\", \"integrity\", \"clarity\"].\n",
        "Discard any other category. If none remain, return an error.\n",
        "For each valid category, assign a score from 0 to 10 and provide a reason.\n",
        "Return a JSON object with:\n",
        "  - categories: list of {name, score, connotation, reason}\n",
        "  - overall: {score, reason}\n",
        "  - error: \"\"\n",
        "  - content_summary: brief summary of the transcript\n",
        "Start your response with { and end with }.\n",
        "\"\"\""
      ]
    },
    {
      "cell_type": "markdown",
      "source": [
        "# Main Agent Function"
      ],
      "metadata": {
        "id": "TYv88sNgE-h2"
      }
    },
    {
      "cell_type": "code",
      "execution_count": null,
      "metadata": {
        "id": "BsYXppH5C6VF"
      },
      "outputs": [],
      "source": [
        "def analyze_youtube_content(video_url, categories, custom_prompts=None):\n",
        "    # Extract video ID from URL\n",
        "    import re\n",
        "    match = re.search(r\"v=([A-Za-z0-9_-]+)\", video_url)\n",
        "    if not match:\n",
        "        return {\"error\": \"Invalid YouTube URL\"}\n",
        "    video_id = match.group(1)\n",
        "\n",
        "    transcript = get_youtube_transcript(video_id)\n",
        "    if not transcript:\n",
        "        return {\"error\": \"Could not fetch transcript for this video.\"}\n",
        "\n",
        "    # Prepare the prompt for the agent\n",
        "    prompt = f\"Categories: {categories}\\n\\nTranscript:\\n{transcript}\\n\"\n",
        "    if custom_prompts:\n",
        "        for cp in custom_prompts:\n",
        "            prompt += f\"\\nAdditional user prompt: {cp}\"\n",
        "\n",
        "    agent = Agent(\n",
        "        role=ROLE,\n",
        "        goal=GOAL,\n",
        "        instructions=INSTRUCTIONS,\n",
        "    )\n",
        "    response = agent.start(prompt)\n",
        "    return response"
      ]
    },
    {
      "cell_type": "markdown",
      "source": [
        "# Example Usage (with a valid video URL)"
      ],
      "metadata": {
        "id": "Po1Cy_fYFBYw"
      }
    },
    {
      "cell_type": "code",
      "execution_count": null,
      "metadata": {
        "colab": {
          "base_uri": "https://localhost:8080/",
          "height": 1000,
          "referenced_widgets": [
            "ec4ebabe2add44dfa8fc416e018b529e",
            "6e52cd63a78f444882ac82fe8e392907"
          ]
        },
        "id": "SD7juBbZEP-h",
        "outputId": "e5f15618-24d0-4524-d011-f9e9eefa87a2"
      },
      "outputs": [
        {
          "data": {
            "text/html": [
              "<pre style=\"white-space:pre;overflow-x:auto;line-height:normal;font-family:Menlo,'DejaVu Sans Mono',consolas,'Courier New',monospace\"><span style=\"color: #d2e3c8; text-decoration-color: #d2e3c8\">╭─ </span><span style=\"color: #d2e3c8; text-decoration-color: #d2e3c8; font-weight: bold\">Agent Info</span><span style=\"color: #d2e3c8; text-decoration-color: #d2e3c8\"> ────────────────────────────────────────────────────────────────────────────────────────────────────╮</span>\n",
              "<span style=\"color: #d2e3c8; text-decoration-color: #d2e3c8\">│</span>                                                                                                                 <span style=\"color: #d2e3c8; text-decoration-color: #d2e3c8\">│</span>\n",
              "<span style=\"color: #d2e3c8; text-decoration-color: #d2e3c8\">│</span>  <span style=\"color: #ff9b9b; text-decoration-color: #ff9b9b; font-weight: bold\">👤 Agent:</span> <span style=\"color: #ffe5e5; text-decoration-color: #ffe5e5\">Agent</span>                                                                                                <span style=\"color: #d2e3c8; text-decoration-color: #d2e3c8\">│</span>\n",
              "<span style=\"color: #d2e3c8; text-decoration-color: #d2e3c8\">│</span>  <span style=\"color: #b4b4b3; text-decoration-color: #b4b4b3; font-weight: bold\">Role:</span>                                                                                                          <span style=\"color: #d2e3c8; text-decoration-color: #d2e3c8\">│</span>\n",
              "<span style=\"color: #d2e3c8; text-decoration-color: #d2e3c8\">│</span>  <span style=\"color: #ffe5e5; text-decoration-color: #ffe5e5\">Act as a content integrity and quality analyst trained to evaluate YouTube video captions. You are an expert </span>  <span style=\"color: #d2e3c8; text-decoration-color: #d2e3c8\">│</span>\n",
              "<span style=\"color: #d2e3c8; text-decoration-color: #d2e3c8\">│</span>  <span style=\"color: #ffe5e5; text-decoration-color: #ffe5e5\">in content policy enforcement, linguistic analysis, and media integrity.</span>                                       <span style=\"color: #d2e3c8; text-decoration-color: #d2e3c8\">│</span>\n",
              "<span style=\"color: #d2e3c8; text-decoration-color: #d2e3c8\">│</span>  <span style=\"color: #ffe5e5; text-decoration-color: #ffe5e5\">You specialize in detecting harmful content (e.g., hate speech, misinformation, fraud) and evaluating the </span>     <span style=\"color: #d2e3c8; text-decoration-color: #d2e3c8\">│</span>\n",
              "<span style=\"color: #d2e3c8; text-decoration-color: #d2e3c8\">│</span>  <span style=\"color: #ffe5e5; text-decoration-color: #ffe5e5\">clarity, educational value, and relevance of language in video captions, using only textual evidence and </span>      <span style=\"color: #d2e3c8; text-decoration-color: #d2e3c8\">│</span>\n",
              "<span style=\"color: #d2e3c8; text-decoration-color: #d2e3c8\">│</span>  <span style=\"color: #ffe5e5; text-decoration-color: #ffe5e5\">without assumptions about tone or intent.</span>                                                                      <span style=\"color: #d2e3c8; text-decoration-color: #d2e3c8\">│</span>\n",
              "<span style=\"color: #d2e3c8; text-decoration-color: #d2e3c8\">│</span>                                                                                                                 <span style=\"color: #d2e3c8; text-decoration-color: #d2e3c8\">│</span>\n",
              "<span style=\"color: #d2e3c8; text-decoration-color: #d2e3c8\">│</span>                                                                                                                 <span style=\"color: #d2e3c8; text-decoration-color: #d2e3c8\">│</span>\n",
              "<span style=\"color: #d2e3c8; text-decoration-color: #d2e3c8\">╰─────────────────────────────────────────────────────────────────────────────────────────────────────────────────╯</span>\n",
              "</pre>\n"
            ],
            "text/plain": [
              "\u001b[38;2;210;227;200m╭─\u001b[0m\u001b[38;2;210;227;200m \u001b[0m\u001b[1;38;2;210;227;200mAgent Info\u001b[0m\u001b[38;2;210;227;200m \u001b[0m\u001b[38;2;210;227;200m───────────────────────────────────────────────────────────────────────────────────────────────────\u001b[0m\u001b[38;2;210;227;200m─╮\u001b[0m\n",
              "\u001b[38;2;210;227;200m│\u001b[0m                                                                                                                 \u001b[38;2;210;227;200m│\u001b[0m\n",
              "\u001b[38;2;210;227;200m│\u001b[0m  \u001b[1;38;2;255;155;155m👤 Agent:\u001b[0m \u001b[38;2;255;229;229mAgent\u001b[0m                                                                                                \u001b[38;2;210;227;200m│\u001b[0m\n",
              "\u001b[38;2;210;227;200m│\u001b[0m  \u001b[1;38;2;180;180;179mRole:\u001b[0m                                                                                                          \u001b[38;2;210;227;200m│\u001b[0m\n",
              "\u001b[38;2;210;227;200m│\u001b[0m  \u001b[38;2;255;229;229mAct as a content integrity and quality analyst trained to evaluate YouTube video captions. You are an expert \u001b[0m  \u001b[38;2;210;227;200m│\u001b[0m\n",
              "\u001b[38;2;210;227;200m│\u001b[0m  \u001b[38;2;255;229;229min content policy enforcement, linguistic analysis, and media integrity.\u001b[0m                                       \u001b[38;2;210;227;200m│\u001b[0m\n",
              "\u001b[38;2;210;227;200m│\u001b[0m  \u001b[38;2;255;229;229mYou specialize in detecting harmful content (e.g., hate speech, misinformation, fraud) and evaluating the \u001b[0m     \u001b[38;2;210;227;200m│\u001b[0m\n",
              "\u001b[38;2;210;227;200m│\u001b[0m  \u001b[38;2;255;229;229mclarity, educational value, and relevance of language in video captions, using only textual evidence and \u001b[0m      \u001b[38;2;210;227;200m│\u001b[0m\n",
              "\u001b[38;2;210;227;200m│\u001b[0m  \u001b[38;2;255;229;229mwithout assumptions about tone or intent.\u001b[0m                                                                      \u001b[38;2;210;227;200m│\u001b[0m\n",
              "\u001b[38;2;210;227;200m│\u001b[0m                                                                                                                 \u001b[38;2;210;227;200m│\u001b[0m\n",
              "\u001b[38;2;210;227;200m│\u001b[0m                                                                                                                 \u001b[38;2;210;227;200m│\u001b[0m\n",
              "\u001b[38;2;210;227;200m╰─────────────────────────────────────────────────────────────────────────────────────────────────────────────────╯\u001b[0m\n"
            ]
          },
          "metadata": {},
          "output_type": "display_data"
        },
        {
          "data": {
            "application/vnd.jupyter.widget-view+json": {
              "model_id": "ec4ebabe2add44dfa8fc416e018b529e",
              "version_major": 2,
              "version_minor": 0
            },
            "text/plain": [
              "Output()"
            ]
          },
          "metadata": {},
          "output_type": "display_data"
        },
        {
          "data": {
            "text/html": [
              "<pre style=\"white-space:pre;overflow-x:auto;line-height:normal;font-family:Menlo,'DejaVu Sans Mono',consolas,'Courier New',monospace\"></pre>\n"
            ],
            "text/plain": []
          },
          "metadata": {},
          "output_type": "display_data"
        },
        {
          "data": {
            "text/html": [
              "<pre style=\"white-space:pre;overflow-x:auto;line-height:normal;font-family:Menlo,'DejaVu Sans Mono',consolas,'Courier New',monospace\">\n",
              "</pre>\n"
            ],
            "text/plain": [
              "\n"
            ]
          },
          "metadata": {},
          "output_type": "display_data"
        },
        {
          "data": {
            "text/html": [
              "<pre style=\"white-space:pre;overflow-x:auto;line-height:normal;font-family:Menlo,'DejaVu Sans Mono',consolas,'Courier New',monospace\"><span style=\"color: #7f7f7f; text-decoration-color: #7f7f7f\">Response generated in 6.0s</span>\n",
              "</pre>\n"
            ],
            "text/plain": [
              "\u001b[2mResponse generated in 6.0s\u001b[0m\n"
            ]
          },
          "metadata": {},
          "output_type": "display_data"
        },
        {
          "data": {
            "text/html": [
              "<pre style=\"white-space:pre;overflow-x:auto;line-height:normal;font-family:Menlo,'DejaVu Sans Mono',consolas,'Courier New',monospace\"><span style=\"color: #008080; text-decoration-color: #008080\">╭───────────────────────────────────────────────────── Task ──────────────────────────────────────────────────────╮</span>\n",
              "<span style=\"color: #008080; text-decoration-color: #008080\">│</span> Categories: ['hatred', 'educational', 'clarity']                                                                <span style=\"color: #008080; text-decoration-color: #008080\">│</span>\n",
              "<span style=\"color: #008080; text-decoration-color: #008080\">│</span>                                                                                                                 <span style=\"color: #008080; text-decoration-color: #008080\">│</span>\n",
              "<span style=\"color: #008080; text-decoration-color: #008080\">│</span> Transcript: Translator: Joseph Geni Reviewer: Morton Bast So I want to start by offering you a free no-tech     <span style=\"color: #008080; text-decoration-color: #008080\">│</span>\n",
              "<span style=\"color: #008080; text-decoration-color: #008080\">│</span> life hack, and all it requires of you is this: that you change your posture for two minutes. But before I give  <span style=\"color: #008080; text-decoration-color: #008080\">│</span>\n",
              "<span style=\"color: #008080; text-decoration-color: #008080\">│</span> it away, I want to ask you to right now do a little audit of your body and what you're doing with your body. So <span style=\"color: #008080; text-decoration-color: #008080\">│</span>\n",
              "<span style=\"color: #008080; text-decoration-color: #008080\">│</span> how many of you are sort of making yourselves smaller? Maybe you're hunching, crossing your legs, maybe         <span style=\"color: #008080; text-decoration-color: #008080\">│</span>\n",
              "<span style=\"color: #008080; text-decoration-color: #008080\">│</span> wrapping your ankles. Sometimes we hold onto our arms like this. Sometimes we spread out. (Laughter) I see you. <span style=\"color: #008080; text-decoration-color: #008080\">│</span>\n",
              "<span style=\"color: #008080; text-decoration-color: #008080\">│</span> So I want you to pay attention to what you're doing right now. We're going to come back to that in a few        <span style=\"color: #008080; text-decoration-color: #008080\">│</span>\n",
              "<span style=\"color: #008080; text-decoration-color: #008080\">│</span> minutes, and I'm hoping that if you learn to tweak this a little bit, it could significantly change the way     <span style=\"color: #008080; text-decoration-color: #008080\">│</span>\n",
              "<span style=\"color: #008080; text-decoration-color: #008080\">│</span> your life unfolds. So, we're really fascinated with body language, and we're particularly interested in other   <span style=\"color: #008080; text-decoration-color: #008080\">│</span>\n",
              "<span style=\"color: #008080; text-decoration-color: #008080\">│</span> people's body language. You know, we're interested in, like, you know — (Laughter) — an awkward interaction, or <span style=\"color: #008080; text-decoration-color: #008080\">│</span>\n",
              "<span style=\"color: #008080; text-decoration-color: #008080\">│</span> a smile, or a contemptuous glance, or maybe a very awkward wink, or maybe even something like a handshake.      <span style=\"color: #008080; text-decoration-color: #008080\">│</span>\n",
              "<span style=\"color: #008080; text-decoration-color: #008080\">│</span> Narrator: Here they are arriving at Number 10. This lucky policeman gets to shake hands with the President of   <span style=\"color: #008080; text-decoration-color: #008080\">│</span>\n",
              "<span style=\"color: #008080; text-decoration-color: #008080\">│</span> the United States. Here comes the Prime Minister -- No. (Laughter) (Applause) (Laughter) (Applause) Amy Cuddy:  <span style=\"color: #008080; text-decoration-color: #008080\">│</span>\n",
              "<span style=\"color: #008080; text-decoration-color: #008080\">│</span> So a handshake, or the lack of a handshake, can have us talking for weeks and weeks and weeks. Even the BBC and <span style=\"color: #008080; text-decoration-color: #008080\">│</span>\n",
              "<span style=\"color: #008080; text-decoration-color: #008080\">│</span> The New York Times. So obviously when we think about nonverbal behavior, or body language -- but we call it     <span style=\"color: #008080; text-decoration-color: #008080\">│</span>\n",
              "<span style=\"color: #008080; text-decoration-color: #008080\">│</span> nonverbals as social scientists -- it's language, so we think about communication. When we think about          <span style=\"color: #008080; text-decoration-color: #008080\">│</span>\n",
              "<span style=\"color: #008080; text-decoration-color: #008080\">│</span> communication, we think about interactions. So what is your body language communicating to me? What's mine      <span style=\"color: #008080; text-decoration-color: #008080\">│</span>\n",
              "<span style=\"color: #008080; text-decoration-color: #008080\">│</span> communicating to you? And there's a lot of reason to believe that this is a valid way to look at this. So       <span style=\"color: #008080; text-decoration-color: #008080\">│</span>\n",
              "<span style=\"color: #008080; text-decoration-color: #008080\">│</span> social scientists have spent a lot of time looking at the effects of our body language, or other people's body  <span style=\"color: #008080; text-decoration-color: #008080\">│</span>\n",
              "<span style=\"color: #008080; text-decoration-color: #008080\">│</span> language, on judgments. And we make sweeping judgments and inferences from body language. And those judgments   <span style=\"color: #008080; text-decoration-color: #008080\">│</span>\n",
              "<span style=\"color: #008080; text-decoration-color: #008080\">│</span> can predict really meaningful life outcomes like who we hire or promote, who we ask out on a date. For example, <span style=\"color: #008080; text-decoration-color: #008080\">│</span>\n",
              "<span style=\"color: #008080; text-decoration-color: #008080\">│</span> Nalini Ambady, a researcher at Tufts University, shows that when people watch 30-second soundless clips of real <span style=\"color: #008080; text-decoration-color: #008080\">│</span>\n",
              "<span style=\"color: #008080; text-decoration-color: #008080\">│</span> physician-patient interactions, their judgments of the physician's niceness predict whether or not that         <span style=\"color: #008080; text-decoration-color: #008080\">│</span>\n",
              "<span style=\"color: #008080; text-decoration-color: #008080\">│</span> physician will be sued. So it doesn't have to do so much with whether or not that physician was incompetent,    <span style=\"color: #008080; text-decoration-color: #008080\">│</span>\n",
              "<span style=\"color: #008080; text-decoration-color: #008080\">│</span> but do we like that person and how they interacted? Even more dramatic, Alex Todorov at Princeton has shown us  <span style=\"color: #008080; text-decoration-color: #008080\">│</span>\n",
              "<span style=\"color: #008080; text-decoration-color: #008080\">│</span> that judgments of political candidates' faces in just one second predict 70 percent of U.S. Senate and          <span style=\"color: #008080; text-decoration-color: #008080\">│</span>\n",
              "<span style=\"color: #008080; text-decoration-color: #008080\">│</span> gubernatorial race outcomes, and even, let's go digital, emoticons used well in online negotiations can lead    <span style=\"color: #008080; text-decoration-color: #008080\">│</span>\n",
              "<span style=\"color: #008080; text-decoration-color: #008080\">│</span> you to claim more value from that negotiation. If you use them poorly, bad idea. Right? So when we think of     <span style=\"color: #008080; text-decoration-color: #008080\">│</span>\n",
              "<span style=\"color: #008080; text-decoration-color: #008080\">│</span> nonverbals, we think of how we judge others, how they judge us and what the outcomes are. We tend to forget,    <span style=\"color: #008080; text-decoration-color: #008080\">│</span>\n",
              "<span style=\"color: #008080; text-decoration-color: #008080\">│</span> though, the other audience that's influenced by our nonverbals, and that's ourselves. We are also influenced by <span style=\"color: #008080; text-decoration-color: #008080\">│</span>\n",
              "<span style=\"color: #008080; text-decoration-color: #008080\">│</span> our nonverbals, our thoughts and our feelings and our physiology. So what nonverbals am I talking about? I'm a  <span style=\"color: #008080; text-decoration-color: #008080\">│</span>\n",
              "<span style=\"color: #008080; text-decoration-color: #008080\">│</span> social psychologist. I study prejudice, and I teach at a competitive business school, so it was inevitable that <span style=\"color: #008080; text-decoration-color: #008080\">│</span>\n",
              "<span style=\"color: #008080; text-decoration-color: #008080\">│</span> I would become interested in power dynamics. I became especially interested in nonverbal expressions of power   <span style=\"color: #008080; text-decoration-color: #008080\">│</span>\n",
              "<span style=\"color: #008080; text-decoration-color: #008080\">│</span> and dominance. And what are nonverbal expressions of power and dominance? Well, this is what they are. So in    <span style=\"color: #008080; text-decoration-color: #008080\">│</span>\n",
              "<span style=\"color: #008080; text-decoration-color: #008080\">│</span> the animal kingdom, they are about expanding. So you make yourself big, you stretch out, you take up space,     <span style=\"color: #008080; text-decoration-color: #008080\">│</span>\n",
              "<span style=\"color: #008080; text-decoration-color: #008080\">│</span> you're basically opening up. It's about opening up. And this is true across the animal kingdom. It's not just   <span style=\"color: #008080; text-decoration-color: #008080\">│</span>\n",
              "<span style=\"color: #008080; text-decoration-color: #008080\">│</span> limited to primates. And humans do the same thing. (Laughter) So they do this both when they have power sort of <span style=\"color: #008080; text-decoration-color: #008080\">│</span>\n",
              "<span style=\"color: #008080; text-decoration-color: #008080\">│</span> chronically, and also when they're feeling powerful in the moment. And this one is especially interesting       <span style=\"color: #008080; text-decoration-color: #008080\">│</span>\n",
              "<span style=\"color: #008080; text-decoration-color: #008080\">│</span> because it really shows us how universal and old these expressions of power are. This expression, which is      <span style=\"color: #008080; text-decoration-color: #008080\">│</span>\n",
              "<span style=\"color: #008080; text-decoration-color: #008080\">│</span> known as pride, Jessica Tracy has studied. She shows that people who are born with sight and people who are     <span style=\"color: #008080; text-decoration-color: #008080\">│</span>\n",
              "<span style=\"color: #008080; text-decoration-color: #008080\">│</span> congenitally blind do this when they win at a physical competition. So when they cross the finish line and      <span style=\"color: #008080; text-decoration-color: #008080\">│</span>\n",
              "<span style=\"color: #008080; text-decoration-color: #008080\">│</span> they've won, it doesn't matter if they've never seen anyone do it. They do this. So the arms up in the V, the   <span style=\"color: #008080; text-decoration-color: #008080\">│</span>\n",
              "<span style=\"color: #008080; text-decoration-color: #008080\">│</span> chin is slightly lifted. What do we do when we feel powerless? We do exactly the opposite. We close up. We wrap <span style=\"color: #008080; text-decoration-color: #008080\">│</span>\n",
              "<span style=\"color: #008080; text-decoration-color: #008080\">│</span> ourselves up. We make ourselves small. We don't want to bump into the person next to us. So again, both animals <span style=\"color: #008080; text-decoration-color: #008080\">│</span>\n",
              "<span style=\"color: #008080; text-decoration-color: #008080\">│</span> and humans do the same thing. And this is what happens when you put together high and low power. So what we     <span style=\"color: #008080; text-decoration-color: #008080\">│</span>\n",
              "<span style=\"color: #008080; text-decoration-color: #008080\">│</span> tend to do when it comes to power is that we complement the other's nonverbals. So if someone is being really   <span style=\"color: #008080; text-decoration-color: #008080\">│</span>\n",
              "<span style=\"color: #008080; text-decoration-color: #008080\">│</span> powerful with us, we tend to make ourselves smaller. We don't mirror them. We do the opposite of them. So I'm   <span style=\"color: #008080; text-decoration-color: #008080\">│</span>\n",
              "<span style=\"color: #008080; text-decoration-color: #008080\">│</span> watching this behavior in the classroom, and what do I notice? I notice that MBA students really exhibit the    <span style=\"color: #008080; text-decoration-color: #008080\">│</span>\n",
              "<span style=\"color: #008080; text-decoration-color: #008080\">│</span> full range of power nonverbals. So you have people who are like caricatures of alphas, really coming into the   <span style=\"color: #008080; text-decoration-color: #008080\">│</span>\n",
              "<span style=\"color: #008080; text-decoration-color: #008080\">│</span> room, they get right into the middle of the room before class even starts, like they really want to occupy      <span style=\"color: #008080; text-decoration-color: #008080\">│</span>\n",
              "<span style=\"color: #008080; text-decoration-color: #008080\">│</span> space. When they sit down, they're sort of spread out. They raise their hands like this. You have other people  <span style=\"color: #008080; text-decoration-color: #008080\">│</span>\n",
              "<span style=\"color: #008080; text-decoration-color: #008080\">│</span> who are virtually collapsing when they come in. As soon they come in, you see it. You see it on their faces and <span style=\"color: #008080; text-decoration-color: #008080\">│</span>\n",
              "<span style=\"color: #008080; text-decoration-color: #008080\">│</span> their bodies, and they sit in their chair and they make themselves tiny, and they go like this when they raise  <span style=\"color: #008080; text-decoration-color: #008080\">│</span>\n",
              "<span style=\"color: #008080; text-decoration-color: #008080\">│</span> their hand. I notice a couple of things about this. One, you're not going to be surprised. It seems to be       <span style=\"color: #008080; text-decoration-color: #008080\">│</span>\n",
              "<span style=\"color: #008080; text-decoration-color: #008080\">│</span> related to gender. So women are much more likely to do this kind of thing than men. Women feel chronically less <span style=\"color: #008080; text-decoration-color: #008080\">│</span>\n",
              "<span style=\"color: #008080; text-decoration-color: #008080\">│</span> powerful than men, so this is not surprising. But the other thing I noticed is that it also seemed to be        <span style=\"color: #008080; text-decoration-color: #008080\">│</span>\n",
              "<span style=\"color: #008080; text-decoration-color: #008080\">│</span> related to the extent to which the students were participating, and how well they were participating. And this  <span style=\"color: #008080; text-decoration-color: #008080\">│</span>\n",
              "<span style=\"color: #008080; text-decoration-color: #008080\">│</span> is really important in the MBA classroom, because participation counts for half the grade. So business schools  <span style=\"color: #008080; text-decoration-color: #008080\">│</span>\n",
              "<span style=\"color: #008080; text-decoration-color: #008080\">│</span> have been struggling with this gender grade gap. You get these equally qualified women and men coming in and    <span style=\"color: #008080; text-decoration-color: #008080\">│</span>\n",
              "<span style=\"color: #008080; text-decoration-color: #008080\">│</span> then you get these differences in grades, and it seems to be partly attributable to participation. So I started <span style=\"color: #008080; text-decoration-color: #008080\">│</span>\n",
              "<span style=\"color: #008080; text-decoration-color: #008080\">│</span> to wonder, you know, okay, so you have these people coming in like this, and they're participating. Is it       <span style=\"color: #008080; text-decoration-color: #008080\">│</span>\n",
              "<span style=\"color: #008080; text-decoration-color: #008080\">│</span> possible that we could get people to fake it and would it lead them to participate more? So my main             <span style=\"color: #008080; text-decoration-color: #008080\">│</span>\n",
              "<span style=\"color: #008080; text-decoration-color: #008080\">│</span> collaborator Dana Carney, who's at Berkeley, and I really wanted to know, can you fake it till you make it?     <span style=\"color: #008080; text-decoration-color: #008080\">│</span>\n",
              "<span style=\"color: #008080; text-decoration-color: #008080\">│</span> Like, can you do this just for a little while and actually experience a behavioral outcome that makes you seem  <span style=\"color: #008080; text-decoration-color: #008080\">│</span>\n",
              "<span style=\"color: #008080; text-decoration-color: #008080\">│</span> more powerful? So we know that our nonverbals govern how other people think and feel about us. There's a lot of <span style=\"color: #008080; text-decoration-color: #008080\">│</span>\n",
              "<span style=\"color: #008080; text-decoration-color: #008080\">│</span> evidence. But our question really was, do our nonverbals govern how we think and feel about ourselves? There's  <span style=\"color: #008080; text-decoration-color: #008080\">│</span>\n",
              "<span style=\"color: #008080; text-decoration-color: #008080\">│</span> some evidence that they do. So, for example, we smile when we feel happy, but also, when we're forced to smile  <span style=\"color: #008080; text-decoration-color: #008080\">│</span>\n",
              "<span style=\"color: #008080; text-decoration-color: #008080\">│</span> by holding a pen in our teeth like this, it makes us feel happy. So it goes both ways. When it comes to power,  <span style=\"color: #008080; text-decoration-color: #008080\">│</span>\n",
              "<span style=\"color: #008080; text-decoration-color: #008080\">│</span> it also goes both ways. So when you feel powerful, you're more likely to do this, but it's also possible that   <span style=\"color: #008080; text-decoration-color: #008080\">│</span>\n",
              "<span style=\"color: #008080; text-decoration-color: #008080\">│</span> when you pretend to be powerful, you are more likely to actually feel powerful. So the second question really   <span style=\"color: #008080; text-decoration-color: #008080\">│</span>\n",
              "<span style=\"color: #008080; text-decoration-color: #008080\">│</span> was, you know, so we know that our minds change our bodies, but is it also true that our bodies change our      <span style=\"color: #008080; text-decoration-color: #008080\">│</span>\n",
              "<span style=\"color: #008080; text-decoration-color: #008080\">│</span> minds? And when I say minds, in the case of the powerful, what am I talking about? So I'm talking about         <span style=\"color: #008080; text-decoration-color: #008080\">│</span>\n",
              "<span style=\"color: #008080; text-decoration-color: #008080\">│</span> thoughts and feelings and the sort of physiological things that make up our thoughts and feelings, and in my    <span style=\"color: #008080; text-decoration-color: #008080\">│</span>\n",
              "<span style=\"color: #008080; text-decoration-color: #008080\">│</span> case, that's hormones. I look at hormones. So what do the minds of the powerful versus the powerless look like? <span style=\"color: #008080; text-decoration-color: #008080\">│</span>\n",
              "<span style=\"color: #008080; text-decoration-color: #008080\">│</span> So powerful people tend to be, not surprisingly, more assertive and more confident, more optimistic. They       <span style=\"color: #008080; text-decoration-color: #008080\">│</span>\n",
              "<span style=\"color: #008080; text-decoration-color: #008080\">│</span> actually feel they're going to win even at games of chance. They also tend to be able to think more abstractly. <span style=\"color: #008080; text-decoration-color: #008080\">│</span>\n",
              "<span style=\"color: #008080; text-decoration-color: #008080\">│</span> So there are a lot of differences. They take more risks. There are a lot of differences between powerful and    <span style=\"color: #008080; text-decoration-color: #008080\">│</span>\n",
              "<span style=\"color: #008080; text-decoration-color: #008080\">│</span> powerless people. Physiologically, there also are differences on two key hormones: testosterone, which is the   <span style=\"color: #008080; text-decoration-color: #008080\">│</span>\n",
              "<span style=\"color: #008080; text-decoration-color: #008080\">│</span> dominance hormone, and cortisol, which is the stress hormone. So what we find is that high-power alpha males in <span style=\"color: #008080; text-decoration-color: #008080\">│</span>\n",
              "<span style=\"color: #008080; text-decoration-color: #008080\">│</span> primate hierarchies have high testosterone and low cortisol, and powerful and effective leaders also have high  <span style=\"color: #008080; text-decoration-color: #008080\">│</span>\n",
              "<span style=\"color: #008080; text-decoration-color: #008080\">│</span> testosterone and low cortisol. So what does that mean? When you think about power, people tended to think only  <span style=\"color: #008080; text-decoration-color: #008080\">│</span>\n",
              "<span style=\"color: #008080; text-decoration-color: #008080\">│</span> about testosterone, because that was about dominance. But really, power is also about how you react to stress.  <span style=\"color: #008080; text-decoration-color: #008080\">│</span>\n",
              "<span style=\"color: #008080; text-decoration-color: #008080\">│</span> So do you want the high-power leader that's dominant, high on testosterone, but really stress reactive?         <span style=\"color: #008080; text-decoration-color: #008080\">│</span>\n",
              "<span style=\"color: #008080; text-decoration-color: #008080\">│</span> Probably not, right? You want the person who's powerful and assertive and dominant, but not very stress         <span style=\"color: #008080; text-decoration-color: #008080\">│</span>\n",
              "<span style=\"color: #008080; text-decoration-color: #008080\">│</span> reactive, the person who's laid back. So we know that in primate hierarchies, if an alpha needs to take over,   <span style=\"color: #008080; text-decoration-color: #008080\">│</span>\n",
              "<span style=\"color: #008080; text-decoration-color: #008080\">│</span> if an individual needs to take over an alpha role sort of suddenly, within a few days, that individual's        <span style=\"color: #008080; text-decoration-color: #008080\">│</span>\n",
              "<span style=\"color: #008080; text-decoration-color: #008080\">│</span> testosterone has gone up significantly and his cortisol has dropped significantly. So we have this evidence,    <span style=\"color: #008080; text-decoration-color: #008080\">│</span>\n",
              "<span style=\"color: #008080; text-decoration-color: #008080\">│</span> both that the body can shape the mind, at least at the facial level, and also that role changes can shape the   <span style=\"color: #008080; text-decoration-color: #008080\">│</span>\n",
              "<span style=\"color: #008080; text-decoration-color: #008080\">│</span> mind. So what happens, okay, you take a role change, what happens if you do that at a really minimal level,     <span style=\"color: #008080; text-decoration-color: #008080\">│</span>\n",
              "<span style=\"color: #008080; text-decoration-color: #008080\">│</span> like this tiny manipulation, this tiny intervention? \"For two minutes,\" you say, \"I want you to stand like      <span style=\"color: #008080; text-decoration-color: #008080\">│</span>\n",
              "<span style=\"color: #008080; text-decoration-color: #008080\">│</span> this, and it's going to make you feel more powerful.\" So this is what we did. We decided to bring people into   <span style=\"color: #008080; text-decoration-color: #008080\">│</span>\n",
              "<span style=\"color: #008080; text-decoration-color: #008080\">│</span> the lab and run a little experiment, and these people adopted, for two minutes, either high-power poses or      <span style=\"color: #008080; text-decoration-color: #008080\">│</span>\n",
              "<span style=\"color: #008080; text-decoration-color: #008080\">│</span> low-power poses, and I'm just going to show you five of the poses, although they took on only two. So here's    <span style=\"color: #008080; text-decoration-color: #008080\">│</span>\n",
              "<span style=\"color: #008080; text-decoration-color: #008080\">│</span> one. A couple more. This one has been dubbed the \"Wonder Woman\" by the media. Here are a couple more. So you    <span style=\"color: #008080; text-decoration-color: #008080\">│</span>\n",
              "<span style=\"color: #008080; text-decoration-color: #008080\">│</span> can be standing or you can be sitting. And here are the low-power poses. So you're folding up, you're making    <span style=\"color: #008080; text-decoration-color: #008080\">│</span>\n",
              "<span style=\"color: #008080; text-decoration-color: #008080\">│</span> yourself small. This one is very low-power. When you're touching your neck, you're really protecting yourself.  <span style=\"color: #008080; text-decoration-color: #008080\">│</span>\n",
              "<span style=\"color: #008080; text-decoration-color: #008080\">│</span> So this is what happens. They come in, they spit into a vial, for two minutes, we say, \"You need to do this or  <span style=\"color: #008080; text-decoration-color: #008080\">│</span>\n",
              "<span style=\"color: #008080; text-decoration-color: #008080\">│</span> this.\" They don't look at pictures of the poses. We don't want to prime them with a concept of power. We want   <span style=\"color: #008080; text-decoration-color: #008080\">│</span>\n",
              "<span style=\"color: #008080; text-decoration-color: #008080\">│</span> them to be feeling power. So two minutes they do this. We then ask them, \"How powerful do you feel?\" on a       <span style=\"color: #008080; text-decoration-color: #008080\">│</span>\n",
              "<span style=\"color: #008080; text-decoration-color: #008080\">│</span> series of items, and then we give them an opportunity to gamble, and then we take another saliva sample. That's <span style=\"color: #008080; text-decoration-color: #008080\">│</span>\n",
              "<span style=\"color: #008080; text-decoration-color: #008080\">│</span> it. That's the whole experiment. So this is what we find. Risk tolerance, which is the gambling, we find that   <span style=\"color: #008080; text-decoration-color: #008080\">│</span>\n",
              "<span style=\"color: #008080; text-decoration-color: #008080\">│</span> when you are in the high-power pose condition, 86 percent of you will gamble. When you're in the low-power pose <span style=\"color: #008080; text-decoration-color: #008080\">│</span>\n",
              "<span style=\"color: #008080; text-decoration-color: #008080\">│</span> condition, only 60 percent, and that's a whopping significant difference. Here's what we find on testosterone.  <span style=\"color: #008080; text-decoration-color: #008080\">│</span>\n",
              "<span style=\"color: #008080; text-decoration-color: #008080\">│</span> From their baseline when they come in, high-power people experience about a 20-percent increase, and low-power  <span style=\"color: #008080; text-decoration-color: #008080\">│</span>\n",
              "<span style=\"color: #008080; text-decoration-color: #008080\">│</span> people experience about a 10-percent decrease. So again, two minutes, and you get these changes. Here's what    <span style=\"color: #008080; text-decoration-color: #008080\">│</span>\n",
              "<span style=\"color: #008080; text-decoration-color: #008080\">│</span> you get on cortisol. High-power people experience about a 25-percent decrease, and the low-power people         <span style=\"color: #008080; text-decoration-color: #008080\">│</span>\n",
              "<span style=\"color: #008080; text-decoration-color: #008080\">│</span> experience about a 15-percent increase. So two minutes lead to these hormonal changes that configure your brain <span style=\"color: #008080; text-decoration-color: #008080\">│</span>\n",
              "<span style=\"color: #008080; text-decoration-color: #008080\">│</span> to basically be either assertive, confident and comfortable, or really stress-reactive, and feeling sort of     <span style=\"color: #008080; text-decoration-color: #008080\">│</span>\n",
              "<span style=\"color: #008080; text-decoration-color: #008080\">│</span> shut down. And we've all had the feeling, right? So it seems that our nonverbals do govern how we think and     <span style=\"color: #008080; text-decoration-color: #008080\">│</span>\n",
              "<span style=\"color: #008080; text-decoration-color: #008080\">│</span> feel about ourselves, so it's not just others, but it's also ourselves. Also, our bodies change our minds. But  <span style=\"color: #008080; text-decoration-color: #008080\">│</span>\n",
              "<span style=\"color: #008080; text-decoration-color: #008080\">│</span> the next question, of course, is, can power posing for a few minutes really change your life in meaningful      <span style=\"color: #008080; text-decoration-color: #008080\">│</span>\n",
              "<span style=\"color: #008080; text-decoration-color: #008080\">│</span> ways? This is in the lab, it's this little task, it's just a couple of minutes. Where can you actually apply    <span style=\"color: #008080; text-decoration-color: #008080\">│</span>\n",
              "<span style=\"color: #008080; text-decoration-color: #008080\">│</span> this? Which we cared about, of course. And so we think where you want to use this is evaluative situations,     <span style=\"color: #008080; text-decoration-color: #008080\">│</span>\n",
              "<span style=\"color: #008080; text-decoration-color: #008080\">│</span> like social threat situations. Where are you being evaluated, either by your friends? For teenagers, it's at    <span style=\"color: #008080; text-decoration-color: #008080\">│</span>\n",
              "<span style=\"color: #008080; text-decoration-color: #008080\">│</span> the lunchroom table. For some people it's speaking at a school board meeting. It might be giving a pitch or     <span style=\"color: #008080; text-decoration-color: #008080\">│</span>\n",
              "<span style=\"color: #008080; text-decoration-color: #008080\">│</span> giving a talk like this or doing a job interview. We decided that the one that most people could relate to      <span style=\"color: #008080; text-decoration-color: #008080\">│</span>\n",
              "<span style=\"color: #008080; text-decoration-color: #008080\">│</span> because most people had been through, was the job interview. So we published these findings, and the media are  <span style=\"color: #008080; text-decoration-color: #008080\">│</span>\n",
              "<span style=\"color: #008080; text-decoration-color: #008080\">│</span> all over it, and they say, Okay, so this is what you do when you go in for the job interview, right? (Laughter) <span style=\"color: #008080; text-decoration-color: #008080\">│</span>\n",
              "<span style=\"color: #008080; text-decoration-color: #008080\">│</span> You know, so we were of course horrified, and said, Oh my God, no, that's not what we meant at all. For         <span style=\"color: #008080; text-decoration-color: #008080\">│</span>\n",
              "<span style=\"color: #008080; text-decoration-color: #008080\">│</span> numerous reasons, no, don't do that. Again, this is not about you talking to other people. It's you talking to  <span style=\"color: #008080; text-decoration-color: #008080\">│</span>\n",
              "<span style=\"color: #008080; text-decoration-color: #008080\">│</span> yourself. What do you do before you go into a job interview? You do this. You're sitting down. You're looking   <span style=\"color: #008080; text-decoration-color: #008080\">│</span>\n",
              "<span style=\"color: #008080; text-decoration-color: #008080\">│</span> at your iPhone -- or your Android, not trying to leave anyone out. You're looking at your notes, you're         <span style=\"color: #008080; text-decoration-color: #008080\">│</span>\n",
              "<span style=\"color: #008080; text-decoration-color: #008080\">│</span> hunching up, making yourself small, when really what you should be doing maybe is this, like, in the bathroom,  <span style=\"color: #008080; text-decoration-color: #008080\">│</span>\n",
              "<span style=\"color: #008080; text-decoration-color: #008080\">│</span> right? Do that. Find two minutes. So that's what we want to test. Okay? So we bring people into a lab, and they <span style=\"color: #008080; text-decoration-color: #008080\">│</span>\n",
              "<span style=\"color: #008080; text-decoration-color: #008080\">│</span> do either high- or low-power poses again, they go through a very stressful job interview. It's five minutes     <span style=\"color: #008080; text-decoration-color: #008080\">│</span>\n",
              "<span style=\"color: #008080; text-decoration-color: #008080\">│</span> long. They are being recorded. They're being judged also, and the judges are trained to give no nonverbal       <span style=\"color: #008080; text-decoration-color: #008080\">│</span>\n",
              "<span style=\"color: #008080; text-decoration-color: #008080\">│</span> feedback, so they look like this. Imagine this is the person interviewing you. So for five minutes, nothing,    <span style=\"color: #008080; text-decoration-color: #008080\">│</span>\n",
              "<span style=\"color: #008080; text-decoration-color: #008080\">│</span> and this is worse than being heckled. People hate this. It's what Marianne LaFrance calls \"standing in social   <span style=\"color: #008080; text-decoration-color: #008080\">│</span>\n",
              "<span style=\"color: #008080; text-decoration-color: #008080\">│</span> quicksand.\" So this really spikes your cortisol. So this is the job interview we put them through, because we   <span style=\"color: #008080; text-decoration-color: #008080\">│</span>\n",
              "<span style=\"color: #008080; text-decoration-color: #008080\">│</span> really wanted to see what happened. We then have these coders look at these tapes, four of them. They're blind  <span style=\"color: #008080; text-decoration-color: #008080\">│</span>\n",
              "<span style=\"color: #008080; text-decoration-color: #008080\">│</span> to the hypothesis. They're blind to the conditions. They have no idea who's been posing in what pose, and they  <span style=\"color: #008080; text-decoration-color: #008080\">│</span>\n",
              "<span style=\"color: #008080; text-decoration-color: #008080\">│</span> end up looking at these sets of tapes, and they say, \"We want to hire these people,\" all the high-power posers. <span style=\"color: #008080; text-decoration-color: #008080\">│</span>\n",
              "<span style=\"color: #008080; text-decoration-color: #008080\">│</span> \"We don't want to hire these people. We also evaluate these people much more positively overall.\" But what's    <span style=\"color: #008080; text-decoration-color: #008080\">│</span>\n",
              "<span style=\"color: #008080; text-decoration-color: #008080\">│</span> driving it? It's not about the content of the speech. It's about the presence that they're bringing to the      <span style=\"color: #008080; text-decoration-color: #008080\">│</span>\n",
              "<span style=\"color: #008080; text-decoration-color: #008080\">│</span> speech. Because we rate them on all these variables related to competence, like, how well-structured is the     <span style=\"color: #008080; text-decoration-color: #008080\">│</span>\n",
              "<span style=\"color: #008080; text-decoration-color: #008080\">│</span> speech? How good is it? What are their qualifications? No effect on those things. This is what's affected.      <span style=\"color: #008080; text-decoration-color: #008080\">│</span>\n",
              "<span style=\"color: #008080; text-decoration-color: #008080\">│</span> These kinds of things. People are bringing their true selves, basically. They're bringing themselves. They      <span style=\"color: #008080; text-decoration-color: #008080\">│</span>\n",
              "<span style=\"color: #008080; text-decoration-color: #008080\">│</span> bring their ideas, but as themselves, with no, you know, residue over them. So this is what's driving the       <span style=\"color: #008080; text-decoration-color: #008080\">│</span>\n",
              "<span style=\"color: #008080; text-decoration-color: #008080\">│</span> effect, or mediating the effect. So when I tell people about this, that our bodies change our minds and our     <span style=\"color: #008080; text-decoration-color: #008080\">│</span>\n",
              "<span style=\"color: #008080; text-decoration-color: #008080\">│</span> minds can change our behavior, and our behavior can change our outcomes, they say to me, \"It feels fake.\"       <span style=\"color: #008080; text-decoration-color: #008080\">│</span>\n",
              "<span style=\"color: #008080; text-decoration-color: #008080\">│</span> Right? So I said, fake it till you make it. It's not me. I don't want to get there and then still feel like a   <span style=\"color: #008080; text-decoration-color: #008080\">│</span>\n",
              "<span style=\"color: #008080; text-decoration-color: #008080\">│</span> fraud. I don't want to feel like an impostor. I don't want to get there only to feel like I'm not supposed to   <span style=\"color: #008080; text-decoration-color: #008080\">│</span>\n",
              "<span style=\"color: #008080; text-decoration-color: #008080\">│</span> be here. And that really resonated with me, because I want to tell you a little story about being an impostor   <span style=\"color: #008080; text-decoration-color: #008080\">│</span>\n",
              "<span style=\"color: #008080; text-decoration-color: #008080\">│</span> and feeling like I'm not supposed to be here. When I was 19, I was in a really bad car accident. I was thrown   <span style=\"color: #008080; text-decoration-color: #008080\">│</span>\n",
              "<span style=\"color: #008080; text-decoration-color: #008080\">│</span> out of a car, rolled several times. I was thrown from the car. And I woke up in a head injury rehab ward, and I <span style=\"color: #008080; text-decoration-color: #008080\">│</span>\n",
              "<span style=\"color: #008080; text-decoration-color: #008080\">│</span> had been withdrawn from college, and I learned that my IQ had dropped by two standard deviations, which was     <span style=\"color: #008080; text-decoration-color: #008080\">│</span>\n",
              "<span style=\"color: #008080; text-decoration-color: #008080\">│</span> very traumatic. I knew my IQ because I had identified with being smart, and I had been called gifted as a       <span style=\"color: #008080; text-decoration-color: #008080\">│</span>\n",
              "<span style=\"color: #008080; text-decoration-color: #008080\">│</span> child. So I'm taken out of college, I keep trying to go back. They say, \"You're not going to finish college.    <span style=\"color: #008080; text-decoration-color: #008080\">│</span>\n",
              "<span style=\"color: #008080; text-decoration-color: #008080\">│</span> Just, you know, there are other things for you to do, but that's not going to work out for you.\" So I really    <span style=\"color: #008080; text-decoration-color: #008080\">│</span>\n",
              "<span style=\"color: #008080; text-decoration-color: #008080\">│</span> struggled with this, and I have to say, having your identity taken from you, your core identity, and for me it  <span style=\"color: #008080; text-decoration-color: #008080\">│</span>\n",
              "<span style=\"color: #008080; text-decoration-color: #008080\">│</span> was being smart, having that taken from you, there's nothing that leaves you feeling more powerless than that.  <span style=\"color: #008080; text-decoration-color: #008080\">│</span>\n",
              "<span style=\"color: #008080; text-decoration-color: #008080\">│</span> So I felt entirely powerless. I worked and worked, and I got lucky, and worked, and got lucky, and worked.      <span style=\"color: #008080; text-decoration-color: #008080\">│</span>\n",
              "<span style=\"color: #008080; text-decoration-color: #008080\">│</span> Eventually I graduated from college. It took me four years longer than my peers, and I convinced someone, my    <span style=\"color: #008080; text-decoration-color: #008080\">│</span>\n",
              "<span style=\"color: #008080; text-decoration-color: #008080\">│</span> angel advisor, Susan Fiske, to take me on, and so I ended up at Princeton, and I was like, I am not supposed to <span style=\"color: #008080; text-decoration-color: #008080\">│</span>\n",
              "<span style=\"color: #008080; text-decoration-color: #008080\">│</span> be here. I am an impostor. And the night before my first-year talk, and the first-year talk at Princeton is a   <span style=\"color: #008080; text-decoration-color: #008080\">│</span>\n",
              "<span style=\"color: #008080; text-decoration-color: #008080\">│</span> 20-minute talk to 20 people. That's it. I was so afraid of being found out the next day that I called her and   <span style=\"color: #008080; text-decoration-color: #008080\">│</span>\n",
              "<span style=\"color: #008080; text-decoration-color: #008080\">│</span> said, \"I'm quitting.\" She was like, \"You are not quitting, because I took a gamble on you, and you're staying.  <span style=\"color: #008080; text-decoration-color: #008080\">│</span>\n",
              "<span style=\"color: #008080; text-decoration-color: #008080\">│</span> You're going to stay, and this is what you're going to do. You are going to fake it. You're going to do every   <span style=\"color: #008080; text-decoration-color: #008080\">│</span>\n",
              "<span style=\"color: #008080; text-decoration-color: #008080\">│</span> talk that you ever get asked to do. You're just going to do it and do it and do it, even if you're terrified    <span style=\"color: #008080; text-decoration-color: #008080\">│</span>\n",
              "<span style=\"color: #008080; text-decoration-color: #008080\">│</span> and just paralyzed and having an out-of-body experience, until you have this moment where you say, 'Oh my gosh, <span style=\"color: #008080; text-decoration-color: #008080\">│</span>\n",
              "<span style=\"color: #008080; text-decoration-color: #008080\">│</span> I'm doing it. Like, I have become this. I am actually doing this.'\" So that's what I did. Five years in grad    <span style=\"color: #008080; text-decoration-color: #008080\">│</span>\n",
              "<span style=\"color: #008080; text-decoration-color: #008080\">│</span> school, a few years, you know, I'm at Northwestern, I moved to Harvard, I'm at Harvard, I'm not really thinking <span style=\"color: #008080; text-decoration-color: #008080\">│</span>\n",
              "<span style=\"color: #008080; text-decoration-color: #008080\">│</span> about it anymore, but for a long time I had been thinking, \"Not supposed to be here.\" So at the end of my first <span style=\"color: #008080; text-decoration-color: #008080\">│</span>\n",
              "<span style=\"color: #008080; text-decoration-color: #008080\">│</span> year at Harvard, a student who had not talked in class the entire semester, who I had said, \"Look, you've gotta <span style=\"color: #008080; text-decoration-color: #008080\">│</span>\n",
              "<span style=\"color: #008080; text-decoration-color: #008080\">│</span> participate or else you're going to fail,\" came into my office. I really didn't know her at all. She came in    <span style=\"color: #008080; text-decoration-color: #008080\">│</span>\n",
              "<span style=\"color: #008080; text-decoration-color: #008080\">│</span> totally defeated, and she said, \"I'm not supposed to be here.\" And that was the moment for me. Because two      <span style=\"color: #008080; text-decoration-color: #008080\">│</span>\n",
              "<span style=\"color: #008080; text-decoration-color: #008080\">│</span> things happened. One was that I realized, oh my gosh, I don't feel like that anymore. I don't feel that         <span style=\"color: #008080; text-decoration-color: #008080\">│</span>\n",
              "<span style=\"color: #008080; text-decoration-color: #008080\">│</span> anymore, but she does, and I get that feeling. And the second was, she is supposed to be here! Like, she can    <span style=\"color: #008080; text-decoration-color: #008080\">│</span>\n",
              "<span style=\"color: #008080; text-decoration-color: #008080\">│</span> fake it, she can become it. So I was like, \"Yes, you are! You are supposed to be here! And tomorrow you're      <span style=\"color: #008080; text-decoration-color: #008080\">│</span>\n",
              "<span style=\"color: #008080; text-decoration-color: #008080\">│</span> going to fake it, you're going to make yourself powerful, and, you know -- (Applause) And you're going to go    <span style=\"color: #008080; text-decoration-color: #008080\">│</span>\n",
              "<span style=\"color: #008080; text-decoration-color: #008080\">│</span> into the classroom, and you are going to give the best comment ever.\" You know? And she gave the best comment   <span style=\"color: #008080; text-decoration-color: #008080\">│</span>\n",
              "<span style=\"color: #008080; text-decoration-color: #008080\">│</span> ever, and people turned around and were like, oh my God, I didn't even notice her sitting there. (Laughter) She <span style=\"color: #008080; text-decoration-color: #008080\">│</span>\n",
              "<span style=\"color: #008080; text-decoration-color: #008080\">│</span> comes back to me months later, and I realized that she had not just faked it till she made it, she had actually <span style=\"color: #008080; text-decoration-color: #008080\">│</span>\n",
              "<span style=\"color: #008080; text-decoration-color: #008080\">│</span> faked it till she became it. So she had changed. And so I want to say to you, don't fake it till you make it.   <span style=\"color: #008080; text-decoration-color: #008080\">│</span>\n",
              "<span style=\"color: #008080; text-decoration-color: #008080\">│</span> Fake it till you become it. Do it enough until you actually become it and internalize. The last thing I'm going <span style=\"color: #008080; text-decoration-color: #008080\">│</span>\n",
              "<span style=\"color: #008080; text-decoration-color: #008080\">│</span> to leave you with is this. Tiny tweaks can lead to big changes. So, this is two minutes. Two minutes, two       <span style=\"color: #008080; text-decoration-color: #008080\">│</span>\n",
              "<span style=\"color: #008080; text-decoration-color: #008080\">│</span> minutes, two minutes. Before you go into the next stressful evaluative situation, for two minutes, try doing    <span style=\"color: #008080; text-decoration-color: #008080\">│</span>\n",
              "<span style=\"color: #008080; text-decoration-color: #008080\">│</span> this, in the elevator, in a bathroom stall, at your desk behind closed doors. That's what you want to do.       <span style=\"color: #008080; text-decoration-color: #008080\">│</span>\n",
              "<span style=\"color: #008080; text-decoration-color: #008080\">│</span> Configure your brain to cope the best in that situation. Get your testosterone up. Get your cortisol down.      <span style=\"color: #008080; text-decoration-color: #008080\">│</span>\n",
              "<span style=\"color: #008080; text-decoration-color: #008080\">│</span> Don't leave that situation feeling like, oh, I didn't show them who I am. Leave that situation feeling like, I  <span style=\"color: #008080; text-decoration-color: #008080\">│</span>\n",
              "<span style=\"color: #008080; text-decoration-color: #008080\">│</span> really feel like I got to say who I am and show who I am. So I want to ask you first, you know, both to try     <span style=\"color: #008080; text-decoration-color: #008080\">│</span>\n",
              "<span style=\"color: #008080; text-decoration-color: #008080\">│</span> power posing, and also I want to ask you to share the science, because this is simple. I don't have ego         <span style=\"color: #008080; text-decoration-color: #008080\">│</span>\n",
              "<span style=\"color: #008080; text-decoration-color: #008080\">│</span> involved in this. (Laughter) Give it away. Share it with people, because the people who can use it the most are <span style=\"color: #008080; text-decoration-color: #008080\">│</span>\n",
              "<span style=\"color: #008080; text-decoration-color: #008080\">│</span> the ones with no resources and no technology and no status and no power. Give it to them bec...                 <span style=\"color: #008080; text-decoration-color: #008080\">│</span>\n",
              "<span style=\"color: #008080; text-decoration-color: #008080\">╰─────────────────────────────────────────────────────────────────────────────────────────────────────────────────╯</span>\n",
              "</pre>\n"
            ],
            "text/plain": [
              "\u001b[36m╭─\u001b[0m\u001b[36m────────────────────────────────────────────────────\u001b[0m\u001b[36m Task \u001b[0m\u001b[36m─────────────────────────────────────────────────────\u001b[0m\u001b[36m─╮\u001b[0m\n",
              "\u001b[36m│\u001b[0m Categories: ['hatred', 'educational', 'clarity']                                                                \u001b[36m│\u001b[0m\n",
              "\u001b[36m│\u001b[0m                                                                                                                 \u001b[36m│\u001b[0m\n",
              "\u001b[36m│\u001b[0m Transcript: Translator: Joseph Geni Reviewer: Morton Bast So I want to start by offering you a free no-tech     \u001b[36m│\u001b[0m\n",
              "\u001b[36m│\u001b[0m life hack, and all it requires of you is this: that you change your posture for two minutes. But before I give  \u001b[36m│\u001b[0m\n",
              "\u001b[36m│\u001b[0m it away, I want to ask you to right now do a little audit of your body and what you're doing with your body. So \u001b[36m│\u001b[0m\n",
              "\u001b[36m│\u001b[0m how many of you are sort of making yourselves smaller? Maybe you're hunching, crossing your legs, maybe         \u001b[36m│\u001b[0m\n",
              "\u001b[36m│\u001b[0m wrapping your ankles. Sometimes we hold onto our arms like this. Sometimes we spread out. (Laughter) I see you. \u001b[36m│\u001b[0m\n",
              "\u001b[36m│\u001b[0m So I want you to pay attention to what you're doing right now. We're going to come back to that in a few        \u001b[36m│\u001b[0m\n",
              "\u001b[36m│\u001b[0m minutes, and I'm hoping that if you learn to tweak this a little bit, it could significantly change the way     \u001b[36m│\u001b[0m\n",
              "\u001b[36m│\u001b[0m your life unfolds. So, we're really fascinated with body language, and we're particularly interested in other   \u001b[36m│\u001b[0m\n",
              "\u001b[36m│\u001b[0m people's body language. You know, we're interested in, like, you know — (Laughter) — an awkward interaction, or \u001b[36m│\u001b[0m\n",
              "\u001b[36m│\u001b[0m a smile, or a contemptuous glance, or maybe a very awkward wink, or maybe even something like a handshake.      \u001b[36m│\u001b[0m\n",
              "\u001b[36m│\u001b[0m Narrator: Here they are arriving at Number 10. This lucky policeman gets to shake hands with the President of   \u001b[36m│\u001b[0m\n",
              "\u001b[36m│\u001b[0m the United States. Here comes the Prime Minister -- No. (Laughter) (Applause) (Laughter) (Applause) Amy Cuddy:  \u001b[36m│\u001b[0m\n",
              "\u001b[36m│\u001b[0m So a handshake, or the lack of a handshake, can have us talking for weeks and weeks and weeks. Even the BBC and \u001b[36m│\u001b[0m\n",
              "\u001b[36m│\u001b[0m The New York Times. So obviously when we think about nonverbal behavior, or body language -- but we call it     \u001b[36m│\u001b[0m\n",
              "\u001b[36m│\u001b[0m nonverbals as social scientists -- it's language, so we think about communication. When we think about          \u001b[36m│\u001b[0m\n",
              "\u001b[36m│\u001b[0m communication, we think about interactions. So what is your body language communicating to me? What's mine      \u001b[36m│\u001b[0m\n",
              "\u001b[36m│\u001b[0m communicating to you? And there's a lot of reason to believe that this is a valid way to look at this. So       \u001b[36m│\u001b[0m\n",
              "\u001b[36m│\u001b[0m social scientists have spent a lot of time looking at the effects of our body language, or other people's body  \u001b[36m│\u001b[0m\n",
              "\u001b[36m│\u001b[0m language, on judgments. And we make sweeping judgments and inferences from body language. And those judgments   \u001b[36m│\u001b[0m\n",
              "\u001b[36m│\u001b[0m can predict really meaningful life outcomes like who we hire or promote, who we ask out on a date. For example, \u001b[36m│\u001b[0m\n",
              "\u001b[36m│\u001b[0m Nalini Ambady, a researcher at Tufts University, shows that when people watch 30-second soundless clips of real \u001b[36m│\u001b[0m\n",
              "\u001b[36m│\u001b[0m physician-patient interactions, their judgments of the physician's niceness predict whether or not that         \u001b[36m│\u001b[0m\n",
              "\u001b[36m│\u001b[0m physician will be sued. So it doesn't have to do so much with whether or not that physician was incompetent,    \u001b[36m│\u001b[0m\n",
              "\u001b[36m│\u001b[0m but do we like that person and how they interacted? Even more dramatic, Alex Todorov at Princeton has shown us  \u001b[36m│\u001b[0m\n",
              "\u001b[36m│\u001b[0m that judgments of political candidates' faces in just one second predict 70 percent of U.S. Senate and          \u001b[36m│\u001b[0m\n",
              "\u001b[36m│\u001b[0m gubernatorial race outcomes, and even, let's go digital, emoticons used well in online negotiations can lead    \u001b[36m│\u001b[0m\n",
              "\u001b[36m│\u001b[0m you to claim more value from that negotiation. If you use them poorly, bad idea. Right? So when we think of     \u001b[36m│\u001b[0m\n",
              "\u001b[36m│\u001b[0m nonverbals, we think of how we judge others, how they judge us and what the outcomes are. We tend to forget,    \u001b[36m│\u001b[0m\n",
              "\u001b[36m│\u001b[0m though, the other audience that's influenced by our nonverbals, and that's ourselves. We are also influenced by \u001b[36m│\u001b[0m\n",
              "\u001b[36m│\u001b[0m our nonverbals, our thoughts and our feelings and our physiology. So what nonverbals am I talking about? I'm a  \u001b[36m│\u001b[0m\n",
              "\u001b[36m│\u001b[0m social psychologist. I study prejudice, and I teach at a competitive business school, so it was inevitable that \u001b[36m│\u001b[0m\n",
              "\u001b[36m│\u001b[0m I would become interested in power dynamics. I became especially interested in nonverbal expressions of power   \u001b[36m│\u001b[0m\n",
              "\u001b[36m│\u001b[0m and dominance. And what are nonverbal expressions of power and dominance? Well, this is what they are. So in    \u001b[36m│\u001b[0m\n",
              "\u001b[36m│\u001b[0m the animal kingdom, they are about expanding. So you make yourself big, you stretch out, you take up space,     \u001b[36m│\u001b[0m\n",
              "\u001b[36m│\u001b[0m you're basically opening up. It's about opening up. And this is true across the animal kingdom. It's not just   \u001b[36m│\u001b[0m\n",
              "\u001b[36m│\u001b[0m limited to primates. And humans do the same thing. (Laughter) So they do this both when they have power sort of \u001b[36m│\u001b[0m\n",
              "\u001b[36m│\u001b[0m chronically, and also when they're feeling powerful in the moment. And this one is especially interesting       \u001b[36m│\u001b[0m\n",
              "\u001b[36m│\u001b[0m because it really shows us how universal and old these expressions of power are. This expression, which is      \u001b[36m│\u001b[0m\n",
              "\u001b[36m│\u001b[0m known as pride, Jessica Tracy has studied. She shows that people who are born with sight and people who are     \u001b[36m│\u001b[0m\n",
              "\u001b[36m│\u001b[0m congenitally blind do this when they win at a physical competition. So when they cross the finish line and      \u001b[36m│\u001b[0m\n",
              "\u001b[36m│\u001b[0m they've won, it doesn't matter if they've never seen anyone do it. They do this. So the arms up in the V, the   \u001b[36m│\u001b[0m\n",
              "\u001b[36m│\u001b[0m chin is slightly lifted. What do we do when we feel powerless? We do exactly the opposite. We close up. We wrap \u001b[36m│\u001b[0m\n",
              "\u001b[36m│\u001b[0m ourselves up. We make ourselves small. We don't want to bump into the person next to us. So again, both animals \u001b[36m│\u001b[0m\n",
              "\u001b[36m│\u001b[0m and humans do the same thing. And this is what happens when you put together high and low power. So what we     \u001b[36m│\u001b[0m\n",
              "\u001b[36m│\u001b[0m tend to do when it comes to power is that we complement the other's nonverbals. So if someone is being really   \u001b[36m│\u001b[0m\n",
              "\u001b[36m│\u001b[0m powerful with us, we tend to make ourselves smaller. We don't mirror them. We do the opposite of them. So I'm   \u001b[36m│\u001b[0m\n",
              "\u001b[36m│\u001b[0m watching this behavior in the classroom, and what do I notice? I notice that MBA students really exhibit the    \u001b[36m│\u001b[0m\n",
              "\u001b[36m│\u001b[0m full range of power nonverbals. So you have people who are like caricatures of alphas, really coming into the   \u001b[36m│\u001b[0m\n",
              "\u001b[36m│\u001b[0m room, they get right into the middle of the room before class even starts, like they really want to occupy      \u001b[36m│\u001b[0m\n",
              "\u001b[36m│\u001b[0m space. When they sit down, they're sort of spread out. They raise their hands like this. You have other people  \u001b[36m│\u001b[0m\n",
              "\u001b[36m│\u001b[0m who are virtually collapsing when they come in. As soon they come in, you see it. You see it on their faces and \u001b[36m│\u001b[0m\n",
              "\u001b[36m│\u001b[0m their bodies, and they sit in their chair and they make themselves tiny, and they go like this when they raise  \u001b[36m│\u001b[0m\n",
              "\u001b[36m│\u001b[0m their hand. I notice a couple of things about this. One, you're not going to be surprised. It seems to be       \u001b[36m│\u001b[0m\n",
              "\u001b[36m│\u001b[0m related to gender. So women are much more likely to do this kind of thing than men. Women feel chronically less \u001b[36m│\u001b[0m\n",
              "\u001b[36m│\u001b[0m powerful than men, so this is not surprising. But the other thing I noticed is that it also seemed to be        \u001b[36m│\u001b[0m\n",
              "\u001b[36m│\u001b[0m related to the extent to which the students were participating, and how well they were participating. And this  \u001b[36m│\u001b[0m\n",
              "\u001b[36m│\u001b[0m is really important in the MBA classroom, because participation counts for half the grade. So business schools  \u001b[36m│\u001b[0m\n",
              "\u001b[36m│\u001b[0m have been struggling with this gender grade gap. You get these equally qualified women and men coming in and    \u001b[36m│\u001b[0m\n",
              "\u001b[36m│\u001b[0m then you get these differences in grades, and it seems to be partly attributable to participation. So I started \u001b[36m│\u001b[0m\n",
              "\u001b[36m│\u001b[0m to wonder, you know, okay, so you have these people coming in like this, and they're participating. Is it       \u001b[36m│\u001b[0m\n",
              "\u001b[36m│\u001b[0m possible that we could get people to fake it and would it lead them to participate more? So my main             \u001b[36m│\u001b[0m\n",
              "\u001b[36m│\u001b[0m collaborator Dana Carney, who's at Berkeley, and I really wanted to know, can you fake it till you make it?     \u001b[36m│\u001b[0m\n",
              "\u001b[36m│\u001b[0m Like, can you do this just for a little while and actually experience a behavioral outcome that makes you seem  \u001b[36m│\u001b[0m\n",
              "\u001b[36m│\u001b[0m more powerful? So we know that our nonverbals govern how other people think and feel about us. There's a lot of \u001b[36m│\u001b[0m\n",
              "\u001b[36m│\u001b[0m evidence. But our question really was, do our nonverbals govern how we think and feel about ourselves? There's  \u001b[36m│\u001b[0m\n",
              "\u001b[36m│\u001b[0m some evidence that they do. So, for example, we smile when we feel happy, but also, when we're forced to smile  \u001b[36m│\u001b[0m\n",
              "\u001b[36m│\u001b[0m by holding a pen in our teeth like this, it makes us feel happy. So it goes both ways. When it comes to power,  \u001b[36m│\u001b[0m\n",
              "\u001b[36m│\u001b[0m it also goes both ways. So when you feel powerful, you're more likely to do this, but it's also possible that   \u001b[36m│\u001b[0m\n",
              "\u001b[36m│\u001b[0m when you pretend to be powerful, you are more likely to actually feel powerful. So the second question really   \u001b[36m│\u001b[0m\n",
              "\u001b[36m│\u001b[0m was, you know, so we know that our minds change our bodies, but is it also true that our bodies change our      \u001b[36m│\u001b[0m\n",
              "\u001b[36m│\u001b[0m minds? And when I say minds, in the case of the powerful, what am I talking about? So I'm talking about         \u001b[36m│\u001b[0m\n",
              "\u001b[36m│\u001b[0m thoughts and feelings and the sort of physiological things that make up our thoughts and feelings, and in my    \u001b[36m│\u001b[0m\n",
              "\u001b[36m│\u001b[0m case, that's hormones. I look at hormones. So what do the minds of the powerful versus the powerless look like? \u001b[36m│\u001b[0m\n",
              "\u001b[36m│\u001b[0m So powerful people tend to be, not surprisingly, more assertive and more confident, more optimistic. They       \u001b[36m│\u001b[0m\n",
              "\u001b[36m│\u001b[0m actually feel they're going to win even at games of chance. They also tend to be able to think more abstractly. \u001b[36m│\u001b[0m\n",
              "\u001b[36m│\u001b[0m So there are a lot of differences. They take more risks. There are a lot of differences between powerful and    \u001b[36m│\u001b[0m\n",
              "\u001b[36m│\u001b[0m powerless people. Physiologically, there also are differences on two key hormones: testosterone, which is the   \u001b[36m│\u001b[0m\n",
              "\u001b[36m│\u001b[0m dominance hormone, and cortisol, which is the stress hormone. So what we find is that high-power alpha males in \u001b[36m│\u001b[0m\n",
              "\u001b[36m│\u001b[0m primate hierarchies have high testosterone and low cortisol, and powerful and effective leaders also have high  \u001b[36m│\u001b[0m\n",
              "\u001b[36m│\u001b[0m testosterone and low cortisol. So what does that mean? When you think about power, people tended to think only  \u001b[36m│\u001b[0m\n",
              "\u001b[36m│\u001b[0m about testosterone, because that was about dominance. But really, power is also about how you react to stress.  \u001b[36m│\u001b[0m\n",
              "\u001b[36m│\u001b[0m So do you want the high-power leader that's dominant, high on testosterone, but really stress reactive?         \u001b[36m│\u001b[0m\n",
              "\u001b[36m│\u001b[0m Probably not, right? You want the person who's powerful and assertive and dominant, but not very stress         \u001b[36m│\u001b[0m\n",
              "\u001b[36m│\u001b[0m reactive, the person who's laid back. So we know that in primate hierarchies, if an alpha needs to take over,   \u001b[36m│\u001b[0m\n",
              "\u001b[36m│\u001b[0m if an individual needs to take over an alpha role sort of suddenly, within a few days, that individual's        \u001b[36m│\u001b[0m\n",
              "\u001b[36m│\u001b[0m testosterone has gone up significantly and his cortisol has dropped significantly. So we have this evidence,    \u001b[36m│\u001b[0m\n",
              "\u001b[36m│\u001b[0m both that the body can shape the mind, at least at the facial level, and also that role changes can shape the   \u001b[36m│\u001b[0m\n",
              "\u001b[36m│\u001b[0m mind. So what happens, okay, you take a role change, what happens if you do that at a really minimal level,     \u001b[36m│\u001b[0m\n",
              "\u001b[36m│\u001b[0m like this tiny manipulation, this tiny intervention? \"For two minutes,\" you say, \"I want you to stand like      \u001b[36m│\u001b[0m\n",
              "\u001b[36m│\u001b[0m this, and it's going to make you feel more powerful.\" So this is what we did. We decided to bring people into   \u001b[36m│\u001b[0m\n",
              "\u001b[36m│\u001b[0m the lab and run a little experiment, and these people adopted, for two minutes, either high-power poses or      \u001b[36m│\u001b[0m\n",
              "\u001b[36m│\u001b[0m low-power poses, and I'm just going to show you five of the poses, although they took on only two. So here's    \u001b[36m│\u001b[0m\n",
              "\u001b[36m│\u001b[0m one. A couple more. This one has been dubbed the \"Wonder Woman\" by the media. Here are a couple more. So you    \u001b[36m│\u001b[0m\n",
              "\u001b[36m│\u001b[0m can be standing or you can be sitting. And here are the low-power poses. So you're folding up, you're making    \u001b[36m│\u001b[0m\n",
              "\u001b[36m│\u001b[0m yourself small. This one is very low-power. When you're touching your neck, you're really protecting yourself.  \u001b[36m│\u001b[0m\n",
              "\u001b[36m│\u001b[0m So this is what happens. They come in, they spit into a vial, for two minutes, we say, \"You need to do this or  \u001b[36m│\u001b[0m\n",
              "\u001b[36m│\u001b[0m this.\" They don't look at pictures of the poses. We don't want to prime them with a concept of power. We want   \u001b[36m│\u001b[0m\n",
              "\u001b[36m│\u001b[0m them to be feeling power. So two minutes they do this. We then ask them, \"How powerful do you feel?\" on a       \u001b[36m│\u001b[0m\n",
              "\u001b[36m│\u001b[0m series of items, and then we give them an opportunity to gamble, and then we take another saliva sample. That's \u001b[36m│\u001b[0m\n",
              "\u001b[36m│\u001b[0m it. That's the whole experiment. So this is what we find. Risk tolerance, which is the gambling, we find that   \u001b[36m│\u001b[0m\n",
              "\u001b[36m│\u001b[0m when you are in the high-power pose condition, 86 percent of you will gamble. When you're in the low-power pose \u001b[36m│\u001b[0m\n",
              "\u001b[36m│\u001b[0m condition, only 60 percent, and that's a whopping significant difference. Here's what we find on testosterone.  \u001b[36m│\u001b[0m\n",
              "\u001b[36m│\u001b[0m From their baseline when they come in, high-power people experience about a 20-percent increase, and low-power  \u001b[36m│\u001b[0m\n",
              "\u001b[36m│\u001b[0m people experience about a 10-percent decrease. So again, two minutes, and you get these changes. Here's what    \u001b[36m│\u001b[0m\n",
              "\u001b[36m│\u001b[0m you get on cortisol. High-power people experience about a 25-percent decrease, and the low-power people         \u001b[36m│\u001b[0m\n",
              "\u001b[36m│\u001b[0m experience about a 15-percent increase. So two minutes lead to these hormonal changes that configure your brain \u001b[36m│\u001b[0m\n",
              "\u001b[36m│\u001b[0m to basically be either assertive, confident and comfortable, or really stress-reactive, and feeling sort of     \u001b[36m│\u001b[0m\n",
              "\u001b[36m│\u001b[0m shut down. And we've all had the feeling, right? So it seems that our nonverbals do govern how we think and     \u001b[36m│\u001b[0m\n",
              "\u001b[36m│\u001b[0m feel about ourselves, so it's not just others, but it's also ourselves. Also, our bodies change our minds. But  \u001b[36m│\u001b[0m\n",
              "\u001b[36m│\u001b[0m the next question, of course, is, can power posing for a few minutes really change your life in meaningful      \u001b[36m│\u001b[0m\n",
              "\u001b[36m│\u001b[0m ways? This is in the lab, it's this little task, it's just a couple of minutes. Where can you actually apply    \u001b[36m│\u001b[0m\n",
              "\u001b[36m│\u001b[0m this? Which we cared about, of course. And so we think where you want to use this is evaluative situations,     \u001b[36m│\u001b[0m\n",
              "\u001b[36m│\u001b[0m like social threat situations. Where are you being evaluated, either by your friends? For teenagers, it's at    \u001b[36m│\u001b[0m\n",
              "\u001b[36m│\u001b[0m the lunchroom table. For some people it's speaking at a school board meeting. It might be giving a pitch or     \u001b[36m│\u001b[0m\n",
              "\u001b[36m│\u001b[0m giving a talk like this or doing a job interview. We decided that the one that most people could relate to      \u001b[36m│\u001b[0m\n",
              "\u001b[36m│\u001b[0m because most people had been through, was the job interview. So we published these findings, and the media are  \u001b[36m│\u001b[0m\n",
              "\u001b[36m│\u001b[0m all over it, and they say, Okay, so this is what you do when you go in for the job interview, right? (Laughter) \u001b[36m│\u001b[0m\n",
              "\u001b[36m│\u001b[0m You know, so we were of course horrified, and said, Oh my God, no, that's not what we meant at all. For         \u001b[36m│\u001b[0m\n",
              "\u001b[36m│\u001b[0m numerous reasons, no, don't do that. Again, this is not about you talking to other people. It's you talking to  \u001b[36m│\u001b[0m\n",
              "\u001b[36m│\u001b[0m yourself. What do you do before you go into a job interview? You do this. You're sitting down. You're looking   \u001b[36m│\u001b[0m\n",
              "\u001b[36m│\u001b[0m at your iPhone -- or your Android, not trying to leave anyone out. You're looking at your notes, you're         \u001b[36m│\u001b[0m\n",
              "\u001b[36m│\u001b[0m hunching up, making yourself small, when really what you should be doing maybe is this, like, in the bathroom,  \u001b[36m│\u001b[0m\n",
              "\u001b[36m│\u001b[0m right? Do that. Find two minutes. So that's what we want to test. Okay? So we bring people into a lab, and they \u001b[36m│\u001b[0m\n",
              "\u001b[36m│\u001b[0m do either high- or low-power poses again, they go through a very stressful job interview. It's five minutes     \u001b[36m│\u001b[0m\n",
              "\u001b[36m│\u001b[0m long. They are being recorded. They're being judged also, and the judges are trained to give no nonverbal       \u001b[36m│\u001b[0m\n",
              "\u001b[36m│\u001b[0m feedback, so they look like this. Imagine this is the person interviewing you. So for five minutes, nothing,    \u001b[36m│\u001b[0m\n",
              "\u001b[36m│\u001b[0m and this is worse than being heckled. People hate this. It's what Marianne LaFrance calls \"standing in social   \u001b[36m│\u001b[0m\n",
              "\u001b[36m│\u001b[0m quicksand.\" So this really spikes your cortisol. So this is the job interview we put them through, because we   \u001b[36m│\u001b[0m\n",
              "\u001b[36m│\u001b[0m really wanted to see what happened. We then have these coders look at these tapes, four of them. They're blind  \u001b[36m│\u001b[0m\n",
              "\u001b[36m│\u001b[0m to the hypothesis. They're blind to the conditions. They have no idea who's been posing in what pose, and they  \u001b[36m│\u001b[0m\n",
              "\u001b[36m│\u001b[0m end up looking at these sets of tapes, and they say, \"We want to hire these people,\" all the high-power posers. \u001b[36m│\u001b[0m\n",
              "\u001b[36m│\u001b[0m \"We don't want to hire these people. We also evaluate these people much more positively overall.\" But what's    \u001b[36m│\u001b[0m\n",
              "\u001b[36m│\u001b[0m driving it? It's not about the content of the speech. It's about the presence that they're bringing to the      \u001b[36m│\u001b[0m\n",
              "\u001b[36m│\u001b[0m speech. Because we rate them on all these variables related to competence, like, how well-structured is the     \u001b[36m│\u001b[0m\n",
              "\u001b[36m│\u001b[0m speech? How good is it? What are their qualifications? No effect on those things. This is what's affected.      \u001b[36m│\u001b[0m\n",
              "\u001b[36m│\u001b[0m These kinds of things. People are bringing their true selves, basically. They're bringing themselves. They      \u001b[36m│\u001b[0m\n",
              "\u001b[36m│\u001b[0m bring their ideas, but as themselves, with no, you know, residue over them. So this is what's driving the       \u001b[36m│\u001b[0m\n",
              "\u001b[36m│\u001b[0m effect, or mediating the effect. So when I tell people about this, that our bodies change our minds and our     \u001b[36m│\u001b[0m\n",
              "\u001b[36m│\u001b[0m minds can change our behavior, and our behavior can change our outcomes, they say to me, \"It feels fake.\"       \u001b[36m│\u001b[0m\n",
              "\u001b[36m│\u001b[0m Right? So I said, fake it till you make it. It's not me. I don't want to get there and then still feel like a   \u001b[36m│\u001b[0m\n",
              "\u001b[36m│\u001b[0m fraud. I don't want to feel like an impostor. I don't want to get there only to feel like I'm not supposed to   \u001b[36m│\u001b[0m\n",
              "\u001b[36m│\u001b[0m be here. And that really resonated with me, because I want to tell you a little story about being an impostor   \u001b[36m│\u001b[0m\n",
              "\u001b[36m│\u001b[0m and feeling like I'm not supposed to be here. When I was 19, I was in a really bad car accident. I was thrown   \u001b[36m│\u001b[0m\n",
              "\u001b[36m│\u001b[0m out of a car, rolled several times. I was thrown from the car. And I woke up in a head injury rehab ward, and I \u001b[36m│\u001b[0m\n",
              "\u001b[36m│\u001b[0m had been withdrawn from college, and I learned that my IQ had dropped by two standard deviations, which was     \u001b[36m│\u001b[0m\n",
              "\u001b[36m│\u001b[0m very traumatic. I knew my IQ because I had identified with being smart, and I had been called gifted as a       \u001b[36m│\u001b[0m\n",
              "\u001b[36m│\u001b[0m child. So I'm taken out of college, I keep trying to go back. They say, \"You're not going to finish college.    \u001b[36m│\u001b[0m\n",
              "\u001b[36m│\u001b[0m Just, you know, there are other things for you to do, but that's not going to work out for you.\" So I really    \u001b[36m│\u001b[0m\n",
              "\u001b[36m│\u001b[0m struggled with this, and I have to say, having your identity taken from you, your core identity, and for me it  \u001b[36m│\u001b[0m\n",
              "\u001b[36m│\u001b[0m was being smart, having that taken from you, there's nothing that leaves you feeling more powerless than that.  \u001b[36m│\u001b[0m\n",
              "\u001b[36m│\u001b[0m So I felt entirely powerless. I worked and worked, and I got lucky, and worked, and got lucky, and worked.      \u001b[36m│\u001b[0m\n",
              "\u001b[36m│\u001b[0m Eventually I graduated from college. It took me four years longer than my peers, and I convinced someone, my    \u001b[36m│\u001b[0m\n",
              "\u001b[36m│\u001b[0m angel advisor, Susan Fiske, to take me on, and so I ended up at Princeton, and I was like, I am not supposed to \u001b[36m│\u001b[0m\n",
              "\u001b[36m│\u001b[0m be here. I am an impostor. And the night before my first-year talk, and the first-year talk at Princeton is a   \u001b[36m│\u001b[0m\n",
              "\u001b[36m│\u001b[0m 20-minute talk to 20 people. That's it. I was so afraid of being found out the next day that I called her and   \u001b[36m│\u001b[0m\n",
              "\u001b[36m│\u001b[0m said, \"I'm quitting.\" She was like, \"You are not quitting, because I took a gamble on you, and you're staying.  \u001b[36m│\u001b[0m\n",
              "\u001b[36m│\u001b[0m You're going to stay, and this is what you're going to do. You are going to fake it. You're going to do every   \u001b[36m│\u001b[0m\n",
              "\u001b[36m│\u001b[0m talk that you ever get asked to do. You're just going to do it and do it and do it, even if you're terrified    \u001b[36m│\u001b[0m\n",
              "\u001b[36m│\u001b[0m and just paralyzed and having an out-of-body experience, until you have this moment where you say, 'Oh my gosh, \u001b[36m│\u001b[0m\n",
              "\u001b[36m│\u001b[0m I'm doing it. Like, I have become this. I am actually doing this.'\" So that's what I did. Five years in grad    \u001b[36m│\u001b[0m\n",
              "\u001b[36m│\u001b[0m school, a few years, you know, I'm at Northwestern, I moved to Harvard, I'm at Harvard, I'm not really thinking \u001b[36m│\u001b[0m\n",
              "\u001b[36m│\u001b[0m about it anymore, but for a long time I had been thinking, \"Not supposed to be here.\" So at the end of my first \u001b[36m│\u001b[0m\n",
              "\u001b[36m│\u001b[0m year at Harvard, a student who had not talked in class the entire semester, who I had said, \"Look, you've gotta \u001b[36m│\u001b[0m\n",
              "\u001b[36m│\u001b[0m participate or else you're going to fail,\" came into my office. I really didn't know her at all. She came in    \u001b[36m│\u001b[0m\n",
              "\u001b[36m│\u001b[0m totally defeated, and she said, \"I'm not supposed to be here.\" And that was the moment for me. Because two      \u001b[36m│\u001b[0m\n",
              "\u001b[36m│\u001b[0m things happened. One was that I realized, oh my gosh, I don't feel like that anymore. I don't feel that         \u001b[36m│\u001b[0m\n",
              "\u001b[36m│\u001b[0m anymore, but she does, and I get that feeling. And the second was, she is supposed to be here! Like, she can    \u001b[36m│\u001b[0m\n",
              "\u001b[36m│\u001b[0m fake it, she can become it. So I was like, \"Yes, you are! You are supposed to be here! And tomorrow you're      \u001b[36m│\u001b[0m\n",
              "\u001b[36m│\u001b[0m going to fake it, you're going to make yourself powerful, and, you know -- (Applause) And you're going to go    \u001b[36m│\u001b[0m\n",
              "\u001b[36m│\u001b[0m into the classroom, and you are going to give the best comment ever.\" You know? And she gave the best comment   \u001b[36m│\u001b[0m\n",
              "\u001b[36m│\u001b[0m ever, and people turned around and were like, oh my God, I didn't even notice her sitting there. (Laughter) She \u001b[36m│\u001b[0m\n",
              "\u001b[36m│\u001b[0m comes back to me months later, and I realized that she had not just faked it till she made it, she had actually \u001b[36m│\u001b[0m\n",
              "\u001b[36m│\u001b[0m faked it till she became it. So she had changed. And so I want to say to you, don't fake it till you make it.   \u001b[36m│\u001b[0m\n",
              "\u001b[36m│\u001b[0m Fake it till you become it. Do it enough until you actually become it and internalize. The last thing I'm going \u001b[36m│\u001b[0m\n",
              "\u001b[36m│\u001b[0m to leave you with is this. Tiny tweaks can lead to big changes. So, this is two minutes. Two minutes, two       \u001b[36m│\u001b[0m\n",
              "\u001b[36m│\u001b[0m minutes, two minutes. Before you go into the next stressful evaluative situation, for two minutes, try doing    \u001b[36m│\u001b[0m\n",
              "\u001b[36m│\u001b[0m this, in the elevator, in a bathroom stall, at your desk behind closed doors. That's what you want to do.       \u001b[36m│\u001b[0m\n",
              "\u001b[36m│\u001b[0m Configure your brain to cope the best in that situation. Get your testosterone up. Get your cortisol down.      \u001b[36m│\u001b[0m\n",
              "\u001b[36m│\u001b[0m Don't leave that situation feeling like, oh, I didn't show them who I am. Leave that situation feeling like, I  \u001b[36m│\u001b[0m\n",
              "\u001b[36m│\u001b[0m really feel like I got to say who I am and show who I am. So I want to ask you first, you know, both to try     \u001b[36m│\u001b[0m\n",
              "\u001b[36m│\u001b[0m power posing, and also I want to ask you to share the science, because this is simple. I don't have ego         \u001b[36m│\u001b[0m\n",
              "\u001b[36m│\u001b[0m involved in this. (Laughter) Give it away. Share it with people, because the people who can use it the most are \u001b[36m│\u001b[0m\n",
              "\u001b[36m│\u001b[0m the ones with no resources and no technology and no status and no power. Give it to them bec...                 \u001b[36m│\u001b[0m\n",
              "\u001b[36m╰─────────────────────────────────────────────────────────────────────────────────────────────────────────────────╯\u001b[0m\n"
            ]
          },
          "metadata": {},
          "output_type": "display_data"
        },
        {
          "data": {
            "text/html": [
              "<pre style=\"white-space:pre;overflow-x:auto;line-height:normal;font-family:Menlo,'DejaVu Sans Mono',consolas,'Courier New',monospace\"><span style=\"color: #008080; text-decoration-color: #008080\">╭─────────────────────────────────────────────────── Response ────────────────────────────────────────────────────╮</span>\n",
              "<span style=\"color: #008080; text-decoration-color: #008080\">│</span> { \"categories\": [ { \"name\": \"educational\", \"score\": 9, \"connotation\": \"positive\", \"reason\": \"The transcript     <span style=\"color: #008080; text-decoration-color: #008080\">│</span>\n",
              "<span style=\"color: #008080; text-decoration-color: #008080\">│</span> provides a detailed explanation of body language and its effects on personal and professional outcomes. It      <span style=\"color: #008080; text-decoration-color: #008080\">│</span>\n",
              "<span style=\"color: #008080; text-decoration-color: #008080\">│</span> includes scientific studies and practical advice, making it highly educational.\" }, { \"name\": \"clarity\",        <span style=\"color: #008080; text-decoration-color: #008080\">│</span>\n",
              "<span style=\"color: #008080; text-decoration-color: #008080\">│</span> \"score\": 8, \"connotation\": \"positive\", \"reason\": \"The transcript is clear in its explanation of concepts        <span style=\"color: #008080; text-decoration-color: #008080\">│</span>\n",
              "<span style=\"color: #008080; text-decoration-color: #008080\">│</span> related to body language and power dynamics. It uses examples and studies to illustrate points, although the    <span style=\"color: #008080; text-decoration-color: #008080\">│</span>\n",
              "<span style=\"color: #008080; text-decoration-color: #008080\">│</span> length and detail might be overwhelming for some.\" } ], \"overall\": { \"score\": 8.5, \"reason\": \"The transcript is <span style=\"color: #008080; text-decoration-color: #008080\">│</span>\n",
              "<span style=\"color: #008080; text-decoration-color: #008080\">│</span> highly educational and clear, providing valuable insights into body language and its impact on personal         <span style=\"color: #008080; text-decoration-color: #008080\">│</span>\n",
              "<span style=\"color: #008080; text-decoration-color: #008080\">│</span> empowerment. It effectively communicates scientific findings and practical applications.\" }, \"error\": \"\",       <span style=\"color: #008080; text-decoration-color: #008080\">│</span>\n",
              "<span style=\"color: #008080; text-decoration-color: #008080\">│</span> \"content_summary\": \"The transcript discusses the impact of body language on personal empowerment and            <span style=\"color: #008080; text-decoration-color: #008080\">│</span>\n",
              "<span style=\"color: #008080; text-decoration-color: #008080\">│</span> professional success. It explains scientific studies on nonverbal communication, power dynamics, and the        <span style=\"color: #008080; text-decoration-color: #008080\">│</span>\n",
              "<span style=\"color: #008080; text-decoration-color: #008080\">│</span> concept of 'faking it till you become it.' Practical advice is given on how to use body language to improve     <span style=\"color: #008080; text-decoration-color: #008080\">│</span>\n",
              "<span style=\"color: #008080; text-decoration-color: #008080\">│</span> self-confidence and outcomes in evaluative situations.\" }                                                       <span style=\"color: #008080; text-decoration-color: #008080\">│</span>\n",
              "<span style=\"color: #008080; text-decoration-color: #008080\">╰─────────────────────────────────────────────────────────────────────────────────────────────────────────────────╯</span>\n",
              "</pre>\n"
            ],
            "text/plain": [
              "\u001b[36m╭─\u001b[0m\u001b[36m──────────────────────────────────────────────────\u001b[0m\u001b[36m Response \u001b[0m\u001b[36m───────────────────────────────────────────────────\u001b[0m\u001b[36m─╮\u001b[0m\n",
              "\u001b[36m│\u001b[0m { \"categories\": [ { \"name\": \"educational\", \"score\": 9, \"connotation\": \"positive\", \"reason\": \"The transcript     \u001b[36m│\u001b[0m\n",
              "\u001b[36m│\u001b[0m provides a detailed explanation of body language and its effects on personal and professional outcomes. It      \u001b[36m│\u001b[0m\n",
              "\u001b[36m│\u001b[0m includes scientific studies and practical advice, making it highly educational.\" }, { \"name\": \"clarity\",        \u001b[36m│\u001b[0m\n",
              "\u001b[36m│\u001b[0m \"score\": 8, \"connotation\": \"positive\", \"reason\": \"The transcript is clear in its explanation of concepts        \u001b[36m│\u001b[0m\n",
              "\u001b[36m│\u001b[0m related to body language and power dynamics. It uses examples and studies to illustrate points, although the    \u001b[36m│\u001b[0m\n",
              "\u001b[36m│\u001b[0m length and detail might be overwhelming for some.\" } ], \"overall\": { \"score\": 8.5, \"reason\": \"The transcript is \u001b[36m│\u001b[0m\n",
              "\u001b[36m│\u001b[0m highly educational and clear, providing valuable insights into body language and its impact on personal         \u001b[36m│\u001b[0m\n",
              "\u001b[36m│\u001b[0m empowerment. It effectively communicates scientific findings and practical applications.\" }, \"error\": \"\",       \u001b[36m│\u001b[0m\n",
              "\u001b[36m│\u001b[0m \"content_summary\": \"The transcript discusses the impact of body language on personal empowerment and            \u001b[36m│\u001b[0m\n",
              "\u001b[36m│\u001b[0m professional success. It explains scientific studies on nonverbal communication, power dynamics, and the        \u001b[36m│\u001b[0m\n",
              "\u001b[36m│\u001b[0m concept of 'faking it till you become it.' Practical advice is given on how to use body language to improve     \u001b[36m│\u001b[0m\n",
              "\u001b[36m│\u001b[0m self-confidence and outcomes in evaluative situations.\" }                                                       \u001b[36m│\u001b[0m\n",
              "\u001b[36m╰─────────────────────────────────────────────────────────────────────────────────────────────────────────────────╯\u001b[0m\n"
            ]
          },
          "metadata": {},
          "output_type": "display_data"
        },
        {
          "name": "stdout",
          "output_type": "stream",
          "text": [
            "{\n",
            "  \"categories\": [\n",
            "    {\n",
            "      \"name\": \"educational\",\n",
            "      \"score\": 9,\n",
            "      \"connotation\": \"positive\",\n",
            "      \"reason\": \"The transcript provides a detailed explanation of body language and its effects on personal and professional outcomes. It includes scientific studies and practical advice, making it highly educational.\"\n",
            "    },\n",
            "    {\n",
            "      \"name\": \"clarity\",\n",
            "      \"score\": 8,\n",
            "      \"connotation\": \"positive\",\n",
            "      \"reason\": \"The transcript is clear in its explanation of concepts related to body language and power dynamics. It uses examples and studies to illustrate points, although the length and detail might be overwhelming for some.\"\n",
            "    }\n",
            "  ],\n",
            "  \"overall\": {\n",
            "    \"score\": 8.5,\n",
            "    \"reason\": \"The transcript is highly educational and clear, providing valuable insights into body language and its impact on personal empowerment. It effectively communicates scientific findings and practical applications.\"\n",
            "  },\n",
            "  \"error\": \"\",\n",
            "  \"content_summary\": \"The transcript discusses the impact of body language on personal empowerment and professional success. It explains scientific studies on nonverbal communication, power dynamics, and the concept of 'faking it till you become it.' Practical advice is given on how to use body language to improve self-confidence and outcomes in evaluative situations.\"\n",
            "}\n"
          ]
        }
      ],
      "source": [
        "# Example usage with a valid video URL (TED Talk with English transcript)\n",
        "video_url = \"https://www.youtube.com/watch?v=Ks-_Mh1QhMc\"  # TED: Your body language may shape who you are\n",
        "categories = [\"hatred\", \"educational\", \"clarity\"]\n",
        "result = analyze_youtube_content(video_url, categories)\n",
        "print(result)"
      ]
    }
  ],
  "metadata": {
    "colab": {
      "provenance": []
    },
    "kernelspec": {
      "display_name": "Python 3",
      "name": "python3"
    },
    "language_info": {
      "name": "python"
    }
  },
  "nbformat": 4,
  "nbformat_minor": 0
}