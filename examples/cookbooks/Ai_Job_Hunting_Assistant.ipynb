{
 "cells": [
  {
   "cell_type": "markdown",
   "metadata": {
    "id": "DMt9FOXtNzDD"
   },
   "source": [
    "# AI Job Hunting Assistant: Automated Career Search & Application System"
   ]
  },
  {
   "cell_type": "markdown",
   "metadata": {
    "id": "N6wr894kNmTg"
   },
   "source": [
    "AI-Powered Job Hunting Assistant using PraisonAI - Automates the complete job search lifecycle including job discovery, resume customization, application submission, and progress tracking. Features LinkedIn integration, AI-powered resume optimization, and automated application workflows for busy professionals."
   ]
  },
  {
   "cell_type": "markdown",
   "metadata": {
    "id": "bx-v_fkGN13z"
   },
   "source": [
    "[![Open in Colab](https://colab.research.google.com/assets/colab-badge.svg)](https://colab.research.google.com/github/DhivyaBharathy-web/PraisonAI/blob/main/examples/cookbooks/ai_job_hunting_assistant.ipynb)\n"
   ]
  },
  {
   "cell_type": "code",
   "execution_count": 1,
   "metadata": {
    "colab": {
     "base_uri": "https://localhost:8080/"
    },
    "id": "5upJHFhFMvtp",
    "outputId": "6d9cc9f6-6491-444a-98d6-61234653f75f"
   },
   "outputs": [
    {
     "name": "stdout",
     "output_type": "stream",
     "text": [
      "\u001b[2K     \u001b[90m━━━━━━━━━━━━━━━━━━━━━━━━━━━━━━━━━━━━━━━━\u001b[0m \u001b[32m40.1/40.1 kB\u001b[0m \u001b[31m1.6 MB/s\u001b[0m eta \u001b[36m0:00:00\u001b[0m\n",
      "\u001b[2K   \u001b[90m━━━━━━━━━━━━━━━━━━━━━━━━━━━━━━━━━━━━━━━━\u001b[0m \u001b[32m178.2/178.2 kB\u001b[0m \u001b[31m6.6 MB/s\u001b[0m eta \u001b[36m0:00:00\u001b[0m\n",
      "\u001b[2K   \u001b[90m━━━━━━━━━━━━━━━━━━━━━━━━━━━━━━━━━━━━━━━━\u001b[0m \u001b[32m232.6/232.6 kB\u001b[0m \u001b[31m12.9 MB/s\u001b[0m eta \u001b[36m0:00:00\u001b[0m\n",
      "\u001b[2K   \u001b[90m━━━━━━━━━━━━━━━━━━━━━━━━━━━━━━━━━━━━━━━━\u001b[0m \u001b[32m150.9/150.9 kB\u001b[0m \u001b[31m9.9 MB/s\u001b[0m eta \u001b[36m0:00:00\u001b[0m\n",
      "\u001b[2K   \u001b[90m━━━━━━━━━━━━━━━━━━━━━━━━━━━━━━━━━━━━━━━━\u001b[0m \u001b[32m104.9/104.9 kB\u001b[0m \u001b[31m6.2 MB/s\u001b[0m eta \u001b[36m0:00:00\u001b[0m\n",
      "\u001b[2K   \u001b[90m━━━━━━━━━━━━━━━━━━━━━━━━━━━━━━━━━━━━━━━━\u001b[0m \u001b[32m45.2/45.2 kB\u001b[0m \u001b[31m2.6 MB/s\u001b[0m eta \u001b[36m0:00:00\u001b[0m\n",
      "\u001b[?25h📦 Dependencies installed!\n",
      "🔄 Converting from AGNO → PraisonAI\n",
      "🎯 Building Job Hunting Agent System\n"
     ]
    }
   ],
   "source": [
    "# @title **📦 Installation & Setup**\n",
    "\n",
    "# Install required packages\n",
    "!pip install praisonaiagents openai python-dotenv PyPDF2 pandas numpy -q\n",
    "\n",
    "# Basic imports\n",
    "import os\n",
    "import json\n",
    "import time\n",
    "from pathlib import Path\n",
    "from typing import Dict, List, Optional, Any, Tuple\n",
    "from datetime import datetime\n",
    "import getpass\n",
    "import pandas as pd\n",
    "\n",
    "print(\"📦 Dependencies installed!\")\n",
    "print(\"🔄 Converting from AGNO → PraisonAI\")\n",
    "print(\"🎯 Building Job Hunting Agent System\")"
   ]
  },
  {
   "cell_type": "code",
   "execution_count": 2,
   "metadata": {
    "colab": {
     "base_uri": "https://localhost:8080/"
    },
    "id": "UJMviPA7M3tC",
    "outputId": "7c50090d-b00a-4475-a3b8-708a2a27f538"
   },
   "outputs": [
    {
     "name": "stdout",
     "output_type": "stream",
     "text": [
      "🔑 Enter your OpenAI API Key: ··········\n",
      "\n",
      "🔗 LinkedIn Integration (Optional)\n",
      "LinkedIn Email (or press Enter to skip): divyasarah2261999@gmail.com\n",
      "LinkedIn Password (or press Enter to skip): ··········\n",
      "✅ LinkedIn credentials configured\n",
      "\n",
      "✅ API keys configured!\n",
      "🚀 Ready to build Job Hunting Assistant\n"
     ]
    }
   ],
   "source": [
    "# @title **🔑 API Key Configuration**\n",
    "\n",
    "# Set OpenAI API key\n",
    "api_key = getpass.getpass(\"🔑 Enter your OpenAI API Key: \")\n",
    "os.environ[\"OPENAI_API_KEY\"] = api_key\n",
    "\n",
    "# Optional: LinkedIn credentials for real job search\n",
    "print(\"\\n🔗 LinkedIn Integration (Optional)\")\n",
    "linkedin_email = input(\"LinkedIn Email (or press Enter to skip): \")\n",
    "linkedin_password = getpass.getpass(\"LinkedIn Password (or press Enter to skip): \") if linkedin_email else \"\"\n",
    "\n",
    "if linkedin_email:\n",
    "    os.environ[\"LINKEDIN_EMAIL\"] = linkedin_email\n",
    "    os.environ[\"LINKEDIN_PASSWORD\"] = linkedin_password\n",
    "    print(\"✅ LinkedIn credentials configured\")\n",
    "else:\n",
    "    print(\"⚠️ Skipping LinkedIn integration - will use mock data\")\n",
    "\n",
    "print(\"\\n✅ API keys configured!\")\n",
    "print(\"🚀 Ready to build Job Hunting Assistant\")"
   ]
  },
  {
   "cell_type": "code",
   "execution_count": 4,
   "metadata": {
    "colab": {
     "base_uri": "https://localhost:8080/"
    },
    "id": "KLAAF5rvNCr7",
    "outputId": "796ce553-d900-4313-88be-4ed3de288f58"
   },
   "outputs": [
    {
     "name": "stdout",
     "output_type": "stream",
     "text": [
      "🛠️ Custom Job Hunting Tools created!\n",
      "🔧 Ready to build PraisonAI agents\n",
      "✅ Import error fixed - no PythonTool needed\n"
     ]
    }
   ],
   "source": [
    "# @title **🛠️ Import PraisonAI & Create Custom Tools (FIXED)**\n",
    "\n",
    "# Import PraisonAI after setting API key (REMOVED PythonTool import)\n",
    "from praisonaiagents import Agent, Task, PraisonAIAgents\n",
    "\n",
    "# Custom Job Hunting Tools\n",
    "class JobHuntingTools:\n",
    "    \"\"\"Custom tools for job hunting automation\"\"\"\n",
    "\n",
    "    @staticmethod\n",
    "    def read_job_preferences() -> str:\n",
    "        \"\"\"Read job search preferences\"\"\"\n",
    "        try:\n",
    "            # Mock job preferences for demo\n",
    "            preferences = {\n",
    "                \"target_companies\": [\"Google\", \"Microsoft\", \"Amazon\", \"Apple\"],\n",
    "                \"target_roles\": [\"Software Engineer\", \"Data Scientist\", \"Product Manager\"],\n",
    "                \"preferred_locations\": [\"San Francisco\", \"Seattle\", \"New York\", \"Remote\"],\n",
    "                \"experience_level\": \"Mid-Senior\",\n",
    "                \"keywords\": [\"python\", \"machine learning\", \"cloud\", \"AI\"],\n",
    "                \"salary_range\": \"$120k-180k\"\n",
    "            }\n",
    "            return f\"📋 Job Preferences: {json.dumps(preferences, indent=2)}\"\n",
    "        except Exception as e:\n",
    "            return f\"❌ Error reading preferences: {str(e)}\"\n",
    "\n",
    "    @staticmethod\n",
    "    def search_jobs(keywords: str = \"software engineer\",\n",
    "                   location: str = \"San Francisco\",\n",
    "                   limit: int = 5) -> str:\n",
    "        \"\"\"Search for jobs (mock implementation)\"\"\"\n",
    "        try:\n",
    "            # Mock job search results\n",
    "            jobs = []\n",
    "            for i in range(limit):\n",
    "                job = {\n",
    "                    \"job_id\": f\"job_{i+1}\",\n",
    "                    \"title\": f\"{keywords.title()} - Level {i+1}\",\n",
    "                    \"company\": [\"TechCorp\", \"InnovateCo\", \"DataSystems\", \"CloudTech\", \"AIStartup\"][i % 5],\n",
    "                    \"location\": location,\n",
    "                    \"description\": f\"We are looking for a talented {keywords} to join our team. \"\n",
    "                                 f\"Experience with Python, cloud platforms, and {keywords} required.\",\n",
    "                    \"salary\": f\"${120 + i*10}k - ${150 + i*15}k\",\n",
    "                    \"easy_apply\": i % 2 == 0,\n",
    "                    \"posted_date\": f\"2024-01-{10+i:02d}\"\n",
    "                }\n",
    "                jobs.append(job)\n",
    "\n",
    "            return f\"🔍 Found {len(jobs)} jobs:\\n{json.dumps(jobs, indent=2)}\"\n",
    "        except Exception as e:\n",
    "            return f\"❌ Error searching jobs: {str(e)}\"\n",
    "\n",
    "    @staticmethod\n",
    "    def customize_resume_for_job(job_id: str, job_description: str,\n",
    "                               job_title: str = \"\") -> str:\n",
    "        \"\"\"Customize resume for specific job\"\"\"\n",
    "        try:\n",
    "            # Mock resume customization\n",
    "            customization_notes = {\n",
    "                \"keywords_added\": [\"Python\", \"Machine Learning\", \"Cloud Computing\"],\n",
    "                \"sections_emphasized\": [\"Technical Skills\", \"Relevant Experience\"],\n",
    "                \"achievements_highlighted\": [\n",
    "                    \"Led ML project increasing efficiency by 30%\",\n",
    "                    \"Implemented cloud architecture saving $50k annually\"\n",
    "                ],\n",
    "                \"tailored_summary\": f\"Experienced professional with expertise in {job_title} requirements\"\n",
    "            }\n",
    "\n",
    "            resume_path = f\"./customized_resume_{job_id}.pdf\"\n",
    "\n",
    "            return f\"\"\"✅ Resume customized for {job_title} (Job ID: {job_id})\n",
    "📁 Saved as: {resume_path}\n",
    "🎯 Customizations: {json.dumps(customization_notes, indent=2)}\n",
    "🚀 Ready for application!\"\"\"\n",
    "        except Exception as e:\n",
    "            return f\"❌ Error customizing resume: {str(e)}\"\n",
    "\n",
    "    @staticmethod\n",
    "    def apply_to_job(job_id: str, custom_resume_path: str) -> str:\n",
    "        \"\"\"Apply to job with customized resume\"\"\"\n",
    "        try:\n",
    "            # Mock job application\n",
    "            application_data = {\n",
    "                \"job_id\": job_id,\n",
    "                \"resume_path\": custom_resume_path,\n",
    "                \"application_date\": datetime.now().strftime(\"%Y-%m-%d %H:%M:%S\"),\n",
    "                \"status\": \"submitted\",\n",
    "                \"application_id\": f\"app_{job_id}_{int(time.time())}\"\n",
    "            }\n",
    "\n",
    "            return f\"\"\"📤 Application submitted successfully!\n",
    "🆔 Application ID: {application_data['application_id']}\n",
    "📋 Job ID: {job_id}\n",
    "📄 Resume: {custom_resume_path}\n",
    "📅 Submitted: {application_data['application_date']}\n",
    "✅ Status: Submitted\"\"\"\n",
    "        except Exception as e:\n",
    "            return f\"❌ Error applying to job: {str(e)}\"\n",
    "\n",
    "    @staticmethod\n",
    "    def track_applications() -> str:\n",
    "        \"\"\"Track all job applications\"\"\"\n",
    "        try:\n",
    "            # Mock application tracking\n",
    "            applications = [\n",
    "                {\"id\": \"app_1\", \"company\": \"TechCorp\", \"role\": \"Software Engineer\",\n",
    "                 \"status\": \"Interview Scheduled\", \"date\": \"2024-01-15\"},\n",
    "                {\"id\": \"app_2\", \"company\": \"InnovateCo\", \"role\": \"Data Scientist\",\n",
    "                 \"status\": \"Under Review\", \"date\": \"2024-01-16\"},\n",
    "                {\"id\": \"app_3\", \"company\": \"CloudTech\", \"role\": \"ML Engineer\",\n",
    "                 \"status\": \"Submitted\", \"date\": \"2024-01-17\"}\n",
    "            ]\n",
    "\n",
    "            stats = {\n",
    "                \"total_applications\": len(applications),\n",
    "                \"interviews\": len([a for a in applications if \"Interview\" in a[\"status\"]]),\n",
    "                \"pending\": len([a for a in applications if \"Review\" in a[\"status\"]]),\n",
    "                \"submitted\": len([a for a in applications if a[\"status\"] == \"Submitted\"])\n",
    "            }\n",
    "\n",
    "            return f\"\"\"📊 Application Tracking Dashboard:\n",
    "📈 Statistics: {json.dumps(stats, indent=2)}\n",
    "📋 Recent Applications: {json.dumps(applications, indent=2)}\"\"\"\n",
    "        except Exception as e:\n",
    "            return f\"❌ Error tracking applications: {str(e)}\"\n",
    "\n",
    "print(\"🛠️ Custom Job Hunting Tools created!\")\n",
    "print(\"🔧 Ready to build PraisonAI agents\")\n",
    "print(\"✅ Import error fixed - no PythonTool needed\")"
   ]
  },
  {
   "cell_type": "code",
   "execution_count": 5,
   "metadata": {
    "colab": {
     "base_uri": "https://localhost:8080/"
    },
    "id": "IogoogOvNUR5",
    "outputId": "944c5abe-48b9-4738-8cc0-94da1eb151a2"
   },
   "outputs": [
    {
     "name": "stdout",
     "output_type": "stream",
     "text": [
      "🤖 Job Hunting Assistant Agent created!\n",
      "🎯 Agent equipped with 5 specialized tools\n",
      "✅ Ready for job hunting automation\n"
     ]
    }
   ],
   "source": [
    "# @title **🤖 Create Job Hunting Agent**\n",
    "\n",
    "# Create the job hunting assistant agent\n",
    "job_hunting_agent = Agent(\n",
    "    name=\"Job Hunting Assistant\",\n",
    "    role=\"AI Job Search & Application Specialist\",\n",
    "    goal=\"Automate the complete job search lifecycle from discovery to application\",\n",
    "    backstory=\"\"\"You are an expert job hunting assistant with deep knowledge of recruitment\n",
    "    processes, resume optimization, and job market trends. You help job seekers by automating\n",
    "    tedious tasks like job searching, resume customization, and application tracking.\n",
    "\n",
    "    You have extensive experience in:\n",
    "    - Job market analysis and opportunity identification\n",
    "    - Resume optimization and keyword matching\n",
    "    - Application process automation\n",
    "    - Professional networking and referral strategies\n",
    "    - Interview preparation and career coaching\n",
    "\n",
    "    Your mission is to make job hunting efficient, personalized, and successful.\"\"\",\n",
    "    verbose=True,\n",
    "    allow_delegation=False,\n",
    "    tools=[\n",
    "        JobHuntingTools.read_job_preferences,\n",
    "        JobHuntingTools.search_jobs,\n",
    "        JobHuntingTools.customize_resume_for_job,\n",
    "        JobHuntingTools.apply_to_job,\n",
    "        JobHuntingTools.track_applications\n",
    "    ]\n",
    ")\n",
    "\n",
    "print(\"🤖 Job Hunting Assistant Agent created!\")\n",
    "print(\"🎯 Agent equipped with 5 specialized tools\")\n",
    "print(\"✅ Ready for job hunting automation\")"
   ]
  },
  {
   "cell_type": "code",
   "execution_count": 6,
   "metadata": {
    "colab": {
     "base_uri": "https://localhost:8080/",
     "height": 1000,
     "referenced_widgets": [
      "288bd943285f47bfa15cd0e13acfabc4",
      "3ab34e81fdd047989fc68c86845dc4dc",
      "1108f22e436c48c2a0ce3c370900a20d",
      "c8f2b791c1c1498a85dcace69fe13f78",
      "7507d1296ac4411785058b807f829857",
      "55f5275fd51b4720b1e0fa7b9cdcd60a"
     ]
    },
    "id": "EITJVWPwNWT7",
    "outputId": "b72f07d0-cc65-4f82-a73d-24b19188ab78"
   },
   "outputs": [
    {
     "name": "stdout",
     "output_type": "stream",
     "text": [
      "🚀 Starting Job Hunting Automation System...\n",
      "============================================================\n",
      "🤖 Job Hunting Assistant activated...\n"
     ]
    },
    {
     "data": {
      "text/html": [
       "<pre style=\"white-space:pre;overflow-x:auto;line-height:normal;font-family:Menlo,'DejaVu Sans Mono',consolas,'Courier New',monospace\"><span style=\"color: #d2e3c8; text-decoration-color: #d2e3c8\">╭─ </span><span style=\"color: #d2e3c8; text-decoration-color: #d2e3c8; font-weight: bold\">Agent Info</span><span style=\"color: #d2e3c8; text-decoration-color: #d2e3c8\"> ────────────────────────────────────────────────────────────────────────────────────────────────────╮</span>\n",
       "<span style=\"color: #d2e3c8; text-decoration-color: #d2e3c8\">│</span>                                                                                                                 <span style=\"color: #d2e3c8; text-decoration-color: #d2e3c8\">│</span>\n",
       "<span style=\"color: #d2e3c8; text-decoration-color: #d2e3c8\">│</span>  <span style=\"color: #ff9b9b; text-decoration-color: #ff9b9b; font-weight: bold\">👤 Agent:</span> <span style=\"color: #ffe5e5; text-decoration-color: #ffe5e5\">Job Hunting Assistant</span>                                                                                <span style=\"color: #d2e3c8; text-decoration-color: #d2e3c8\">│</span>\n",
       "<span style=\"color: #d2e3c8; text-decoration-color: #d2e3c8\">│</span>  <span style=\"color: #b4b4b3; text-decoration-color: #b4b4b3; font-weight: bold\">Role:</span> <span style=\"color: #ffe5e5; text-decoration-color: #ffe5e5\">AI Job Search &amp; Application Specialist</span>                                                                   <span style=\"color: #d2e3c8; text-decoration-color: #d2e3c8\">│</span>\n",
       "<span style=\"color: #d2e3c8; text-decoration-color: #d2e3c8\">│</span>  <span style=\"color: #86a789; text-decoration-color: #86a789; font-weight: bold\">Tools:</span> <span style=\"color: #b4d4ff; text-decoration-color: #b4d4ff; font-style: italic\">read_job_preferences</span>, <span style=\"color: #b4d4ff; text-decoration-color: #b4d4ff; font-style: italic\">search_jobs</span>, <span style=\"color: #b4d4ff; text-decoration-color: #b4d4ff; font-style: italic\">customize_resume_for_job</span>, <span style=\"color: #b4d4ff; text-decoration-color: #b4d4ff; font-style: italic\">apply_to_job</span>, <span style=\"color: #b4d4ff; text-decoration-color: #b4d4ff; font-style: italic\">track_applications</span>           <span style=\"color: #d2e3c8; text-decoration-color: #d2e3c8\">│</span>\n",
       "<span style=\"color: #d2e3c8; text-decoration-color: #d2e3c8\">│</span>                                                                                                                 <span style=\"color: #d2e3c8; text-decoration-color: #d2e3c8\">│</span>\n",
       "<span style=\"color: #d2e3c8; text-decoration-color: #d2e3c8\">╰─────────────────────────────────────────────────────────────────────────────────────────────────────────────────╯</span>\n",
       "</pre>\n"
      ],
      "text/plain": [
       "\u001b[38;2;210;227;200m╭─\u001b[0m\u001b[38;2;210;227;200m \u001b[0m\u001b[1;38;2;210;227;200mAgent Info\u001b[0m\u001b[38;2;210;227;200m \u001b[0m\u001b[38;2;210;227;200m───────────────────────────────────────────────────────────────────────────────────────────────────\u001b[0m\u001b[38;2;210;227;200m─╮\u001b[0m\n",
       "\u001b[38;2;210;227;200m│\u001b[0m                                                                                                                 \u001b[38;2;210;227;200m│\u001b[0m\n",
       "\u001b[38;2;210;227;200m│\u001b[0m  \u001b[1;38;2;255;155;155m👤 Agent:\u001b[0m \u001b[38;2;255;229;229mJob Hunting Assistant\u001b[0m                                                                                \u001b[38;2;210;227;200m│\u001b[0m\n",
       "\u001b[38;2;210;227;200m│\u001b[0m  \u001b[1;38;2;180;180;179mRole:\u001b[0m \u001b[38;2;255;229;229mAI Job Search & Application Specialist\u001b[0m                                                                   \u001b[38;2;210;227;200m│\u001b[0m\n",
       "\u001b[38;2;210;227;200m│\u001b[0m  \u001b[1;38;2;134;167;137mTools:\u001b[0m \u001b[3;38;2;180;212;255mread_job_preferences\u001b[0m, \u001b[3;38;2;180;212;255msearch_jobs\u001b[0m, \u001b[3;38;2;180;212;255mcustomize_resume_for_job\u001b[0m, \u001b[3;38;2;180;212;255mapply_to_job\u001b[0m, \u001b[3;38;2;180;212;255mtrack_applications\u001b[0m           \u001b[38;2;210;227;200m│\u001b[0m\n",
       "\u001b[38;2;210;227;200m│\u001b[0m                                                                                                                 \u001b[38;2;210;227;200m│\u001b[0m\n",
       "\u001b[38;2;210;227;200m╰─────────────────────────────────────────────────────────────────────────────────────────────────────────────────╯\u001b[0m\n"
      ]
     },
     "metadata": {},
     "output_type": "display_data"
    },
    {
     "data": {
      "text/html": [
       "<pre style=\"white-space:pre;overflow-x:auto;line-height:normal;font-family:Menlo,'DejaVu Sans Mono',consolas,'Courier New',monospace\"></pre>\n"
      ],
      "text/plain": []
     },
     "metadata": {},
     "output_type": "display_data"
    },
    {
     "data": {
      "text/html": [
       "<pre style=\"white-space:pre;overflow-x:auto;line-height:normal;font-family:Menlo,'DejaVu Sans Mono',consolas,'Courier New',monospace\">\n",
       "</pre>\n"
      ],
      "text/plain": [
       "\n"
      ]
     },
     "metadata": {},
     "output_type": "display_data"
    },
    {
     "data": {
      "text/html": [
       "<pre style=\"white-space:pre;overflow-x:auto;line-height:normal;font-family:Menlo,'DejaVu Sans Mono',consolas,'Courier New',monospace\"><span style=\"color: #008000; text-decoration-color: #008000\">╭──────────────────────────────────────── Tool Call ────────────────────────────────────────╮</span>\n",
       "<span style=\"color: #008000; text-decoration-color: #008000\">│</span> <span style=\"color: #008080; text-decoration-color: #008080; font-weight: bold\">Agent Job Hunting Assistant is calling function 'read_job_preferences' with arguments: {}</span> <span style=\"color: #008000; text-decoration-color: #008000\">│</span>\n",
       "<span style=\"color: #008000; text-decoration-color: #008000\">╰───────────────────────────────────────────────────────────────────────────────────────────╯</span>\n",
       "</pre>\n"
      ],
      "text/plain": [
       "\u001b[32m╭─\u001b[0m\u001b[32m───────────────────────────────────────\u001b[0m\u001b[32m Tool Call \u001b[0m\u001b[32m───────────────────────────────────────\u001b[0m\u001b[32m─╮\u001b[0m\n",
       "\u001b[32m│\u001b[0m \u001b[1;36mAgent Job Hunting Assistant is calling function 'read_job_preferences' with arguments: {}\u001b[0m \u001b[32m│\u001b[0m\n",
       "\u001b[32m╰───────────────────────────────────────────────────────────────────────────────────────────╯\u001b[0m\n"
      ]
     },
     "metadata": {},
     "output_type": "display_data"
    },
    {
     "data": {
      "text/html": [
       "<pre style=\"white-space:pre;overflow-x:auto;line-height:normal;font-family:Menlo,'DejaVu Sans Mono',consolas,'Courier New',monospace\"><span style=\"color: #008000; text-decoration-color: #008000\">╭─────────────────────────────────────────────────── Tool Call ───────────────────────────────────────────────────╮</span>\n",
       "<span style=\"color: #008000; text-decoration-color: #008000\">│</span> <span style=\"color: #008080; text-decoration-color: #008080; font-weight: bold\">Function 'read_job_preferences' returned: \"\\ud83d\\udccb Job Preferences: {\\n  \\\"target_companies\\\": [\\n    </span>     <span style=\"color: #008000; text-decoration-color: #008000\">│</span>\n",
       "<span style=\"color: #008000; text-decoration-color: #008000\">│</span> <span style=\"color: #008080; text-decoration-color: #008080; font-weight: bold\">\\\"Google\\\",\\n    \\\"Microsoft\\\",\\n    \\\"Amazon\\\",\\n    \\\"Apple\\\"\\n  ],\\n  \\\"target_roles\\\": [\\n    \\\"Software </span>   <span style=\"color: #008000; text-decoration-color: #008000\">│</span>\n",
       "<span style=\"color: #008000; text-decoration-color: #008000\">│</span> <span style=\"color: #008080; text-decoration-color: #008080; font-weight: bold\">Engineer\\\",\\n    \\\"Data Scientist\\\",\\n    \\\"Product Manager\\\"\\n  ],\\n  \\\"preferred_locations\\\": [\\n    \\\"San </span>   <span style=\"color: #008000; text-decoration-color: #008000\">│</span>\n",
       "<span style=\"color: #008000; text-decoration-color: #008000\">│</span> <span style=\"color: #008080; text-decoration-color: #008080; font-weight: bold\">Francisco\\\",\\n    \\\"Seattle\\\",\\n    \\\"New York\\\",\\n    \\\"Remote\\\"\\n  ],\\n  \\\"experience_level\\\": </span>               <span style=\"color: #008000; text-decoration-color: #008000\">│</span>\n",
       "<span style=\"color: #008000; text-decoration-color: #008000\">│</span> <span style=\"color: #008080; text-decoration-color: #008080; font-weight: bold\">\\\"Mid-Senior\\\",\\n  \\\"keywords\\\": [\\n    \\\"python\\\",\\n    \\\"machine learning\\\",\\n    \\\"cloud\\\",\\n    \\\"AI\\\"\\n  </span>  <span style=\"color: #008000; text-decoration-color: #008000\">│</span>\n",
       "<span style=\"color: #008000; text-decoration-color: #008000\">│</span> <span style=\"color: #008080; text-decoration-color: #008080; font-weight: bold\">],\\n  \\\"salary_range\\\": \\\"$120k-180k\\\"\\n}\"</span>                                                                      <span style=\"color: #008000; text-decoration-color: #008000\">│</span>\n",
       "<span style=\"color: #008000; text-decoration-color: #008000\">╰─────────────────────────────────────────────────────────────────────────────────────────────────────────────────╯</span>\n",
       "</pre>\n"
      ],
      "text/plain": [
       "\u001b[32m╭─\u001b[0m\u001b[32m──────────────────────────────────────────────────\u001b[0m\u001b[32m Tool Call \u001b[0m\u001b[32m──────────────────────────────────────────────────\u001b[0m\u001b[32m─╮\u001b[0m\n",
       "\u001b[32m│\u001b[0m \u001b[1;36mFunction 'read_job_preferences' returned: \"\\ud83d\\udccb Job Preferences: {\\n  \\\"target_companies\\\": [\\n    \u001b[0m     \u001b[32m│\u001b[0m\n",
       "\u001b[32m│\u001b[0m \u001b[1;36m\\\"Google\\\",\\n    \\\"Microsoft\\\",\\n    \\\"Amazon\\\",\\n    \\\"Apple\\\"\\n  ],\\n  \\\"target_roles\\\": [\\n    \\\"Software \u001b[0m   \u001b[32m│\u001b[0m\n",
       "\u001b[32m│\u001b[0m \u001b[1;36mEngineer\\\",\\n    \\\"Data Scientist\\\",\\n    \\\"Product Manager\\\"\\n  ],\\n  \\\"preferred_locations\\\": [\\n    \\\"San \u001b[0m   \u001b[32m│\u001b[0m\n",
       "\u001b[32m│\u001b[0m \u001b[1;36mFrancisco\\\",\\n    \\\"Seattle\\\",\\n    \\\"New York\\\",\\n    \\\"Remote\\\"\\n  ],\\n  \\\"experience_level\\\": \u001b[0m               \u001b[32m│\u001b[0m\n",
       "\u001b[32m│\u001b[0m \u001b[1;36m\\\"Mid-Senior\\\",\\n  \\\"keywords\\\": [\\n    \\\"python\\\",\\n    \\\"machine learning\\\",\\n    \\\"cloud\\\",\\n    \\\"AI\\\"\\n  \u001b[0m  \u001b[32m│\u001b[0m\n",
       "\u001b[32m│\u001b[0m \u001b[1;36m],\\n  \\\"salary_range\\\": \\\"$120k-180k\\\"\\n}\"\u001b[0m                                                                      \u001b[32m│\u001b[0m\n",
       "\u001b[32m╰─────────────────────────────────────────────────────────────────────────────────────────────────────────────────╯\u001b[0m\n"
      ]
     },
     "metadata": {},
     "output_type": "display_data"
    },
    {
     "data": {
      "application/vnd.jupyter.widget-view+json": {
       "model_id": "288bd943285f47bfa15cd0e13acfabc4",
       "version_major": 2,
       "version_minor": 0
      },
      "text/plain": [
       "Output()"
      ]
     },
     "metadata": {},
     "output_type": "display_data"
    },
    {
     "data": {
      "text/html": [
       "<pre style=\"white-space:pre;overflow-x:auto;line-height:normal;font-family:Menlo,'DejaVu Sans Mono',consolas,'Courier New',monospace\"></pre>\n"
      ],
      "text/plain": []
     },
     "metadata": {},
     "output_type": "display_data"
    },
    {
     "data": {
      "text/html": [
       "<pre style=\"white-space:pre;overflow-x:auto;line-height:normal;font-family:Menlo,'DejaVu Sans Mono',consolas,'Courier New',monospace\">\n",
       "</pre>\n"
      ],
      "text/plain": [
       "\n"
      ]
     },
     "metadata": {},
     "output_type": "display_data"
    },
    {
     "data": {
      "text/html": [
       "<pre style=\"white-space:pre;overflow-x:auto;line-height:normal;font-family:Menlo,'DejaVu Sans Mono',consolas,'Courier New',monospace\"><span style=\"color: #7f7f7f; text-decoration-color: #7f7f7f\">Response generated in 4.4s</span>\n",
       "</pre>\n"
      ],
      "text/plain": [
       "\u001b[2mResponse generated in 4.4s\u001b[0m\n"
      ]
     },
     "metadata": {},
     "output_type": "display_data"
    },
    {
     "data": {
      "text/html": [
       "<pre style=\"white-space:pre;overflow-x:auto;line-height:normal;font-family:Menlo,'DejaVu Sans Mono',consolas,'Courier New',monospace\"><span style=\"color: #008080; text-decoration-color: #008080\">╭───────────────────────────────────────────────────── Task ──────────────────────────────────────────────────────╮</span>\n",
       "<span style=\"color: #008080; text-decoration-color: #008080\">│</span> You need to do the following task: Execute a complete job hunting workflow:                                     <span style=\"color: #008080; text-decoration-color: #008080\">│</span>\n",
       "<span style=\"color: #008080; text-decoration-color: #008080\">│</span>                                                                                                                 <span style=\"color: #008080; text-decoration-color: #008080\">│</span>\n",
       "<span style=\"color: #008080; text-decoration-color: #008080\">│</span> <span style=\"background-color: #272822\">                                                                                                               </span> <span style=\"color: #008080; text-decoration-color: #008080\">│</span>\n",
       "<span style=\"color: #008080; text-decoration-color: #008080\">│</span> <span style=\"background-color: #272822\"> </span><span style=\"color: #f8f8f2; text-decoration-color: #f8f8f2; background-color: #272822\">    1. **Read Job Preferences**: Get user's job search criteria and preferences</span><span style=\"background-color: #272822\">                               </span> <span style=\"color: #008080; text-decoration-color: #008080\">│</span>\n",
       "<span style=\"color: #008080; text-decoration-color: #008080\">│</span> <span style=\"background-color: #272822\"> </span><span style=\"color: #f8f8f2; text-decoration-color: #f8f8f2; background-color: #272822\">    2. **Search for Jobs**: Find 5 relevant software engineer positions in San Francisco</span><span style=\"background-color: #272822\">                      </span> <span style=\"color: #008080; text-decoration-color: #008080\">│</span>\n",
       "<span style=\"color: #008080; text-decoration-color: #008080\">│</span> <span style=\"background-color: #272822\"> </span><span style=\"color: #f8f8f2; text-decoration-color: #f8f8f2; background-color: #272822\">    3. **Customize Resumes**: Create customized resumes for the top 3 most promising jobs</span><span style=\"background-color: #272822\">                     </span> <span style=\"color: #008080; text-decoration-color: #008080\">│</span>\n",
       "<span style=\"color: #008080; text-decoration-color: #008080\">│</span> <span style=\"background-color: #272822\"> </span><span style=\"color: #f8f8f2; text-decoration-color: #f8f8f2; background-color: #272822\">    4. **Submit Applications**: Apply to the jobs with customized resumes</span><span style=\"background-color: #272822\">                                     </span> <span style=\"color: #008080; text-decoration-color: #008080\">│</span>\n",
       "<span style=\"color: #008080; text-decoration-color: #008080\">│</span> <span style=\"background-color: #272822\"> </span><span style=\"color: #f8f8f2; text-decoration-color: #f8f8f2; background-color: #272822\">    5. **Track Progress**: Provide application tracking dashboard</span><span style=\"background-color: #272822\">                                             </span> <span style=\"color: #008080; text-decoration-color: #008080\">│</span>\n",
       "<span style=\"color: #008080; text-decoration-color: #008080\">│</span> <span style=\"background-color: #272822\"> </span><span style=\"color: #f8f8f2; text-decoration-color: #f8f8f2; background-color: #272822\">    </span><span style=\"background-color: #272822\">                                                                                                          </span> <span style=\"color: #008080; text-decoration-color: #008080\">│</span>\n",
       "<span style=\"color: #008080; text-decoration-color: #008080\">│</span> <span style=\"background-color: #272822\"> </span><span style=\"color: #f8f8f2; text-decoration-color: #f8f8f2; background-color: #272822\">    Provide detailed feedback at each step and include specific recommendations </span><span style=\"background-color: #272822\">                              </span> <span style=\"color: #008080; text-decoration-color: #008080\">│</span>\n",
       "<span style=\"color: #008080; text-decoration-color: #008080\">│</span> <span style=\"background-color: #272822\"> </span><span style=\"color: #f8f8f2; text-decoration-color: #f8f8f2; background-color: #272822\">    for improving the job search strategy.</span><span style=\"background-color: #272822\">                                                                    </span> <span style=\"color: #008080; text-decoration-color: #008080\">│</span>\n",
       "<span style=\"color: #008080; text-decoration-color: #008080\">│</span> <span style=\"background-color: #272822\"> </span><span style=\"color: #f8f8f2; text-decoration-color: #f8f8f2; background-color: #272822\">    .</span><span style=\"background-color: #272822\">                                                                                                         </span> <span style=\"color: #008080; text-decoration-color: #008080\">│</span>\n",
       "<span style=\"color: #008080; text-decoration-color: #008080\">│</span> <span style=\"background-color: #272822\">                                                                                                               </span> <span style=\"color: #008080; text-decoration-color: #008080\">│</span>\n",
       "<span style=\"color: #008080; text-decoration-color: #008080\">│</span>                                                                                                                 <span style=\"color: #008080; text-decoration-color: #008080\">│</span>\n",
       "<span style=\"color: #008080; text-decoration-color: #008080\">│</span> Expected Output: Complete job hunting workflow with applications submitted and tracking dashboard. Please       <span style=\"color: #008080; text-decoration-color: #008080\">│</span>\n",
       "<span style=\"color: #008080; text-decoration-color: #008080\">│</span> provide only the final result of your work. Do not add any conversation or extra explanation.                   <span style=\"color: #008080; text-decoration-color: #008080\">│</span>\n",
       "<span style=\"color: #008080; text-decoration-color: #008080\">╰─────────────────────────────────────────────────────────────────────────────────────────────────────────────────╯</span>\n",
       "</pre>\n"
      ],
      "text/plain": [
       "\u001b[36m╭─\u001b[0m\u001b[36m────────────────────────────────────────────────────\u001b[0m\u001b[36m Task \u001b[0m\u001b[36m─────────────────────────────────────────────────────\u001b[0m\u001b[36m─╮\u001b[0m\n",
       "\u001b[36m│\u001b[0m You need to do the following task: Execute a complete job hunting workflow:                                     \u001b[36m│\u001b[0m\n",
       "\u001b[36m│\u001b[0m                                                                                                                 \u001b[36m│\u001b[0m\n",
       "\u001b[36m│\u001b[0m \u001b[48;2;39;40;34m                                                                                                               \u001b[0m \u001b[36m│\u001b[0m\n",
       "\u001b[36m│\u001b[0m \u001b[48;2;39;40;34m \u001b[0m\u001b[38;2;248;248;242;48;2;39;40;34m    1. **Read Job Preferences**: Get user's job search criteria and preferences\u001b[0m\u001b[48;2;39;40;34m                              \u001b[0m\u001b[48;2;39;40;34m \u001b[0m \u001b[36m│\u001b[0m\n",
       "\u001b[36m│\u001b[0m \u001b[48;2;39;40;34m \u001b[0m\u001b[38;2;248;248;242;48;2;39;40;34m    2. **Search for Jobs**: Find 5 relevant software engineer positions in San Francisco\u001b[0m\u001b[48;2;39;40;34m                     \u001b[0m\u001b[48;2;39;40;34m \u001b[0m \u001b[36m│\u001b[0m\n",
       "\u001b[36m│\u001b[0m \u001b[48;2;39;40;34m \u001b[0m\u001b[38;2;248;248;242;48;2;39;40;34m    3. **Customize Resumes**: Create customized resumes for the top 3 most promising jobs\u001b[0m\u001b[48;2;39;40;34m                    \u001b[0m\u001b[48;2;39;40;34m \u001b[0m \u001b[36m│\u001b[0m\n",
       "\u001b[36m│\u001b[0m \u001b[48;2;39;40;34m \u001b[0m\u001b[38;2;248;248;242;48;2;39;40;34m    4. **Submit Applications**: Apply to the jobs with customized resumes\u001b[0m\u001b[48;2;39;40;34m                                    \u001b[0m\u001b[48;2;39;40;34m \u001b[0m \u001b[36m│\u001b[0m\n",
       "\u001b[36m│\u001b[0m \u001b[48;2;39;40;34m \u001b[0m\u001b[38;2;248;248;242;48;2;39;40;34m    5. **Track Progress**: Provide application tracking dashboard\u001b[0m\u001b[48;2;39;40;34m                                            \u001b[0m\u001b[48;2;39;40;34m \u001b[0m \u001b[36m│\u001b[0m\n",
       "\u001b[36m│\u001b[0m \u001b[48;2;39;40;34m \u001b[0m\u001b[38;2;248;248;242;48;2;39;40;34m    \u001b[0m\u001b[48;2;39;40;34m                                                                                                         \u001b[0m\u001b[48;2;39;40;34m \u001b[0m \u001b[36m│\u001b[0m\n",
       "\u001b[36m│\u001b[0m \u001b[48;2;39;40;34m \u001b[0m\u001b[38;2;248;248;242;48;2;39;40;34m    Provide detailed feedback at each step and include specific recommendations \u001b[0m\u001b[48;2;39;40;34m                             \u001b[0m\u001b[48;2;39;40;34m \u001b[0m \u001b[36m│\u001b[0m\n",
       "\u001b[36m│\u001b[0m \u001b[48;2;39;40;34m \u001b[0m\u001b[38;2;248;248;242;48;2;39;40;34m    for improving the job search strategy.\u001b[0m\u001b[48;2;39;40;34m                                                                   \u001b[0m\u001b[48;2;39;40;34m \u001b[0m \u001b[36m│\u001b[0m\n",
       "\u001b[36m│\u001b[0m \u001b[48;2;39;40;34m \u001b[0m\u001b[38;2;248;248;242;48;2;39;40;34m    .\u001b[0m\u001b[48;2;39;40;34m                                                                                                        \u001b[0m\u001b[48;2;39;40;34m \u001b[0m \u001b[36m│\u001b[0m\n",
       "\u001b[36m│\u001b[0m \u001b[48;2;39;40;34m                                                                                                               \u001b[0m \u001b[36m│\u001b[0m\n",
       "\u001b[36m│\u001b[0m                                                                                                                 \u001b[36m│\u001b[0m\n",
       "\u001b[36m│\u001b[0m Expected Output: Complete job hunting workflow with applications submitted and tracking dashboard. Please       \u001b[36m│\u001b[0m\n",
       "\u001b[36m│\u001b[0m provide only the final result of your work. Do not add any conversation or extra explanation.                   \u001b[36m│\u001b[0m\n",
       "\u001b[36m╰─────────────────────────────────────────────────────────────────────────────────────────────────────────────────╯\u001b[0m\n"
      ]
     },
     "metadata": {},
     "output_type": "display_data"
    },
    {
     "data": {
      "text/html": [
       "<pre style=\"white-space:pre;overflow-x:auto;line-height:normal;font-family:Menlo,'DejaVu Sans Mono',consolas,'Courier New',monospace\"><span style=\"color: #008080; text-decoration-color: #008080\">╭─────────────────────────────────────────────────── Response ────────────────────────────────────────────────────╮</span>\n",
       "<span style=\"color: #008080; text-decoration-color: #008080\">╰─────────────────────────────────────────────────────────────────────────────────────────────────────────────────╯</span>\n",
       "</pre>\n"
      ],
      "text/plain": [
       "\u001b[36m╭─\u001b[0m\u001b[36m──────────────────────────────────────────────────\u001b[0m\u001b[36m Response \u001b[0m\u001b[36m───────────────────────────────────────────────────\u001b[0m\u001b[36m─╮\u001b[0m\n",
       "\u001b[36m╰─────────────────────────────────────────────────────────────────────────────────────────────────────────────────╯\u001b[0m\n"
      ]
     },
     "metadata": {},
     "output_type": "display_data"
    },
    {
     "data": {
      "text/html": [
       "<pre style=\"white-space:pre;overflow-x:auto;line-height:normal;font-family:Menlo,'DejaVu Sans Mono',consolas,'Courier New',monospace\"><span style=\"color: #d2e3c8; text-decoration-color: #d2e3c8\">╭─ </span><span style=\"color: #d2e3c8; text-decoration-color: #d2e3c8; font-weight: bold\">Agent Info</span><span style=\"color: #d2e3c8; text-decoration-color: #d2e3c8\"> ────────────────────────────────────────────────────────────────────────────────────────────────────╮</span>\n",
       "<span style=\"color: #d2e3c8; text-decoration-color: #d2e3c8\">│</span>                                                                                                                 <span style=\"color: #d2e3c8; text-decoration-color: #d2e3c8\">│</span>\n",
       "<span style=\"color: #d2e3c8; text-decoration-color: #d2e3c8\">│</span>  <span style=\"color: #ff9b9b; text-decoration-color: #ff9b9b; font-weight: bold\">👤 Agent:</span> <span style=\"color: #ffe5e5; text-decoration-color: #ffe5e5\">Job Hunting Assistant</span>                                                                                <span style=\"color: #d2e3c8; text-decoration-color: #d2e3c8\">│</span>\n",
       "<span style=\"color: #d2e3c8; text-decoration-color: #d2e3c8\">│</span>  <span style=\"color: #b4b4b3; text-decoration-color: #b4b4b3; font-weight: bold\">Role:</span> <span style=\"color: #ffe5e5; text-decoration-color: #ffe5e5\">AI Job Search &amp; Application Specialist</span>                                                                   <span style=\"color: #d2e3c8; text-decoration-color: #d2e3c8\">│</span>\n",
       "<span style=\"color: #d2e3c8; text-decoration-color: #d2e3c8\">│</span>  <span style=\"color: #86a789; text-decoration-color: #86a789; font-weight: bold\">Tools:</span> <span style=\"color: #b4d4ff; text-decoration-color: #b4d4ff; font-style: italic\">read_job_preferences</span>, <span style=\"color: #b4d4ff; text-decoration-color: #b4d4ff; font-style: italic\">search_jobs</span>, <span style=\"color: #b4d4ff; text-decoration-color: #b4d4ff; font-style: italic\">customize_resume_for_job</span>, <span style=\"color: #b4d4ff; text-decoration-color: #b4d4ff; font-style: italic\">apply_to_job</span>, <span style=\"color: #b4d4ff; text-decoration-color: #b4d4ff; font-style: italic\">track_applications</span>           <span style=\"color: #d2e3c8; text-decoration-color: #d2e3c8\">│</span>\n",
       "<span style=\"color: #d2e3c8; text-decoration-color: #d2e3c8\">│</span>                                                                                                                 <span style=\"color: #d2e3c8; text-decoration-color: #d2e3c8\">│</span>\n",
       "<span style=\"color: #d2e3c8; text-decoration-color: #d2e3c8\">╰─────────────────────────────────────────────────────────────────────────────────────────────────────────────────╯</span>\n",
       "</pre>\n"
      ],
      "text/plain": [
       "\u001b[38;2;210;227;200m╭─\u001b[0m\u001b[38;2;210;227;200m \u001b[0m\u001b[1;38;2;210;227;200mAgent Info\u001b[0m\u001b[38;2;210;227;200m \u001b[0m\u001b[38;2;210;227;200m───────────────────────────────────────────────────────────────────────────────────────────────────\u001b[0m\u001b[38;2;210;227;200m─╮\u001b[0m\n",
       "\u001b[38;2;210;227;200m│\u001b[0m                                                                                                                 \u001b[38;2;210;227;200m│\u001b[0m\n",
       "\u001b[38;2;210;227;200m│\u001b[0m  \u001b[1;38;2;255;155;155m👤 Agent:\u001b[0m \u001b[38;2;255;229;229mJob Hunting Assistant\u001b[0m                                                                                \u001b[38;2;210;227;200m│\u001b[0m\n",
       "\u001b[38;2;210;227;200m│\u001b[0m  \u001b[1;38;2;180;180;179mRole:\u001b[0m \u001b[38;2;255;229;229mAI Job Search & Application Specialist\u001b[0m                                                                   \u001b[38;2;210;227;200m│\u001b[0m\n",
       "\u001b[38;2;210;227;200m│\u001b[0m  \u001b[1;38;2;134;167;137mTools:\u001b[0m \u001b[3;38;2;180;212;255mread_job_preferences\u001b[0m, \u001b[3;38;2;180;212;255msearch_jobs\u001b[0m, \u001b[3;38;2;180;212;255mcustomize_resume_for_job\u001b[0m, \u001b[3;38;2;180;212;255mapply_to_job\u001b[0m, \u001b[3;38;2;180;212;255mtrack_applications\u001b[0m           \u001b[38;2;210;227;200m│\u001b[0m\n",
       "\u001b[38;2;210;227;200m│\u001b[0m                                                                                                                 \u001b[38;2;210;227;200m│\u001b[0m\n",
       "\u001b[38;2;210;227;200m╰─────────────────────────────────────────────────────────────────────────────────────────────────────────────────╯\u001b[0m\n"
      ]
     },
     "metadata": {},
     "output_type": "display_data"
    },
    {
     "data": {
      "text/html": [
       "<pre style=\"white-space:pre;overflow-x:auto;line-height:normal;font-family:Menlo,'DejaVu Sans Mono',consolas,'Courier New',monospace\"></pre>\n"
      ],
      "text/plain": []
     },
     "metadata": {},
     "output_type": "display_data"
    },
    {
     "data": {
      "text/html": [
       "<pre style=\"white-space:pre;overflow-x:auto;line-height:normal;font-family:Menlo,'DejaVu Sans Mono',consolas,'Courier New',monospace\">\n",
       "</pre>\n"
      ],
      "text/plain": [
       "\n"
      ]
     },
     "metadata": {},
     "output_type": "display_data"
    },
    {
     "data": {
      "text/html": [
       "<pre style=\"white-space:pre;overflow-x:auto;line-height:normal;font-family:Menlo,'DejaVu Sans Mono',consolas,'Courier New',monospace\"><span style=\"color: #008000; text-decoration-color: #008000\">╭──────────────────────────────────────── Tool Call ────────────────────────────────────────╮</span>\n",
       "<span style=\"color: #008000; text-decoration-color: #008000\">│</span> <span style=\"color: #008080; text-decoration-color: #008080; font-weight: bold\">Agent Job Hunting Assistant is calling function 'read_job_preferences' with arguments: {}</span> <span style=\"color: #008000; text-decoration-color: #008000\">│</span>\n",
       "<span style=\"color: #008000; text-decoration-color: #008000\">╰───────────────────────────────────────────────────────────────────────────────────────────╯</span>\n",
       "</pre>\n"
      ],
      "text/plain": [
       "\u001b[32m╭─\u001b[0m\u001b[32m───────────────────────────────────────\u001b[0m\u001b[32m Tool Call \u001b[0m\u001b[32m───────────────────────────────────────\u001b[0m\u001b[32m─╮\u001b[0m\n",
       "\u001b[32m│\u001b[0m \u001b[1;36mAgent Job Hunting Assistant is calling function 'read_job_preferences' with arguments: {}\u001b[0m \u001b[32m│\u001b[0m\n",
       "\u001b[32m╰───────────────────────────────────────────────────────────────────────────────────────────╯\u001b[0m\n"
      ]
     },
     "metadata": {},
     "output_type": "display_data"
    },
    {
     "data": {
      "text/html": [
       "<pre style=\"white-space:pre;overflow-x:auto;line-height:normal;font-family:Menlo,'DejaVu Sans Mono',consolas,'Courier New',monospace\"><span style=\"color: #008000; text-decoration-color: #008000\">╭─────────────────────────────────────────────────── Tool Call ───────────────────────────────────────────────────╮</span>\n",
       "<span style=\"color: #008000; text-decoration-color: #008000\">│</span> <span style=\"color: #008080; text-decoration-color: #008080; font-weight: bold\">Function 'read_job_preferences' returned: \"\\ud83d\\udccb Job Preferences: {\\n  \\\"target_companies\\\": [\\n    </span>     <span style=\"color: #008000; text-decoration-color: #008000\">│</span>\n",
       "<span style=\"color: #008000; text-decoration-color: #008000\">│</span> <span style=\"color: #008080; text-decoration-color: #008080; font-weight: bold\">\\\"Google\\\",\\n    \\\"Microsoft\\\",\\n    \\\"Amazon\\\",\\n    \\\"Apple\\\"\\n  ],\\n  \\\"target_roles\\\": [\\n    \\\"Software </span>   <span style=\"color: #008000; text-decoration-color: #008000\">│</span>\n",
       "<span style=\"color: #008000; text-decoration-color: #008000\">│</span> <span style=\"color: #008080; text-decoration-color: #008080; font-weight: bold\">Engineer\\\",\\n    \\\"Data Scientist\\\",\\n    \\\"Product Manager\\\"\\n  ],\\n  \\\"preferred_locations\\\": [\\n    \\\"San </span>   <span style=\"color: #008000; text-decoration-color: #008000\">│</span>\n",
       "<span style=\"color: #008000; text-decoration-color: #008000\">│</span> <span style=\"color: #008080; text-decoration-color: #008080; font-weight: bold\">Francisco\\\",\\n    \\\"Seattle\\\",\\n    \\\"New York\\\",\\n    \\\"Remote\\\"\\n  ],\\n  \\\"experience_level\\\": </span>               <span style=\"color: #008000; text-decoration-color: #008000\">│</span>\n",
       "<span style=\"color: #008000; text-decoration-color: #008000\">│</span> <span style=\"color: #008080; text-decoration-color: #008080; font-weight: bold\">\\\"Mid-Senior\\\",\\n  \\\"keywords\\\": [\\n    \\\"python\\\",\\n    \\\"machine learning\\\",\\n    \\\"cloud\\\",\\n    \\\"AI\\\"\\n  </span>  <span style=\"color: #008000; text-decoration-color: #008000\">│</span>\n",
       "<span style=\"color: #008000; text-decoration-color: #008000\">│</span> <span style=\"color: #008080; text-decoration-color: #008080; font-weight: bold\">],\\n  \\\"salary_range\\\": \\\"$120k-180k\\\"\\n}\"</span>                                                                      <span style=\"color: #008000; text-decoration-color: #008000\">│</span>\n",
       "<span style=\"color: #008000; text-decoration-color: #008000\">╰─────────────────────────────────────────────────────────────────────────────────────────────────────────────────╯</span>\n",
       "</pre>\n"
      ],
      "text/plain": [
       "\u001b[32m╭─\u001b[0m\u001b[32m──────────────────────────────────────────────────\u001b[0m\u001b[32m Tool Call \u001b[0m\u001b[32m──────────────────────────────────────────────────\u001b[0m\u001b[32m─╮\u001b[0m\n",
       "\u001b[32m│\u001b[0m \u001b[1;36mFunction 'read_job_preferences' returned: \"\\ud83d\\udccb Job Preferences: {\\n  \\\"target_companies\\\": [\\n    \u001b[0m     \u001b[32m│\u001b[0m\n",
       "\u001b[32m│\u001b[0m \u001b[1;36m\\\"Google\\\",\\n    \\\"Microsoft\\\",\\n    \\\"Amazon\\\",\\n    \\\"Apple\\\"\\n  ],\\n  \\\"target_roles\\\": [\\n    \\\"Software \u001b[0m   \u001b[32m│\u001b[0m\n",
       "\u001b[32m│\u001b[0m \u001b[1;36mEngineer\\\",\\n    \\\"Data Scientist\\\",\\n    \\\"Product Manager\\\"\\n  ],\\n  \\\"preferred_locations\\\": [\\n    \\\"San \u001b[0m   \u001b[32m│\u001b[0m\n",
       "\u001b[32m│\u001b[0m \u001b[1;36mFrancisco\\\",\\n    \\\"Seattle\\\",\\n    \\\"New York\\\",\\n    \\\"Remote\\\"\\n  ],\\n  \\\"experience_level\\\": \u001b[0m               \u001b[32m│\u001b[0m\n",
       "\u001b[32m│\u001b[0m \u001b[1;36m\\\"Mid-Senior\\\",\\n  \\\"keywords\\\": [\\n    \\\"python\\\",\\n    \\\"machine learning\\\",\\n    \\\"cloud\\\",\\n    \\\"AI\\\"\\n  \u001b[0m  \u001b[32m│\u001b[0m\n",
       "\u001b[32m│\u001b[0m \u001b[1;36m],\\n  \\\"salary_range\\\": \\\"$120k-180k\\\"\\n}\"\u001b[0m                                                                      \u001b[32m│\u001b[0m\n",
       "\u001b[32m╰─────────────────────────────────────────────────────────────────────────────────────────────────────────────────╯\u001b[0m\n"
      ]
     },
     "metadata": {},
     "output_type": "display_data"
    },
    {
     "data": {
      "application/vnd.jupyter.widget-view+json": {
       "model_id": "1108f22e436c48c2a0ce3c370900a20d",
       "version_major": 2,
       "version_minor": 0
      },
      "text/plain": [
       "Output()"
      ]
     },
     "metadata": {},
     "output_type": "display_data"
    },
    {
     "data": {
      "text/html": [
       "<pre style=\"white-space:pre;overflow-x:auto;line-height:normal;font-family:Menlo,'DejaVu Sans Mono',consolas,'Courier New',monospace\"></pre>\n"
      ],
      "text/plain": []
     },
     "metadata": {},
     "output_type": "display_data"
    },
    {
     "data": {
      "text/html": [
       "<pre style=\"white-space:pre;overflow-x:auto;line-height:normal;font-family:Menlo,'DejaVu Sans Mono',consolas,'Courier New',monospace\">\n",
       "</pre>\n"
      ],
      "text/plain": [
       "\n"
      ]
     },
     "metadata": {},
     "output_type": "display_data"
    },
    {
     "data": {
      "text/html": [
       "<pre style=\"white-space:pre;overflow-x:auto;line-height:normal;font-family:Menlo,'DejaVu Sans Mono',consolas,'Courier New',monospace\"><span style=\"color: #7f7f7f; text-decoration-color: #7f7f7f\">Response generated in 2.1s</span>\n",
       "</pre>\n"
      ],
      "text/plain": [
       "\u001b[2mResponse generated in 2.1s\u001b[0m\n"
      ]
     },
     "metadata": {},
     "output_type": "display_data"
    },
    {
     "data": {
      "text/html": [
       "<pre style=\"white-space:pre;overflow-x:auto;line-height:normal;font-family:Menlo,'DejaVu Sans Mono',consolas,'Courier New',monospace\"><span style=\"color: #008080; text-decoration-color: #008080\">╭───────────────────────────────────────────────────── Task ──────────────────────────────────────────────────────╮</span>\n",
       "<span style=\"color: #008080; text-decoration-color: #008080\">│</span> You need to do the following task: Execute a complete job hunting workflow:                                     <span style=\"color: #008080; text-decoration-color: #008080\">│</span>\n",
       "<span style=\"color: #008080; text-decoration-color: #008080\">│</span>                                                                                                                 <span style=\"color: #008080; text-decoration-color: #008080\">│</span>\n",
       "<span style=\"color: #008080; text-decoration-color: #008080\">│</span> <span style=\"background-color: #272822\">                                                                                                               </span> <span style=\"color: #008080; text-decoration-color: #008080\">│</span>\n",
       "<span style=\"color: #008080; text-decoration-color: #008080\">│</span> <span style=\"background-color: #272822\"> </span><span style=\"color: #f8f8f2; text-decoration-color: #f8f8f2; background-color: #272822\">    1. **Read Job Preferences**: Get user's job search criteria and preferences</span><span style=\"background-color: #272822\">                               </span> <span style=\"color: #008080; text-decoration-color: #008080\">│</span>\n",
       "<span style=\"color: #008080; text-decoration-color: #008080\">│</span> <span style=\"background-color: #272822\"> </span><span style=\"color: #f8f8f2; text-decoration-color: #f8f8f2; background-color: #272822\">    2. **Search for Jobs**: Find 5 relevant software engineer positions in San Francisco</span><span style=\"background-color: #272822\">                      </span> <span style=\"color: #008080; text-decoration-color: #008080\">│</span>\n",
       "<span style=\"color: #008080; text-decoration-color: #008080\">│</span> <span style=\"background-color: #272822\"> </span><span style=\"color: #f8f8f2; text-decoration-color: #f8f8f2; background-color: #272822\">    3. **Customize Resumes**: Create customized resumes for the top 3 most promising jobs</span><span style=\"background-color: #272822\">                     </span> <span style=\"color: #008080; text-decoration-color: #008080\">│</span>\n",
       "<span style=\"color: #008080; text-decoration-color: #008080\">│</span> <span style=\"background-color: #272822\"> </span><span style=\"color: #f8f8f2; text-decoration-color: #f8f8f2; background-color: #272822\">    4. **Submit Applications**: Apply to the jobs with customized resumes</span><span style=\"background-color: #272822\">                                     </span> <span style=\"color: #008080; text-decoration-color: #008080\">│</span>\n",
       "<span style=\"color: #008080; text-decoration-color: #008080\">│</span> <span style=\"background-color: #272822\"> </span><span style=\"color: #f8f8f2; text-decoration-color: #f8f8f2; background-color: #272822\">    5. **Track Progress**: Provide application tracking dashboard</span><span style=\"background-color: #272822\">                                             </span> <span style=\"color: #008080; text-decoration-color: #008080\">│</span>\n",
       "<span style=\"color: #008080; text-decoration-color: #008080\">│</span> <span style=\"background-color: #272822\"> </span><span style=\"color: #f8f8f2; text-decoration-color: #f8f8f2; background-color: #272822\">    </span><span style=\"background-color: #272822\">                                                                                                          </span> <span style=\"color: #008080; text-decoration-color: #008080\">│</span>\n",
       "<span style=\"color: #008080; text-decoration-color: #008080\">│</span> <span style=\"background-color: #272822\"> </span><span style=\"color: #f8f8f2; text-decoration-color: #f8f8f2; background-color: #272822\">    Provide detailed feedback at each step and include specific recommendations </span><span style=\"background-color: #272822\">                              </span> <span style=\"color: #008080; text-decoration-color: #008080\">│</span>\n",
       "<span style=\"color: #008080; text-decoration-color: #008080\">│</span> <span style=\"background-color: #272822\"> </span><span style=\"color: #f8f8f2; text-decoration-color: #f8f8f2; background-color: #272822\">    for improving the job search strategy.</span><span style=\"background-color: #272822\">                                                                    </span> <span style=\"color: #008080; text-decoration-color: #008080\">│</span>\n",
       "<span style=\"color: #008080; text-decoration-color: #008080\">│</span> <span style=\"background-color: #272822\"> </span><span style=\"color: #f8f8f2; text-decoration-color: #f8f8f2; background-color: #272822\">    .</span><span style=\"background-color: #272822\">                                                                                                         </span> <span style=\"color: #008080; text-decoration-color: #008080\">│</span>\n",
       "<span style=\"color: #008080; text-decoration-color: #008080\">│</span> <span style=\"background-color: #272822\">                                                                                                               </span> <span style=\"color: #008080; text-decoration-color: #008080\">│</span>\n",
       "<span style=\"color: #008080; text-decoration-color: #008080\">│</span>                                                                                                                 <span style=\"color: #008080; text-decoration-color: #008080\">│</span>\n",
       "<span style=\"color: #008080; text-decoration-color: #008080\">│</span> Expected Output: Complete job hunting workflow with applications submitted and tracking dashboard. Please       <span style=\"color: #008080; text-decoration-color: #008080\">│</span>\n",
       "<span style=\"color: #008080; text-decoration-color: #008080\">│</span> provide only the final result of your work. Do not add any conversation or extra explanation.                   <span style=\"color: #008080; text-decoration-color: #008080\">│</span>\n",
       "<span style=\"color: #008080; text-decoration-color: #008080\">╰─────────────────────────────────────────────────────────────────────────────────────────────────────────────────╯</span>\n",
       "</pre>\n"
      ],
      "text/plain": [
       "\u001b[36m╭─\u001b[0m\u001b[36m────────────────────────────────────────────────────\u001b[0m\u001b[36m Task \u001b[0m\u001b[36m─────────────────────────────────────────────────────\u001b[0m\u001b[36m─╮\u001b[0m\n",
       "\u001b[36m│\u001b[0m You need to do the following task: Execute a complete job hunting workflow:                                     \u001b[36m│\u001b[0m\n",
       "\u001b[36m│\u001b[0m                                                                                                                 \u001b[36m│\u001b[0m\n",
       "\u001b[36m│\u001b[0m \u001b[48;2;39;40;34m                                                                                                               \u001b[0m \u001b[36m│\u001b[0m\n",
       "\u001b[36m│\u001b[0m \u001b[48;2;39;40;34m \u001b[0m\u001b[38;2;248;248;242;48;2;39;40;34m    1. **Read Job Preferences**: Get user's job search criteria and preferences\u001b[0m\u001b[48;2;39;40;34m                              \u001b[0m\u001b[48;2;39;40;34m \u001b[0m \u001b[36m│\u001b[0m\n",
       "\u001b[36m│\u001b[0m \u001b[48;2;39;40;34m \u001b[0m\u001b[38;2;248;248;242;48;2;39;40;34m    2. **Search for Jobs**: Find 5 relevant software engineer positions in San Francisco\u001b[0m\u001b[48;2;39;40;34m                     \u001b[0m\u001b[48;2;39;40;34m \u001b[0m \u001b[36m│\u001b[0m\n",
       "\u001b[36m│\u001b[0m \u001b[48;2;39;40;34m \u001b[0m\u001b[38;2;248;248;242;48;2;39;40;34m    3. **Customize Resumes**: Create customized resumes for the top 3 most promising jobs\u001b[0m\u001b[48;2;39;40;34m                    \u001b[0m\u001b[48;2;39;40;34m \u001b[0m \u001b[36m│\u001b[0m\n",
       "\u001b[36m│\u001b[0m \u001b[48;2;39;40;34m \u001b[0m\u001b[38;2;248;248;242;48;2;39;40;34m    4. **Submit Applications**: Apply to the jobs with customized resumes\u001b[0m\u001b[48;2;39;40;34m                                    \u001b[0m\u001b[48;2;39;40;34m \u001b[0m \u001b[36m│\u001b[0m\n",
       "\u001b[36m│\u001b[0m \u001b[48;2;39;40;34m \u001b[0m\u001b[38;2;248;248;242;48;2;39;40;34m    5. **Track Progress**: Provide application tracking dashboard\u001b[0m\u001b[48;2;39;40;34m                                            \u001b[0m\u001b[48;2;39;40;34m \u001b[0m \u001b[36m│\u001b[0m\n",
       "\u001b[36m│\u001b[0m \u001b[48;2;39;40;34m \u001b[0m\u001b[38;2;248;248;242;48;2;39;40;34m    \u001b[0m\u001b[48;2;39;40;34m                                                                                                         \u001b[0m\u001b[48;2;39;40;34m \u001b[0m \u001b[36m│\u001b[0m\n",
       "\u001b[36m│\u001b[0m \u001b[48;2;39;40;34m \u001b[0m\u001b[38;2;248;248;242;48;2;39;40;34m    Provide detailed feedback at each step and include specific recommendations \u001b[0m\u001b[48;2;39;40;34m                             \u001b[0m\u001b[48;2;39;40;34m \u001b[0m \u001b[36m│\u001b[0m\n",
       "\u001b[36m│\u001b[0m \u001b[48;2;39;40;34m \u001b[0m\u001b[38;2;248;248;242;48;2;39;40;34m    for improving the job search strategy.\u001b[0m\u001b[48;2;39;40;34m                                                                   \u001b[0m\u001b[48;2;39;40;34m \u001b[0m \u001b[36m│\u001b[0m\n",
       "\u001b[36m│\u001b[0m \u001b[48;2;39;40;34m \u001b[0m\u001b[38;2;248;248;242;48;2;39;40;34m    .\u001b[0m\u001b[48;2;39;40;34m                                                                                                        \u001b[0m\u001b[48;2;39;40;34m \u001b[0m \u001b[36m│\u001b[0m\n",
       "\u001b[36m│\u001b[0m \u001b[48;2;39;40;34m                                                                                                               \u001b[0m \u001b[36m│\u001b[0m\n",
       "\u001b[36m│\u001b[0m                                                                                                                 \u001b[36m│\u001b[0m\n",
       "\u001b[36m│\u001b[0m Expected Output: Complete job hunting workflow with applications submitted and tracking dashboard. Please       \u001b[36m│\u001b[0m\n",
       "\u001b[36m│\u001b[0m provide only the final result of your work. Do not add any conversation or extra explanation.                   \u001b[36m│\u001b[0m\n",
       "\u001b[36m╰─────────────────────────────────────────────────────────────────────────────────────────────────────────────────╯\u001b[0m\n"
      ]
     },
     "metadata": {},
     "output_type": "display_data"
    },
    {
     "data": {
      "text/html": [
       "<pre style=\"white-space:pre;overflow-x:auto;line-height:normal;font-family:Menlo,'DejaVu Sans Mono',consolas,'Courier New',monospace\"><span style=\"color: #008080; text-decoration-color: #008080\">╭─────────────────────────────────────────────────── Response ────────────────────────────────────────────────────╮</span>\n",
       "<span style=\"color: #008080; text-decoration-color: #008080\">╰─────────────────────────────────────────────────────────────────────────────────────────────────────────────────╯</span>\n",
       "</pre>\n"
      ],
      "text/plain": [
       "\u001b[36m╭─\u001b[0m\u001b[36m──────────────────────────────────────────────────\u001b[0m\u001b[36m Response \u001b[0m\u001b[36m───────────────────────────────────────────────────\u001b[0m\u001b[36m─╮\u001b[0m\n",
       "\u001b[36m╰─────────────────────────────────────────────────────────────────────────────────────────────────────────────────╯\u001b[0m\n"
      ]
     },
     "metadata": {},
     "output_type": "display_data"
    },
    {
     "data": {
      "text/html": [
       "<pre style=\"white-space:pre;overflow-x:auto;line-height:normal;font-family:Menlo,'DejaVu Sans Mono',consolas,'Courier New',monospace\"><span style=\"color: #d2e3c8; text-decoration-color: #d2e3c8\">╭─ </span><span style=\"color: #d2e3c8; text-decoration-color: #d2e3c8; font-weight: bold\">Agent Info</span><span style=\"color: #d2e3c8; text-decoration-color: #d2e3c8\"> ────────────────────────────────────────────────────────────────────────────────────────────────────╮</span>\n",
       "<span style=\"color: #d2e3c8; text-decoration-color: #d2e3c8\">│</span>                                                                                                                 <span style=\"color: #d2e3c8; text-decoration-color: #d2e3c8\">│</span>\n",
       "<span style=\"color: #d2e3c8; text-decoration-color: #d2e3c8\">│</span>  <span style=\"color: #ff9b9b; text-decoration-color: #ff9b9b; font-weight: bold\">👤 Agent:</span> <span style=\"color: #ffe5e5; text-decoration-color: #ffe5e5\">Job Hunting Assistant</span>                                                                                <span style=\"color: #d2e3c8; text-decoration-color: #d2e3c8\">│</span>\n",
       "<span style=\"color: #d2e3c8; text-decoration-color: #d2e3c8\">│</span>  <span style=\"color: #b4b4b3; text-decoration-color: #b4b4b3; font-weight: bold\">Role:</span> <span style=\"color: #ffe5e5; text-decoration-color: #ffe5e5\">AI Job Search &amp; Application Specialist</span>                                                                   <span style=\"color: #d2e3c8; text-decoration-color: #d2e3c8\">│</span>\n",
       "<span style=\"color: #d2e3c8; text-decoration-color: #d2e3c8\">│</span>  <span style=\"color: #86a789; text-decoration-color: #86a789; font-weight: bold\">Tools:</span> <span style=\"color: #b4d4ff; text-decoration-color: #b4d4ff; font-style: italic\">read_job_preferences</span>, <span style=\"color: #b4d4ff; text-decoration-color: #b4d4ff; font-style: italic\">search_jobs</span>, <span style=\"color: #b4d4ff; text-decoration-color: #b4d4ff; font-style: italic\">customize_resume_for_job</span>, <span style=\"color: #b4d4ff; text-decoration-color: #b4d4ff; font-style: italic\">apply_to_job</span>, <span style=\"color: #b4d4ff; text-decoration-color: #b4d4ff; font-style: italic\">track_applications</span>           <span style=\"color: #d2e3c8; text-decoration-color: #d2e3c8\">│</span>\n",
       "<span style=\"color: #d2e3c8; text-decoration-color: #d2e3c8\">│</span>                                                                                                                 <span style=\"color: #d2e3c8; text-decoration-color: #d2e3c8\">│</span>\n",
       "<span style=\"color: #d2e3c8; text-decoration-color: #d2e3c8\">╰─────────────────────────────────────────────────────────────────────────────────────────────────────────────────╯</span>\n",
       "</pre>\n"
      ],
      "text/plain": [
       "\u001b[38;2;210;227;200m╭─\u001b[0m\u001b[38;2;210;227;200m \u001b[0m\u001b[1;38;2;210;227;200mAgent Info\u001b[0m\u001b[38;2;210;227;200m \u001b[0m\u001b[38;2;210;227;200m───────────────────────────────────────────────────────────────────────────────────────────────────\u001b[0m\u001b[38;2;210;227;200m─╮\u001b[0m\n",
       "\u001b[38;2;210;227;200m│\u001b[0m                                                                                                                 \u001b[38;2;210;227;200m│\u001b[0m\n",
       "\u001b[38;2;210;227;200m│\u001b[0m  \u001b[1;38;2;255;155;155m👤 Agent:\u001b[0m \u001b[38;2;255;229;229mJob Hunting Assistant\u001b[0m                                                                                \u001b[38;2;210;227;200m│\u001b[0m\n",
       "\u001b[38;2;210;227;200m│\u001b[0m  \u001b[1;38;2;180;180;179mRole:\u001b[0m \u001b[38;2;255;229;229mAI Job Search & Application Specialist\u001b[0m                                                                   \u001b[38;2;210;227;200m│\u001b[0m\n",
       "\u001b[38;2;210;227;200m│\u001b[0m  \u001b[1;38;2;134;167;137mTools:\u001b[0m \u001b[3;38;2;180;212;255mread_job_preferences\u001b[0m, \u001b[3;38;2;180;212;255msearch_jobs\u001b[0m, \u001b[3;38;2;180;212;255mcustomize_resume_for_job\u001b[0m, \u001b[3;38;2;180;212;255mapply_to_job\u001b[0m, \u001b[3;38;2;180;212;255mtrack_applications\u001b[0m           \u001b[38;2;210;227;200m│\u001b[0m\n",
       "\u001b[38;2;210;227;200m│\u001b[0m                                                                                                                 \u001b[38;2;210;227;200m│\u001b[0m\n",
       "\u001b[38;2;210;227;200m╰─────────────────────────────────────────────────────────────────────────────────────────────────────────────────╯\u001b[0m\n"
      ]
     },
     "metadata": {},
     "output_type": "display_data"
    },
    {
     "data": {
      "text/html": [
       "<pre style=\"white-space:pre;overflow-x:auto;line-height:normal;font-family:Menlo,'DejaVu Sans Mono',consolas,'Courier New',monospace\"></pre>\n"
      ],
      "text/plain": []
     },
     "metadata": {},
     "output_type": "display_data"
    },
    {
     "data": {
      "text/html": [
       "<pre style=\"white-space:pre;overflow-x:auto;line-height:normal;font-family:Menlo,'DejaVu Sans Mono',consolas,'Courier New',monospace\">\n",
       "</pre>\n"
      ],
      "text/plain": [
       "\n"
      ]
     },
     "metadata": {},
     "output_type": "display_data"
    },
    {
     "data": {
      "text/html": [
       "<pre style=\"white-space:pre;overflow-x:auto;line-height:normal;font-family:Menlo,'DejaVu Sans Mono',consolas,'Courier New',monospace\"><span style=\"color: #008000; text-decoration-color: #008000\">╭──────────────────────────────────────── Tool Call ────────────────────────────────────────╮</span>\n",
       "<span style=\"color: #008000; text-decoration-color: #008000\">│</span> <span style=\"color: #008080; text-decoration-color: #008080; font-weight: bold\">Agent Job Hunting Assistant is calling function 'read_job_preferences' with arguments: {}</span> <span style=\"color: #008000; text-decoration-color: #008000\">│</span>\n",
       "<span style=\"color: #008000; text-decoration-color: #008000\">╰───────────────────────────────────────────────────────────────────────────────────────────╯</span>\n",
       "</pre>\n"
      ],
      "text/plain": [
       "\u001b[32m╭─\u001b[0m\u001b[32m───────────────────────────────────────\u001b[0m\u001b[32m Tool Call \u001b[0m\u001b[32m───────────────────────────────────────\u001b[0m\u001b[32m─╮\u001b[0m\n",
       "\u001b[32m│\u001b[0m \u001b[1;36mAgent Job Hunting Assistant is calling function 'read_job_preferences' with arguments: {}\u001b[0m \u001b[32m│\u001b[0m\n",
       "\u001b[32m╰───────────────────────────────────────────────────────────────────────────────────────────╯\u001b[0m\n"
      ]
     },
     "metadata": {},
     "output_type": "display_data"
    },
    {
     "data": {
      "text/html": [
       "<pre style=\"white-space:pre;overflow-x:auto;line-height:normal;font-family:Menlo,'DejaVu Sans Mono',consolas,'Courier New',monospace\"><span style=\"color: #008000; text-decoration-color: #008000\">╭─────────────────────────────────────────────────── Tool Call ───────────────────────────────────────────────────╮</span>\n",
       "<span style=\"color: #008000; text-decoration-color: #008000\">│</span> <span style=\"color: #008080; text-decoration-color: #008080; font-weight: bold\">Function 'read_job_preferences' returned: \"\\ud83d\\udccb Job Preferences: {\\n  \\\"target_companies\\\": [\\n    </span>     <span style=\"color: #008000; text-decoration-color: #008000\">│</span>\n",
       "<span style=\"color: #008000; text-decoration-color: #008000\">│</span> <span style=\"color: #008080; text-decoration-color: #008080; font-weight: bold\">\\\"Google\\\",\\n    \\\"Microsoft\\\",\\n    \\\"Amazon\\\",\\n    \\\"Apple\\\"\\n  ],\\n  \\\"target_roles\\\": [\\n    \\\"Software </span>   <span style=\"color: #008000; text-decoration-color: #008000\">│</span>\n",
       "<span style=\"color: #008000; text-decoration-color: #008000\">│</span> <span style=\"color: #008080; text-decoration-color: #008080; font-weight: bold\">Engineer\\\",\\n    \\\"Data Scientist\\\",\\n    \\\"Product Manager\\\"\\n  ],\\n  \\\"preferred_locations\\\": [\\n    \\\"San </span>   <span style=\"color: #008000; text-decoration-color: #008000\">│</span>\n",
       "<span style=\"color: #008000; text-decoration-color: #008000\">│</span> <span style=\"color: #008080; text-decoration-color: #008080; font-weight: bold\">Francisco\\\",\\n    \\\"Seattle\\\",\\n    \\\"New York\\\",\\n    \\\"Remote\\\"\\n  ],\\n  \\\"experience_level\\\": </span>               <span style=\"color: #008000; text-decoration-color: #008000\">│</span>\n",
       "<span style=\"color: #008000; text-decoration-color: #008000\">│</span> <span style=\"color: #008080; text-decoration-color: #008080; font-weight: bold\">\\\"Mid-Senior\\\",\\n  \\\"keywords\\\": [\\n    \\\"python\\\",\\n    \\\"machine learning\\\",\\n    \\\"cloud\\\",\\n    \\\"AI\\\"\\n  </span>  <span style=\"color: #008000; text-decoration-color: #008000\">│</span>\n",
       "<span style=\"color: #008000; text-decoration-color: #008000\">│</span> <span style=\"color: #008080; text-decoration-color: #008080; font-weight: bold\">],\\n  \\\"salary_range\\\": \\\"$120k-180k\\\"\\n}\"</span>                                                                      <span style=\"color: #008000; text-decoration-color: #008000\">│</span>\n",
       "<span style=\"color: #008000; text-decoration-color: #008000\">╰─────────────────────────────────────────────────────────────────────────────────────────────────────────────────╯</span>\n",
       "</pre>\n"
      ],
      "text/plain": [
       "\u001b[32m╭─\u001b[0m\u001b[32m──────────────────────────────────────────────────\u001b[0m\u001b[32m Tool Call \u001b[0m\u001b[32m──────────────────────────────────────────────────\u001b[0m\u001b[32m─╮\u001b[0m\n",
       "\u001b[32m│\u001b[0m \u001b[1;36mFunction 'read_job_preferences' returned: \"\\ud83d\\udccb Job Preferences: {\\n  \\\"target_companies\\\": [\\n    \u001b[0m     \u001b[32m│\u001b[0m\n",
       "\u001b[32m│\u001b[0m \u001b[1;36m\\\"Google\\\",\\n    \\\"Microsoft\\\",\\n    \\\"Amazon\\\",\\n    \\\"Apple\\\"\\n  ],\\n  \\\"target_roles\\\": [\\n    \\\"Software \u001b[0m   \u001b[32m│\u001b[0m\n",
       "\u001b[32m│\u001b[0m \u001b[1;36mEngineer\\\",\\n    \\\"Data Scientist\\\",\\n    \\\"Product Manager\\\"\\n  ],\\n  \\\"preferred_locations\\\": [\\n    \\\"San \u001b[0m   \u001b[32m│\u001b[0m\n",
       "\u001b[32m│\u001b[0m \u001b[1;36mFrancisco\\\",\\n    \\\"Seattle\\\",\\n    \\\"New York\\\",\\n    \\\"Remote\\\"\\n  ],\\n  \\\"experience_level\\\": \u001b[0m               \u001b[32m│\u001b[0m\n",
       "\u001b[32m│\u001b[0m \u001b[1;36m\\\"Mid-Senior\\\",\\n  \\\"keywords\\\": [\\n    \\\"python\\\",\\n    \\\"machine learning\\\",\\n    \\\"cloud\\\",\\n    \\\"AI\\\"\\n  \u001b[0m  \u001b[32m│\u001b[0m\n",
       "\u001b[32m│\u001b[0m \u001b[1;36m],\\n  \\\"salary_range\\\": \\\"$120k-180k\\\"\\n}\"\u001b[0m                                                                      \u001b[32m│\u001b[0m\n",
       "\u001b[32m╰─────────────────────────────────────────────────────────────────────────────────────────────────────────────────╯\u001b[0m\n"
      ]
     },
     "metadata": {},
     "output_type": "display_data"
    },
    {
     "data": {
      "text/html": [
       "<pre style=\"white-space:pre;overflow-x:auto;line-height:normal;font-family:Menlo,'DejaVu Sans Mono',consolas,'Courier New',monospace\"></pre>\n"
      ],
      "text/plain": []
     },
     "metadata": {},
     "output_type": "display_data"
    },
    {
     "data": {
      "text/html": [
       "<pre style=\"white-space:pre;overflow-x:auto;line-height:normal;font-family:Menlo,'DejaVu Sans Mono',consolas,'Courier New',monospace\">\n",
       "</pre>\n"
      ],
      "text/plain": [
       "\n"
      ]
     },
     "metadata": {},
     "output_type": "display_data"
    },
    {
     "data": {
      "text/html": [
       "<pre style=\"white-space:pre;overflow-x:auto;line-height:normal;font-family:Menlo,'DejaVu Sans Mono',consolas,'Courier New',monospace\"><span style=\"color: #7f7f7f; text-decoration-color: #7f7f7f\">Response generated in 1.4s</span>\n",
       "</pre>\n"
      ],
      "text/plain": [
       "\u001b[2mResponse generated in 1.4s\u001b[0m\n"
      ]
     },
     "metadata": {},
     "output_type": "display_data"
    },
    {
     "data": {
      "text/html": [
       "<pre style=\"white-space:pre;overflow-x:auto;line-height:normal;font-family:Menlo,'DejaVu Sans Mono',consolas,'Courier New',monospace\"><span style=\"color: #008080; text-decoration-color: #008080\">╭───────────────────────────────────────────────────── Task ──────────────────────────────────────────────────────╮</span>\n",
       "<span style=\"color: #008080; text-decoration-color: #008080\">│</span> You need to do the following task: Execute a complete job hunting workflow:                                     <span style=\"color: #008080; text-decoration-color: #008080\">│</span>\n",
       "<span style=\"color: #008080; text-decoration-color: #008080\">│</span>                                                                                                                 <span style=\"color: #008080; text-decoration-color: #008080\">│</span>\n",
       "<span style=\"color: #008080; text-decoration-color: #008080\">│</span> <span style=\"background-color: #272822\">                                                                                                               </span> <span style=\"color: #008080; text-decoration-color: #008080\">│</span>\n",
       "<span style=\"color: #008080; text-decoration-color: #008080\">│</span> <span style=\"background-color: #272822\"> </span><span style=\"color: #f8f8f2; text-decoration-color: #f8f8f2; background-color: #272822\">    1. **Read Job Preferences**: Get user's job search criteria and preferences</span><span style=\"background-color: #272822\">                               </span> <span style=\"color: #008080; text-decoration-color: #008080\">│</span>\n",
       "<span style=\"color: #008080; text-decoration-color: #008080\">│</span> <span style=\"background-color: #272822\"> </span><span style=\"color: #f8f8f2; text-decoration-color: #f8f8f2; background-color: #272822\">    2. **Search for Jobs**: Find 5 relevant software engineer positions in San Francisco</span><span style=\"background-color: #272822\">                      </span> <span style=\"color: #008080; text-decoration-color: #008080\">│</span>\n",
       "<span style=\"color: #008080; text-decoration-color: #008080\">│</span> <span style=\"background-color: #272822\"> </span><span style=\"color: #f8f8f2; text-decoration-color: #f8f8f2; background-color: #272822\">    3. **Customize Resumes**: Create customized resumes for the top 3 most promising jobs</span><span style=\"background-color: #272822\">                     </span> <span style=\"color: #008080; text-decoration-color: #008080\">│</span>\n",
       "<span style=\"color: #008080; text-decoration-color: #008080\">│</span> <span style=\"background-color: #272822\"> </span><span style=\"color: #f8f8f2; text-decoration-color: #f8f8f2; background-color: #272822\">    4. **Submit Applications**: Apply to the jobs with customized resumes</span><span style=\"background-color: #272822\">                                     </span> <span style=\"color: #008080; text-decoration-color: #008080\">│</span>\n",
       "<span style=\"color: #008080; text-decoration-color: #008080\">│</span> <span style=\"background-color: #272822\"> </span><span style=\"color: #f8f8f2; text-decoration-color: #f8f8f2; background-color: #272822\">    5. **Track Progress**: Provide application tracking dashboard</span><span style=\"background-color: #272822\">                                             </span> <span style=\"color: #008080; text-decoration-color: #008080\">│</span>\n",
       "<span style=\"color: #008080; text-decoration-color: #008080\">│</span> <span style=\"background-color: #272822\"> </span><span style=\"color: #f8f8f2; text-decoration-color: #f8f8f2; background-color: #272822\">    </span><span style=\"background-color: #272822\">                                                                                                          </span> <span style=\"color: #008080; text-decoration-color: #008080\">│</span>\n",
       "<span style=\"color: #008080; text-decoration-color: #008080\">│</span> <span style=\"background-color: #272822\"> </span><span style=\"color: #f8f8f2; text-decoration-color: #f8f8f2; background-color: #272822\">    Provide detailed feedback at each step and include specific recommendations </span><span style=\"background-color: #272822\">                              </span> <span style=\"color: #008080; text-decoration-color: #008080\">│</span>\n",
       "<span style=\"color: #008080; text-decoration-color: #008080\">│</span> <span style=\"background-color: #272822\"> </span><span style=\"color: #f8f8f2; text-decoration-color: #f8f8f2; background-color: #272822\">    for improving the job search strategy.</span><span style=\"background-color: #272822\">                                                                    </span> <span style=\"color: #008080; text-decoration-color: #008080\">│</span>\n",
       "<span style=\"color: #008080; text-decoration-color: #008080\">│</span> <span style=\"background-color: #272822\"> </span><span style=\"color: #f8f8f2; text-decoration-color: #f8f8f2; background-color: #272822\">    .</span><span style=\"background-color: #272822\">                                                                                                         </span> <span style=\"color: #008080; text-decoration-color: #008080\">│</span>\n",
       "<span style=\"color: #008080; text-decoration-color: #008080\">│</span> <span style=\"background-color: #272822\">                                                                                                               </span> <span style=\"color: #008080; text-decoration-color: #008080\">│</span>\n",
       "<span style=\"color: #008080; text-decoration-color: #008080\">│</span>                                                                                                                 <span style=\"color: #008080; text-decoration-color: #008080\">│</span>\n",
       "<span style=\"color: #008080; text-decoration-color: #008080\">│</span> Expected Output: Complete job hunting workflow with applications submitted and tracking dashboard. Please       <span style=\"color: #008080; text-decoration-color: #008080\">│</span>\n",
       "<span style=\"color: #008080; text-decoration-color: #008080\">│</span> provide only the final result of your work. Do not add any conversation or extra explanation.                   <span style=\"color: #008080; text-decoration-color: #008080\">│</span>\n",
       "<span style=\"color: #008080; text-decoration-color: #008080\">╰─────────────────────────────────────────────────────────────────────────────────────────────────────────────────╯</span>\n",
       "</pre>\n"
      ],
      "text/plain": [
       "\u001b[36m╭─\u001b[0m\u001b[36m────────────────────────────────────────────────────\u001b[0m\u001b[36m Task \u001b[0m\u001b[36m─────────────────────────────────────────────────────\u001b[0m\u001b[36m─╮\u001b[0m\n",
       "\u001b[36m│\u001b[0m You need to do the following task: Execute a complete job hunting workflow:                                     \u001b[36m│\u001b[0m\n",
       "\u001b[36m│\u001b[0m                                                                                                                 \u001b[36m│\u001b[0m\n",
       "\u001b[36m│\u001b[0m \u001b[48;2;39;40;34m                                                                                                               \u001b[0m \u001b[36m│\u001b[0m\n",
       "\u001b[36m│\u001b[0m \u001b[48;2;39;40;34m \u001b[0m\u001b[38;2;248;248;242;48;2;39;40;34m    1. **Read Job Preferences**: Get user's job search criteria and preferences\u001b[0m\u001b[48;2;39;40;34m                              \u001b[0m\u001b[48;2;39;40;34m \u001b[0m \u001b[36m│\u001b[0m\n",
       "\u001b[36m│\u001b[0m \u001b[48;2;39;40;34m \u001b[0m\u001b[38;2;248;248;242;48;2;39;40;34m    2. **Search for Jobs**: Find 5 relevant software engineer positions in San Francisco\u001b[0m\u001b[48;2;39;40;34m                     \u001b[0m\u001b[48;2;39;40;34m \u001b[0m \u001b[36m│\u001b[0m\n",
       "\u001b[36m│\u001b[0m \u001b[48;2;39;40;34m \u001b[0m\u001b[38;2;248;248;242;48;2;39;40;34m    3. **Customize Resumes**: Create customized resumes for the top 3 most promising jobs\u001b[0m\u001b[48;2;39;40;34m                    \u001b[0m\u001b[48;2;39;40;34m \u001b[0m \u001b[36m│\u001b[0m\n",
       "\u001b[36m│\u001b[0m \u001b[48;2;39;40;34m \u001b[0m\u001b[38;2;248;248;242;48;2;39;40;34m    4. **Submit Applications**: Apply to the jobs with customized resumes\u001b[0m\u001b[48;2;39;40;34m                                    \u001b[0m\u001b[48;2;39;40;34m \u001b[0m \u001b[36m│\u001b[0m\n",
       "\u001b[36m│\u001b[0m \u001b[48;2;39;40;34m \u001b[0m\u001b[38;2;248;248;242;48;2;39;40;34m    5. **Track Progress**: Provide application tracking dashboard\u001b[0m\u001b[48;2;39;40;34m                                            \u001b[0m\u001b[48;2;39;40;34m \u001b[0m \u001b[36m│\u001b[0m\n",
       "\u001b[36m│\u001b[0m \u001b[48;2;39;40;34m \u001b[0m\u001b[38;2;248;248;242;48;2;39;40;34m    \u001b[0m\u001b[48;2;39;40;34m                                                                                                         \u001b[0m\u001b[48;2;39;40;34m \u001b[0m \u001b[36m│\u001b[0m\n",
       "\u001b[36m│\u001b[0m \u001b[48;2;39;40;34m \u001b[0m\u001b[38;2;248;248;242;48;2;39;40;34m    Provide detailed feedback at each step and include specific recommendations \u001b[0m\u001b[48;2;39;40;34m                             \u001b[0m\u001b[48;2;39;40;34m \u001b[0m \u001b[36m│\u001b[0m\n",
       "\u001b[36m│\u001b[0m \u001b[48;2;39;40;34m \u001b[0m\u001b[38;2;248;248;242;48;2;39;40;34m    for improving the job search strategy.\u001b[0m\u001b[48;2;39;40;34m                                                                   \u001b[0m\u001b[48;2;39;40;34m \u001b[0m \u001b[36m│\u001b[0m\n",
       "\u001b[36m│\u001b[0m \u001b[48;2;39;40;34m \u001b[0m\u001b[38;2;248;248;242;48;2;39;40;34m    .\u001b[0m\u001b[48;2;39;40;34m                                                                                                        \u001b[0m\u001b[48;2;39;40;34m \u001b[0m \u001b[36m│\u001b[0m\n",
       "\u001b[36m│\u001b[0m \u001b[48;2;39;40;34m                                                                                                               \u001b[0m \u001b[36m│\u001b[0m\n",
       "\u001b[36m│\u001b[0m                                                                                                                 \u001b[36m│\u001b[0m\n",
       "\u001b[36m│\u001b[0m Expected Output: Complete job hunting workflow with applications submitted and tracking dashboard. Please       \u001b[36m│\u001b[0m\n",
       "\u001b[36m│\u001b[0m provide only the final result of your work. Do not add any conversation or extra explanation.                   \u001b[36m│\u001b[0m\n",
       "\u001b[36m╰─────────────────────────────────────────────────────────────────────────────────────────────────────────────────╯\u001b[0m\n"
      ]
     },
     "metadata": {},
     "output_type": "display_data"
    },
    {
     "data": {
      "text/html": [
       "<pre style=\"white-space:pre;overflow-x:auto;line-height:normal;font-family:Menlo,'DejaVu Sans Mono',consolas,'Courier New',monospace\"><span style=\"color: #008080; text-decoration-color: #008080\">╭─────────────────────────────────────────────────── Response ────────────────────────────────────────────────────╮</span>\n",
       "<span style=\"color: #008080; text-decoration-color: #008080\">╰─────────────────────────────────────────────────────────────────────────────────────────────────────────────────╯</span>\n",
       "</pre>\n"
      ],
      "text/plain": [
       "\u001b[36m╭─\u001b[0m\u001b[36m──────────────────────────────────────────────────\u001b[0m\u001b[36m Response \u001b[0m\u001b[36m───────────────────────────────────────────────────\u001b[0m\u001b[36m─╮\u001b[0m\n",
       "\u001b[36m╰─────────────────────────────────────────────────────────────────────────────────────────────────────────────────╯\u001b[0m\n"
      ]
     },
     "metadata": {},
     "output_type": "display_data"
    },
    {
     "data": {
      "text/html": [
       "<pre style=\"white-space:pre;overflow-x:auto;line-height:normal;font-family:Menlo,'DejaVu Sans Mono',consolas,'Courier New',monospace\"><span style=\"color: #d2e3c8; text-decoration-color: #d2e3c8\">╭─ </span><span style=\"color: #d2e3c8; text-decoration-color: #d2e3c8; font-weight: bold\">Agent Info</span><span style=\"color: #d2e3c8; text-decoration-color: #d2e3c8\"> ────────────────────────────────────────────────────────────────────────────────────────────────────╮</span>\n",
       "<span style=\"color: #d2e3c8; text-decoration-color: #d2e3c8\">│</span>                                                                                                                 <span style=\"color: #d2e3c8; text-decoration-color: #d2e3c8\">│</span>\n",
       "<span style=\"color: #d2e3c8; text-decoration-color: #d2e3c8\">│</span>  <span style=\"color: #ff9b9b; text-decoration-color: #ff9b9b; font-weight: bold\">👤 Agent:</span> <span style=\"color: #ffe5e5; text-decoration-color: #ffe5e5\">Job Hunting Assistant</span>                                                                                <span style=\"color: #d2e3c8; text-decoration-color: #d2e3c8\">│</span>\n",
       "<span style=\"color: #d2e3c8; text-decoration-color: #d2e3c8\">│</span>  <span style=\"color: #b4b4b3; text-decoration-color: #b4b4b3; font-weight: bold\">Role:</span> <span style=\"color: #ffe5e5; text-decoration-color: #ffe5e5\">AI Job Search &amp; Application Specialist</span>                                                                   <span style=\"color: #d2e3c8; text-decoration-color: #d2e3c8\">│</span>\n",
       "<span style=\"color: #d2e3c8; text-decoration-color: #d2e3c8\">│</span>  <span style=\"color: #86a789; text-decoration-color: #86a789; font-weight: bold\">Tools:</span> <span style=\"color: #b4d4ff; text-decoration-color: #b4d4ff; font-style: italic\">read_job_preferences</span>, <span style=\"color: #b4d4ff; text-decoration-color: #b4d4ff; font-style: italic\">search_jobs</span>, <span style=\"color: #b4d4ff; text-decoration-color: #b4d4ff; font-style: italic\">customize_resume_for_job</span>, <span style=\"color: #b4d4ff; text-decoration-color: #b4d4ff; font-style: italic\">apply_to_job</span>, <span style=\"color: #b4d4ff; text-decoration-color: #b4d4ff; font-style: italic\">track_applications</span>           <span style=\"color: #d2e3c8; text-decoration-color: #d2e3c8\">│</span>\n",
       "<span style=\"color: #d2e3c8; text-decoration-color: #d2e3c8\">│</span>                                                                                                                 <span style=\"color: #d2e3c8; text-decoration-color: #d2e3c8\">│</span>\n",
       "<span style=\"color: #d2e3c8; text-decoration-color: #d2e3c8\">╰─────────────────────────────────────────────────────────────────────────────────────────────────────────────────╯</span>\n",
       "</pre>\n"
      ],
      "text/plain": [
       "\u001b[38;2;210;227;200m╭─\u001b[0m\u001b[38;2;210;227;200m \u001b[0m\u001b[1;38;2;210;227;200mAgent Info\u001b[0m\u001b[38;2;210;227;200m \u001b[0m\u001b[38;2;210;227;200m───────────────────────────────────────────────────────────────────────────────────────────────────\u001b[0m\u001b[38;2;210;227;200m─╮\u001b[0m\n",
       "\u001b[38;2;210;227;200m│\u001b[0m                                                                                                                 \u001b[38;2;210;227;200m│\u001b[0m\n",
       "\u001b[38;2;210;227;200m│\u001b[0m  \u001b[1;38;2;255;155;155m👤 Agent:\u001b[0m \u001b[38;2;255;229;229mJob Hunting Assistant\u001b[0m                                                                                \u001b[38;2;210;227;200m│\u001b[0m\n",
       "\u001b[38;2;210;227;200m│\u001b[0m  \u001b[1;38;2;180;180;179mRole:\u001b[0m \u001b[38;2;255;229;229mAI Job Search & Application Specialist\u001b[0m                                                                   \u001b[38;2;210;227;200m│\u001b[0m\n",
       "\u001b[38;2;210;227;200m│\u001b[0m  \u001b[1;38;2;134;167;137mTools:\u001b[0m \u001b[3;38;2;180;212;255mread_job_preferences\u001b[0m, \u001b[3;38;2;180;212;255msearch_jobs\u001b[0m, \u001b[3;38;2;180;212;255mcustomize_resume_for_job\u001b[0m, \u001b[3;38;2;180;212;255mapply_to_job\u001b[0m, \u001b[3;38;2;180;212;255mtrack_applications\u001b[0m           \u001b[38;2;210;227;200m│\u001b[0m\n",
       "\u001b[38;2;210;227;200m│\u001b[0m                                                                                                                 \u001b[38;2;210;227;200m│\u001b[0m\n",
       "\u001b[38;2;210;227;200m╰─────────────────────────────────────────────────────────────────────────────────────────────────────────────────╯\u001b[0m\n"
      ]
     },
     "metadata": {},
     "output_type": "display_data"
    },
    {
     "data": {
      "text/html": [
       "<pre style=\"white-space:pre;overflow-x:auto;line-height:normal;font-family:Menlo,'DejaVu Sans Mono',consolas,'Courier New',monospace\"></pre>\n"
      ],
      "text/plain": []
     },
     "metadata": {},
     "output_type": "display_data"
    },
    {
     "data": {
      "text/html": [
       "<pre style=\"white-space:pre;overflow-x:auto;line-height:normal;font-family:Menlo,'DejaVu Sans Mono',consolas,'Courier New',monospace\">\n",
       "</pre>\n"
      ],
      "text/plain": [
       "\n"
      ]
     },
     "metadata": {},
     "output_type": "display_data"
    },
    {
     "data": {
      "text/html": [
       "<pre style=\"white-space:pre;overflow-x:auto;line-height:normal;font-family:Menlo,'DejaVu Sans Mono',consolas,'Courier New',monospace\"><span style=\"color: #008000; text-decoration-color: #008000\">╭──────────────────────────────────────── Tool Call ────────────────────────────────────────╮</span>\n",
       "<span style=\"color: #008000; text-decoration-color: #008000\">│</span> <span style=\"color: #008080; text-decoration-color: #008080; font-weight: bold\">Agent Job Hunting Assistant is calling function 'read_job_preferences' with arguments: {}</span> <span style=\"color: #008000; text-decoration-color: #008000\">│</span>\n",
       "<span style=\"color: #008000; text-decoration-color: #008000\">╰───────────────────────────────────────────────────────────────────────────────────────────╯</span>\n",
       "</pre>\n"
      ],
      "text/plain": [
       "\u001b[32m╭─\u001b[0m\u001b[32m───────────────────────────────────────\u001b[0m\u001b[32m Tool Call \u001b[0m\u001b[32m───────────────────────────────────────\u001b[0m\u001b[32m─╮\u001b[0m\n",
       "\u001b[32m│\u001b[0m \u001b[1;36mAgent Job Hunting Assistant is calling function 'read_job_preferences' with arguments: {}\u001b[0m \u001b[32m│\u001b[0m\n",
       "\u001b[32m╰───────────────────────────────────────────────────────────────────────────────────────────╯\u001b[0m\n"
      ]
     },
     "metadata": {},
     "output_type": "display_data"
    },
    {
     "data": {
      "text/html": [
       "<pre style=\"white-space:pre;overflow-x:auto;line-height:normal;font-family:Menlo,'DejaVu Sans Mono',consolas,'Courier New',monospace\"><span style=\"color: #008000; text-decoration-color: #008000\">╭─────────────────────────────────────────────────── Tool Call ───────────────────────────────────────────────────╮</span>\n",
       "<span style=\"color: #008000; text-decoration-color: #008000\">│</span> <span style=\"color: #008080; text-decoration-color: #008080; font-weight: bold\">Function 'read_job_preferences' returned: \"\\ud83d\\udccb Job Preferences: {\\n  \\\"target_companies\\\": [\\n    </span>     <span style=\"color: #008000; text-decoration-color: #008000\">│</span>\n",
       "<span style=\"color: #008000; text-decoration-color: #008000\">│</span> <span style=\"color: #008080; text-decoration-color: #008080; font-weight: bold\">\\\"Google\\\",\\n    \\\"Microsoft\\\",\\n    \\\"Amazon\\\",\\n    \\\"Apple\\\"\\n  ],\\n  \\\"target_roles\\\": [\\n    \\\"Software </span>   <span style=\"color: #008000; text-decoration-color: #008000\">│</span>\n",
       "<span style=\"color: #008000; text-decoration-color: #008000\">│</span> <span style=\"color: #008080; text-decoration-color: #008080; font-weight: bold\">Engineer\\\",\\n    \\\"Data Scientist\\\",\\n    \\\"Product Manager\\\"\\n  ],\\n  \\\"preferred_locations\\\": [\\n    \\\"San </span>   <span style=\"color: #008000; text-decoration-color: #008000\">│</span>\n",
       "<span style=\"color: #008000; text-decoration-color: #008000\">│</span> <span style=\"color: #008080; text-decoration-color: #008080; font-weight: bold\">Francisco\\\",\\n    \\\"Seattle\\\",\\n    \\\"New York\\\",\\n    \\\"Remote\\\"\\n  ],\\n  \\\"experience_level\\\": </span>               <span style=\"color: #008000; text-decoration-color: #008000\">│</span>\n",
       "<span style=\"color: #008000; text-decoration-color: #008000\">│</span> <span style=\"color: #008080; text-decoration-color: #008080; font-weight: bold\">\\\"Mid-Senior\\\",\\n  \\\"keywords\\\": [\\n    \\\"python\\\",\\n    \\\"machine learning\\\",\\n    \\\"cloud\\\",\\n    \\\"AI\\\"\\n  </span>  <span style=\"color: #008000; text-decoration-color: #008000\">│</span>\n",
       "<span style=\"color: #008000; text-decoration-color: #008000\">│</span> <span style=\"color: #008080; text-decoration-color: #008080; font-weight: bold\">],\\n  \\\"salary_range\\\": \\\"$120k-180k\\\"\\n}\"</span>                                                                      <span style=\"color: #008000; text-decoration-color: #008000\">│</span>\n",
       "<span style=\"color: #008000; text-decoration-color: #008000\">╰─────────────────────────────────────────────────────────────────────────────────────────────────────────────────╯</span>\n",
       "</pre>\n"
      ],
      "text/plain": [
       "\u001b[32m╭─\u001b[0m\u001b[32m──────────────────────────────────────────────────\u001b[0m\u001b[32m Tool Call \u001b[0m\u001b[32m──────────────────────────────────────────────────\u001b[0m\u001b[32m─╮\u001b[0m\n",
       "\u001b[32m│\u001b[0m \u001b[1;36mFunction 'read_job_preferences' returned: \"\\ud83d\\udccb Job Preferences: {\\n  \\\"target_companies\\\": [\\n    \u001b[0m     \u001b[32m│\u001b[0m\n",
       "\u001b[32m│\u001b[0m \u001b[1;36m\\\"Google\\\",\\n    \\\"Microsoft\\\",\\n    \\\"Amazon\\\",\\n    \\\"Apple\\\"\\n  ],\\n  \\\"target_roles\\\": [\\n    \\\"Software \u001b[0m   \u001b[32m│\u001b[0m\n",
       "\u001b[32m│\u001b[0m \u001b[1;36mEngineer\\\",\\n    \\\"Data Scientist\\\",\\n    \\\"Product Manager\\\"\\n  ],\\n  \\\"preferred_locations\\\": [\\n    \\\"San \u001b[0m   \u001b[32m│\u001b[0m\n",
       "\u001b[32m│\u001b[0m \u001b[1;36mFrancisco\\\",\\n    \\\"Seattle\\\",\\n    \\\"New York\\\",\\n    \\\"Remote\\\"\\n  ],\\n  \\\"experience_level\\\": \u001b[0m               \u001b[32m│\u001b[0m\n",
       "\u001b[32m│\u001b[0m \u001b[1;36m\\\"Mid-Senior\\\",\\n  \\\"keywords\\\": [\\n    \\\"python\\\",\\n    \\\"machine learning\\\",\\n    \\\"cloud\\\",\\n    \\\"AI\\\"\\n  \u001b[0m  \u001b[32m│\u001b[0m\n",
       "\u001b[32m│\u001b[0m \u001b[1;36m],\\n  \\\"salary_range\\\": \\\"$120k-180k\\\"\\n}\"\u001b[0m                                                                      \u001b[32m│\u001b[0m\n",
       "\u001b[32m╰─────────────────────────────────────────────────────────────────────────────────────────────────────────────────╯\u001b[0m\n"
      ]
     },
     "metadata": {},
     "output_type": "display_data"
    },
    {
     "data": {
      "application/vnd.jupyter.widget-view+json": {
       "model_id": "7507d1296ac4411785058b807f829857",
       "version_major": 2,
       "version_minor": 0
      },
      "text/plain": [
       "Output()"
      ]
     },
     "metadata": {},
     "output_type": "display_data"
    },
    {
     "data": {
      "text/html": [
       "<pre style=\"white-space:pre;overflow-x:auto;line-height:normal;font-family:Menlo,'DejaVu Sans Mono',consolas,'Courier New',monospace\"></pre>\n"
      ],
      "text/plain": []
     },
     "metadata": {},
     "output_type": "display_data"
    },
    {
     "data": {
      "text/html": [
       "<pre style=\"white-space:pre;overflow-x:auto;line-height:normal;font-family:Menlo,'DejaVu Sans Mono',consolas,'Courier New',monospace\">\n",
       "</pre>\n"
      ],
      "text/plain": [
       "\n"
      ]
     },
     "metadata": {},
     "output_type": "display_data"
    },
    {
     "data": {
      "text/html": [
       "<pre style=\"white-space:pre;overflow-x:auto;line-height:normal;font-family:Menlo,'DejaVu Sans Mono',consolas,'Courier New',monospace\"><span style=\"color: #7f7f7f; text-decoration-color: #7f7f7f\">Response generated in 2.6s</span>\n",
       "</pre>\n"
      ],
      "text/plain": [
       "\u001b[2mResponse generated in 2.6s\u001b[0m\n"
      ]
     },
     "metadata": {},
     "output_type": "display_data"
    },
    {
     "data": {
      "text/html": [
       "<pre style=\"white-space:pre;overflow-x:auto;line-height:normal;font-family:Menlo,'DejaVu Sans Mono',consolas,'Courier New',monospace\"><span style=\"color: #008080; text-decoration-color: #008080\">╭───────────────────────────────────────────────────── Task ──────────────────────────────────────────────────────╮</span>\n",
       "<span style=\"color: #008080; text-decoration-color: #008080\">│</span> You need to do the following task: Execute a complete job hunting workflow:                                     <span style=\"color: #008080; text-decoration-color: #008080\">│</span>\n",
       "<span style=\"color: #008080; text-decoration-color: #008080\">│</span>                                                                                                                 <span style=\"color: #008080; text-decoration-color: #008080\">│</span>\n",
       "<span style=\"color: #008080; text-decoration-color: #008080\">│</span> <span style=\"background-color: #272822\">                                                                                                               </span> <span style=\"color: #008080; text-decoration-color: #008080\">│</span>\n",
       "<span style=\"color: #008080; text-decoration-color: #008080\">│</span> <span style=\"background-color: #272822\"> </span><span style=\"color: #f8f8f2; text-decoration-color: #f8f8f2; background-color: #272822\">    1. **Read Job Preferences**: Get user's job search criteria and preferences</span><span style=\"background-color: #272822\">                               </span> <span style=\"color: #008080; text-decoration-color: #008080\">│</span>\n",
       "<span style=\"color: #008080; text-decoration-color: #008080\">│</span> <span style=\"background-color: #272822\"> </span><span style=\"color: #f8f8f2; text-decoration-color: #f8f8f2; background-color: #272822\">    2. **Search for Jobs**: Find 5 relevant software engineer positions in San Francisco</span><span style=\"background-color: #272822\">                      </span> <span style=\"color: #008080; text-decoration-color: #008080\">│</span>\n",
       "<span style=\"color: #008080; text-decoration-color: #008080\">│</span> <span style=\"background-color: #272822\"> </span><span style=\"color: #f8f8f2; text-decoration-color: #f8f8f2; background-color: #272822\">    3. **Customize Resumes**: Create customized resumes for the top 3 most promising jobs</span><span style=\"background-color: #272822\">                     </span> <span style=\"color: #008080; text-decoration-color: #008080\">│</span>\n",
       "<span style=\"color: #008080; text-decoration-color: #008080\">│</span> <span style=\"background-color: #272822\"> </span><span style=\"color: #f8f8f2; text-decoration-color: #f8f8f2; background-color: #272822\">    4. **Submit Applications**: Apply to the jobs with customized resumes</span><span style=\"background-color: #272822\">                                     </span> <span style=\"color: #008080; text-decoration-color: #008080\">│</span>\n",
       "<span style=\"color: #008080; text-decoration-color: #008080\">│</span> <span style=\"background-color: #272822\"> </span><span style=\"color: #f8f8f2; text-decoration-color: #f8f8f2; background-color: #272822\">    5. **Track Progress**: Provide application tracking dashboard</span><span style=\"background-color: #272822\">                                             </span> <span style=\"color: #008080; text-decoration-color: #008080\">│</span>\n",
       "<span style=\"color: #008080; text-decoration-color: #008080\">│</span> <span style=\"background-color: #272822\"> </span><span style=\"color: #f8f8f2; text-decoration-color: #f8f8f2; background-color: #272822\">    </span><span style=\"background-color: #272822\">                                                                                                          </span> <span style=\"color: #008080; text-decoration-color: #008080\">│</span>\n",
       "<span style=\"color: #008080; text-decoration-color: #008080\">│</span> <span style=\"background-color: #272822\"> </span><span style=\"color: #f8f8f2; text-decoration-color: #f8f8f2; background-color: #272822\">    Provide detailed feedback at each step and include specific recommendations </span><span style=\"background-color: #272822\">                              </span> <span style=\"color: #008080; text-decoration-color: #008080\">│</span>\n",
       "<span style=\"color: #008080; text-decoration-color: #008080\">│</span> <span style=\"background-color: #272822\"> </span><span style=\"color: #f8f8f2; text-decoration-color: #f8f8f2; background-color: #272822\">    for improving the job search strategy.</span><span style=\"background-color: #272822\">                                                                    </span> <span style=\"color: #008080; text-decoration-color: #008080\">│</span>\n",
       "<span style=\"color: #008080; text-decoration-color: #008080\">│</span> <span style=\"background-color: #272822\"> </span><span style=\"color: #f8f8f2; text-decoration-color: #f8f8f2; background-color: #272822\">    .</span><span style=\"background-color: #272822\">                                                                                                         </span> <span style=\"color: #008080; text-decoration-color: #008080\">│</span>\n",
       "<span style=\"color: #008080; text-decoration-color: #008080\">│</span> <span style=\"background-color: #272822\">                                                                                                               </span> <span style=\"color: #008080; text-decoration-color: #008080\">│</span>\n",
       "<span style=\"color: #008080; text-decoration-color: #008080\">│</span>                                                                                                                 <span style=\"color: #008080; text-decoration-color: #008080\">│</span>\n",
       "<span style=\"color: #008080; text-decoration-color: #008080\">│</span> Expected Output: Complete job hunting workflow with applications submitted and tracking dashboard. Please       <span style=\"color: #008080; text-decoration-color: #008080\">│</span>\n",
       "<span style=\"color: #008080; text-decoration-color: #008080\">│</span> provide only the final result of your work. Do not add any conversation or extra explanation.                   <span style=\"color: #008080; text-decoration-color: #008080\">│</span>\n",
       "<span style=\"color: #008080; text-decoration-color: #008080\">╰─────────────────────────────────────────────────────────────────────────────────────────────────────────────────╯</span>\n",
       "</pre>\n"
      ],
      "text/plain": [
       "\u001b[36m╭─\u001b[0m\u001b[36m────────────────────────────────────────────────────\u001b[0m\u001b[36m Task \u001b[0m\u001b[36m─────────────────────────────────────────────────────\u001b[0m\u001b[36m─╮\u001b[0m\n",
       "\u001b[36m│\u001b[0m You need to do the following task: Execute a complete job hunting workflow:                                     \u001b[36m│\u001b[0m\n",
       "\u001b[36m│\u001b[0m                                                                                                                 \u001b[36m│\u001b[0m\n",
       "\u001b[36m│\u001b[0m \u001b[48;2;39;40;34m                                                                                                               \u001b[0m \u001b[36m│\u001b[0m\n",
       "\u001b[36m│\u001b[0m \u001b[48;2;39;40;34m \u001b[0m\u001b[38;2;248;248;242;48;2;39;40;34m    1. **Read Job Preferences**: Get user's job search criteria and preferences\u001b[0m\u001b[48;2;39;40;34m                              \u001b[0m\u001b[48;2;39;40;34m \u001b[0m \u001b[36m│\u001b[0m\n",
       "\u001b[36m│\u001b[0m \u001b[48;2;39;40;34m \u001b[0m\u001b[38;2;248;248;242;48;2;39;40;34m    2. **Search for Jobs**: Find 5 relevant software engineer positions in San Francisco\u001b[0m\u001b[48;2;39;40;34m                     \u001b[0m\u001b[48;2;39;40;34m \u001b[0m \u001b[36m│\u001b[0m\n",
       "\u001b[36m│\u001b[0m \u001b[48;2;39;40;34m \u001b[0m\u001b[38;2;248;248;242;48;2;39;40;34m    3. **Customize Resumes**: Create customized resumes for the top 3 most promising jobs\u001b[0m\u001b[48;2;39;40;34m                    \u001b[0m\u001b[48;2;39;40;34m \u001b[0m \u001b[36m│\u001b[0m\n",
       "\u001b[36m│\u001b[0m \u001b[48;2;39;40;34m \u001b[0m\u001b[38;2;248;248;242;48;2;39;40;34m    4. **Submit Applications**: Apply to the jobs with customized resumes\u001b[0m\u001b[48;2;39;40;34m                                    \u001b[0m\u001b[48;2;39;40;34m \u001b[0m \u001b[36m│\u001b[0m\n",
       "\u001b[36m│\u001b[0m \u001b[48;2;39;40;34m \u001b[0m\u001b[38;2;248;248;242;48;2;39;40;34m    5. **Track Progress**: Provide application tracking dashboard\u001b[0m\u001b[48;2;39;40;34m                                            \u001b[0m\u001b[48;2;39;40;34m \u001b[0m \u001b[36m│\u001b[0m\n",
       "\u001b[36m│\u001b[0m \u001b[48;2;39;40;34m \u001b[0m\u001b[38;2;248;248;242;48;2;39;40;34m    \u001b[0m\u001b[48;2;39;40;34m                                                                                                         \u001b[0m\u001b[48;2;39;40;34m \u001b[0m \u001b[36m│\u001b[0m\n",
       "\u001b[36m│\u001b[0m \u001b[48;2;39;40;34m \u001b[0m\u001b[38;2;248;248;242;48;2;39;40;34m    Provide detailed feedback at each step and include specific recommendations \u001b[0m\u001b[48;2;39;40;34m                             \u001b[0m\u001b[48;2;39;40;34m \u001b[0m \u001b[36m│\u001b[0m\n",
       "\u001b[36m│\u001b[0m \u001b[48;2;39;40;34m \u001b[0m\u001b[38;2;248;248;242;48;2;39;40;34m    for improving the job search strategy.\u001b[0m\u001b[48;2;39;40;34m                                                                   \u001b[0m\u001b[48;2;39;40;34m \u001b[0m \u001b[36m│\u001b[0m\n",
       "\u001b[36m│\u001b[0m \u001b[48;2;39;40;34m \u001b[0m\u001b[38;2;248;248;242;48;2;39;40;34m    .\u001b[0m\u001b[48;2;39;40;34m                                                                                                        \u001b[0m\u001b[48;2;39;40;34m \u001b[0m \u001b[36m│\u001b[0m\n",
       "\u001b[36m│\u001b[0m \u001b[48;2;39;40;34m                                                                                                               \u001b[0m \u001b[36m│\u001b[0m\n",
       "\u001b[36m│\u001b[0m                                                                                                                 \u001b[36m│\u001b[0m\n",
       "\u001b[36m│\u001b[0m Expected Output: Complete job hunting workflow with applications submitted and tracking dashboard. Please       \u001b[36m│\u001b[0m\n",
       "\u001b[36m│\u001b[0m provide only the final result of your work. Do not add any conversation or extra explanation.                   \u001b[36m│\u001b[0m\n",
       "\u001b[36m╰─────────────────────────────────────────────────────────────────────────────────────────────────────────────────╯\u001b[0m\n"
      ]
     },
     "metadata": {},
     "output_type": "display_data"
    },
    {
     "data": {
      "text/html": [
       "<pre style=\"white-space:pre;overflow-x:auto;line-height:normal;font-family:Menlo,'DejaVu Sans Mono',consolas,'Courier New',monospace\"><span style=\"color: #008080; text-decoration-color: #008080\">╭─────────────────────────────────────────────────── Response ────────────────────────────────────────────────────╮</span>\n",
       "<span style=\"color: #008080; text-decoration-color: #008080\">╰─────────────────────────────────────────────────────────────────────────────────────────────────────────────────╯</span>\n",
       "</pre>\n"
      ],
      "text/plain": [
       "\u001b[36m╭─\u001b[0m\u001b[36m──────────────────────────────────────────────────\u001b[0m\u001b[36m Response \u001b[0m\u001b[36m───────────────────────────────────────────────────\u001b[0m\u001b[36m─╮\u001b[0m\n",
       "\u001b[36m╰─────────────────────────────────────────────────────────────────────────────────────────────────────────────────╯\u001b[0m\n"
      ]
     },
     "metadata": {},
     "output_type": "display_data"
    },
    {
     "data": {
      "text/html": [
       "<pre style=\"white-space:pre;overflow-x:auto;line-height:normal;font-family:Menlo,'DejaVu Sans Mono',consolas,'Courier New',monospace\"><span style=\"color: #d2e3c8; text-decoration-color: #d2e3c8\">╭─ </span><span style=\"color: #d2e3c8; text-decoration-color: #d2e3c8; font-weight: bold\">Agent Info</span><span style=\"color: #d2e3c8; text-decoration-color: #d2e3c8\"> ────────────────────────────────────────────────────────────────────────────────────────────────────╮</span>\n",
       "<span style=\"color: #d2e3c8; text-decoration-color: #d2e3c8\">│</span>                                                                                                                 <span style=\"color: #d2e3c8; text-decoration-color: #d2e3c8\">│</span>\n",
       "<span style=\"color: #d2e3c8; text-decoration-color: #d2e3c8\">│</span>  <span style=\"color: #ff9b9b; text-decoration-color: #ff9b9b; font-weight: bold\">👤 Agent:</span> <span style=\"color: #ffe5e5; text-decoration-color: #ffe5e5\">Job Hunting Assistant</span>                                                                                <span style=\"color: #d2e3c8; text-decoration-color: #d2e3c8\">│</span>\n",
       "<span style=\"color: #d2e3c8; text-decoration-color: #d2e3c8\">│</span>  <span style=\"color: #b4b4b3; text-decoration-color: #b4b4b3; font-weight: bold\">Role:</span> <span style=\"color: #ffe5e5; text-decoration-color: #ffe5e5\">AI Job Search &amp; Application Specialist</span>                                                                   <span style=\"color: #d2e3c8; text-decoration-color: #d2e3c8\">│</span>\n",
       "<span style=\"color: #d2e3c8; text-decoration-color: #d2e3c8\">│</span>  <span style=\"color: #86a789; text-decoration-color: #86a789; font-weight: bold\">Tools:</span> <span style=\"color: #b4d4ff; text-decoration-color: #b4d4ff; font-style: italic\">read_job_preferences</span>, <span style=\"color: #b4d4ff; text-decoration-color: #b4d4ff; font-style: italic\">search_jobs</span>, <span style=\"color: #b4d4ff; text-decoration-color: #b4d4ff; font-style: italic\">customize_resume_for_job</span>, <span style=\"color: #b4d4ff; text-decoration-color: #b4d4ff; font-style: italic\">apply_to_job</span>, <span style=\"color: #b4d4ff; text-decoration-color: #b4d4ff; font-style: italic\">track_applications</span>           <span style=\"color: #d2e3c8; text-decoration-color: #d2e3c8\">│</span>\n",
       "<span style=\"color: #d2e3c8; text-decoration-color: #d2e3c8\">│</span>                                                                                                                 <span style=\"color: #d2e3c8; text-decoration-color: #d2e3c8\">│</span>\n",
       "<span style=\"color: #d2e3c8; text-decoration-color: #d2e3c8\">╰─────────────────────────────────────────────────────────────────────────────────────────────────────────────────╯</span>\n",
       "</pre>\n"
      ],
      "text/plain": [
       "\u001b[38;2;210;227;200m╭─\u001b[0m\u001b[38;2;210;227;200m \u001b[0m\u001b[1;38;2;210;227;200mAgent Info\u001b[0m\u001b[38;2;210;227;200m \u001b[0m\u001b[38;2;210;227;200m───────────────────────────────────────────────────────────────────────────────────────────────────\u001b[0m\u001b[38;2;210;227;200m─╮\u001b[0m\n",
       "\u001b[38;2;210;227;200m│\u001b[0m                                                                                                                 \u001b[38;2;210;227;200m│\u001b[0m\n",
       "\u001b[38;2;210;227;200m│\u001b[0m  \u001b[1;38;2;255;155;155m👤 Agent:\u001b[0m \u001b[38;2;255;229;229mJob Hunting Assistant\u001b[0m                                                                                \u001b[38;2;210;227;200m│\u001b[0m\n",
       "\u001b[38;2;210;227;200m│\u001b[0m  \u001b[1;38;2;180;180;179mRole:\u001b[0m \u001b[38;2;255;229;229mAI Job Search & Application Specialist\u001b[0m                                                                   \u001b[38;2;210;227;200m│\u001b[0m\n",
       "\u001b[38;2;210;227;200m│\u001b[0m  \u001b[1;38;2;134;167;137mTools:\u001b[0m \u001b[3;38;2;180;212;255mread_job_preferences\u001b[0m, \u001b[3;38;2;180;212;255msearch_jobs\u001b[0m, \u001b[3;38;2;180;212;255mcustomize_resume_for_job\u001b[0m, \u001b[3;38;2;180;212;255mapply_to_job\u001b[0m, \u001b[3;38;2;180;212;255mtrack_applications\u001b[0m           \u001b[38;2;210;227;200m│\u001b[0m\n",
       "\u001b[38;2;210;227;200m│\u001b[0m                                                                                                                 \u001b[38;2;210;227;200m│\u001b[0m\n",
       "\u001b[38;2;210;227;200m╰─────────────────────────────────────────────────────────────────────────────────────────────────────────────────╯\u001b[0m\n"
      ]
     },
     "metadata": {},
     "output_type": "display_data"
    },
    {
     "data": {
      "text/html": [
       "<pre style=\"white-space:pre;overflow-x:auto;line-height:normal;font-family:Menlo,'DejaVu Sans Mono',consolas,'Courier New',monospace\"></pre>\n"
      ],
      "text/plain": []
     },
     "metadata": {},
     "output_type": "display_data"
    },
    {
     "data": {
      "text/html": [
       "<pre style=\"white-space:pre;overflow-x:auto;line-height:normal;font-family:Menlo,'DejaVu Sans Mono',consolas,'Courier New',monospace\">\n",
       "</pre>\n"
      ],
      "text/plain": [
       "\n"
      ]
     },
     "metadata": {},
     "output_type": "display_data"
    },
    {
     "data": {
      "text/html": [
       "<pre style=\"white-space:pre;overflow-x:auto;line-height:normal;font-family:Menlo,'DejaVu Sans Mono',consolas,'Courier New',monospace\"><span style=\"color: #008000; text-decoration-color: #008000\">╭──────────────────────────────────────── Tool Call ────────────────────────────────────────╮</span>\n",
       "<span style=\"color: #008000; text-decoration-color: #008000\">│</span> <span style=\"color: #008080; text-decoration-color: #008080; font-weight: bold\">Agent Job Hunting Assistant is calling function 'read_job_preferences' with arguments: {}</span> <span style=\"color: #008000; text-decoration-color: #008000\">│</span>\n",
       "<span style=\"color: #008000; text-decoration-color: #008000\">╰───────────────────────────────────────────────────────────────────────────────────────────╯</span>\n",
       "</pre>\n"
      ],
      "text/plain": [
       "\u001b[32m╭─\u001b[0m\u001b[32m───────────────────────────────────────\u001b[0m\u001b[32m Tool Call \u001b[0m\u001b[32m───────────────────────────────────────\u001b[0m\u001b[32m─╮\u001b[0m\n",
       "\u001b[32m│\u001b[0m \u001b[1;36mAgent Job Hunting Assistant is calling function 'read_job_preferences' with arguments: {}\u001b[0m \u001b[32m│\u001b[0m\n",
       "\u001b[32m╰───────────────────────────────────────────────────────────────────────────────────────────╯\u001b[0m\n"
      ]
     },
     "metadata": {},
     "output_type": "display_data"
    },
    {
     "data": {
      "text/html": [
       "<pre style=\"white-space:pre;overflow-x:auto;line-height:normal;font-family:Menlo,'DejaVu Sans Mono',consolas,'Courier New',monospace\"><span style=\"color: #008000; text-decoration-color: #008000\">╭─────────────────────────────────────────────────── Tool Call ───────────────────────────────────────────────────╮</span>\n",
       "<span style=\"color: #008000; text-decoration-color: #008000\">│</span> <span style=\"color: #008080; text-decoration-color: #008080; font-weight: bold\">Function 'read_job_preferences' returned: \"\\ud83d\\udccb Job Preferences: {\\n  \\\"target_companies\\\": [\\n    </span>     <span style=\"color: #008000; text-decoration-color: #008000\">│</span>\n",
       "<span style=\"color: #008000; text-decoration-color: #008000\">│</span> <span style=\"color: #008080; text-decoration-color: #008080; font-weight: bold\">\\\"Google\\\",\\n    \\\"Microsoft\\\",\\n    \\\"Amazon\\\",\\n    \\\"Apple\\\"\\n  ],\\n  \\\"target_roles\\\": [\\n    \\\"Software </span>   <span style=\"color: #008000; text-decoration-color: #008000\">│</span>\n",
       "<span style=\"color: #008000; text-decoration-color: #008000\">│</span> <span style=\"color: #008080; text-decoration-color: #008080; font-weight: bold\">Engineer\\\",\\n    \\\"Data Scientist\\\",\\n    \\\"Product Manager\\\"\\n  ],\\n  \\\"preferred_locations\\\": [\\n    \\\"San </span>   <span style=\"color: #008000; text-decoration-color: #008000\">│</span>\n",
       "<span style=\"color: #008000; text-decoration-color: #008000\">│</span> <span style=\"color: #008080; text-decoration-color: #008080; font-weight: bold\">Francisco\\\",\\n    \\\"Seattle\\\",\\n    \\\"New York\\\",\\n    \\\"Remote\\\"\\n  ],\\n  \\\"experience_level\\\": </span>               <span style=\"color: #008000; text-decoration-color: #008000\">│</span>\n",
       "<span style=\"color: #008000; text-decoration-color: #008000\">│</span> <span style=\"color: #008080; text-decoration-color: #008080; font-weight: bold\">\\\"Mid-Senior\\\",\\n  \\\"keywords\\\": [\\n    \\\"python\\\",\\n    \\\"machine learning\\\",\\n    \\\"cloud\\\",\\n    \\\"AI\\\"\\n  </span>  <span style=\"color: #008000; text-decoration-color: #008000\">│</span>\n",
       "<span style=\"color: #008000; text-decoration-color: #008000\">│</span> <span style=\"color: #008080; text-decoration-color: #008080; font-weight: bold\">],\\n  \\\"salary_range\\\": \\\"$120k-180k\\\"\\n}\"</span>                                                                      <span style=\"color: #008000; text-decoration-color: #008000\">│</span>\n",
       "<span style=\"color: #008000; text-decoration-color: #008000\">╰─────────────────────────────────────────────────────────────────────────────────────────────────────────────────╯</span>\n",
       "</pre>\n"
      ],
      "text/plain": [
       "\u001b[32m╭─\u001b[0m\u001b[32m──────────────────────────────────────────────────\u001b[0m\u001b[32m Tool Call \u001b[0m\u001b[32m──────────────────────────────────────────────────\u001b[0m\u001b[32m─╮\u001b[0m\n",
       "\u001b[32m│\u001b[0m \u001b[1;36mFunction 'read_job_preferences' returned: \"\\ud83d\\udccb Job Preferences: {\\n  \\\"target_companies\\\": [\\n    \u001b[0m     \u001b[32m│\u001b[0m\n",
       "\u001b[32m│\u001b[0m \u001b[1;36m\\\"Google\\\",\\n    \\\"Microsoft\\\",\\n    \\\"Amazon\\\",\\n    \\\"Apple\\\"\\n  ],\\n  \\\"target_roles\\\": [\\n    \\\"Software \u001b[0m   \u001b[32m│\u001b[0m\n",
       "\u001b[32m│\u001b[0m \u001b[1;36mEngineer\\\",\\n    \\\"Data Scientist\\\",\\n    \\\"Product Manager\\\"\\n  ],\\n  \\\"preferred_locations\\\": [\\n    \\\"San \u001b[0m   \u001b[32m│\u001b[0m\n",
       "\u001b[32m│\u001b[0m \u001b[1;36mFrancisco\\\",\\n    \\\"Seattle\\\",\\n    \\\"New York\\\",\\n    \\\"Remote\\\"\\n  ],\\n  \\\"experience_level\\\": \u001b[0m               \u001b[32m│\u001b[0m\n",
       "\u001b[32m│\u001b[0m \u001b[1;36m\\\"Mid-Senior\\\",\\n  \\\"keywords\\\": [\\n    \\\"python\\\",\\n    \\\"machine learning\\\",\\n    \\\"cloud\\\",\\n    \\\"AI\\\"\\n  \u001b[0m  \u001b[32m│\u001b[0m\n",
       "\u001b[32m│\u001b[0m \u001b[1;36m],\\n  \\\"salary_range\\\": \\\"$120k-180k\\\"\\n}\"\u001b[0m                                                                      \u001b[32m│\u001b[0m\n",
       "\u001b[32m╰─────────────────────────────────────────────────────────────────────────────────────────────────────────────────╯\u001b[0m\n"
      ]
     },
     "metadata": {},
     "output_type": "display_data"
    },
    {
     "data": {
      "text/html": [
       "<pre style=\"white-space:pre;overflow-x:auto;line-height:normal;font-family:Menlo,'DejaVu Sans Mono',consolas,'Courier New',monospace\"></pre>\n"
      ],
      "text/plain": []
     },
     "metadata": {},
     "output_type": "display_data"
    },
    {
     "data": {
      "text/html": [
       "<pre style=\"white-space:pre;overflow-x:auto;line-height:normal;font-family:Menlo,'DejaVu Sans Mono',consolas,'Courier New',monospace\">\n",
       "</pre>\n"
      ],
      "text/plain": [
       "\n"
      ]
     },
     "metadata": {},
     "output_type": "display_data"
    },
    {
     "data": {
      "text/html": [
       "<pre style=\"white-space:pre;overflow-x:auto;line-height:normal;font-family:Menlo,'DejaVu Sans Mono',consolas,'Courier New',monospace\"><span style=\"color: #7f7f7f; text-decoration-color: #7f7f7f\">Response generated in 1.8s</span>\n",
       "</pre>\n"
      ],
      "text/plain": [
       "\u001b[2mResponse generated in 1.8s\u001b[0m\n"
      ]
     },
     "metadata": {},
     "output_type": "display_data"
    },
    {
     "data": {
      "text/html": [
       "<pre style=\"white-space:pre;overflow-x:auto;line-height:normal;font-family:Menlo,'DejaVu Sans Mono',consolas,'Courier New',monospace\"><span style=\"color: #008080; text-decoration-color: #008080\">╭───────────────────────────────────────────────────── Task ──────────────────────────────────────────────────────╮</span>\n",
       "<span style=\"color: #008080; text-decoration-color: #008080\">│</span> You need to do the following task: Execute a complete job hunting workflow:                                     <span style=\"color: #008080; text-decoration-color: #008080\">│</span>\n",
       "<span style=\"color: #008080; text-decoration-color: #008080\">│</span>                                                                                                                 <span style=\"color: #008080; text-decoration-color: #008080\">│</span>\n",
       "<span style=\"color: #008080; text-decoration-color: #008080\">│</span> <span style=\"background-color: #272822\">                                                                                                               </span> <span style=\"color: #008080; text-decoration-color: #008080\">│</span>\n",
       "<span style=\"color: #008080; text-decoration-color: #008080\">│</span> <span style=\"background-color: #272822\"> </span><span style=\"color: #f8f8f2; text-decoration-color: #f8f8f2; background-color: #272822\">    1. **Read Job Preferences**: Get user's job search criteria and preferences</span><span style=\"background-color: #272822\">                               </span> <span style=\"color: #008080; text-decoration-color: #008080\">│</span>\n",
       "<span style=\"color: #008080; text-decoration-color: #008080\">│</span> <span style=\"background-color: #272822\"> </span><span style=\"color: #f8f8f2; text-decoration-color: #f8f8f2; background-color: #272822\">    2. **Search for Jobs**: Find 5 relevant software engineer positions in San Francisco</span><span style=\"background-color: #272822\">                      </span> <span style=\"color: #008080; text-decoration-color: #008080\">│</span>\n",
       "<span style=\"color: #008080; text-decoration-color: #008080\">│</span> <span style=\"background-color: #272822\"> </span><span style=\"color: #f8f8f2; text-decoration-color: #f8f8f2; background-color: #272822\">    3. **Customize Resumes**: Create customized resumes for the top 3 most promising jobs</span><span style=\"background-color: #272822\">                     </span> <span style=\"color: #008080; text-decoration-color: #008080\">│</span>\n",
       "<span style=\"color: #008080; text-decoration-color: #008080\">│</span> <span style=\"background-color: #272822\"> </span><span style=\"color: #f8f8f2; text-decoration-color: #f8f8f2; background-color: #272822\">    4. **Submit Applications**: Apply to the jobs with customized resumes</span><span style=\"background-color: #272822\">                                     </span> <span style=\"color: #008080; text-decoration-color: #008080\">│</span>\n",
       "<span style=\"color: #008080; text-decoration-color: #008080\">│</span> <span style=\"background-color: #272822\"> </span><span style=\"color: #f8f8f2; text-decoration-color: #f8f8f2; background-color: #272822\">    5. **Track Progress**: Provide application tracking dashboard</span><span style=\"background-color: #272822\">                                             </span> <span style=\"color: #008080; text-decoration-color: #008080\">│</span>\n",
       "<span style=\"color: #008080; text-decoration-color: #008080\">│</span> <span style=\"background-color: #272822\"> </span><span style=\"color: #f8f8f2; text-decoration-color: #f8f8f2; background-color: #272822\">    </span><span style=\"background-color: #272822\">                                                                                                          </span> <span style=\"color: #008080; text-decoration-color: #008080\">│</span>\n",
       "<span style=\"color: #008080; text-decoration-color: #008080\">│</span> <span style=\"background-color: #272822\"> </span><span style=\"color: #f8f8f2; text-decoration-color: #f8f8f2; background-color: #272822\">    Provide detailed feedback at each step and include specific recommendations </span><span style=\"background-color: #272822\">                              </span> <span style=\"color: #008080; text-decoration-color: #008080\">│</span>\n",
       "<span style=\"color: #008080; text-decoration-color: #008080\">│</span> <span style=\"background-color: #272822\"> </span><span style=\"color: #f8f8f2; text-decoration-color: #f8f8f2; background-color: #272822\">    for improving the job search strategy.</span><span style=\"background-color: #272822\">                                                                    </span> <span style=\"color: #008080; text-decoration-color: #008080\">│</span>\n",
       "<span style=\"color: #008080; text-decoration-color: #008080\">│</span> <span style=\"background-color: #272822\"> </span><span style=\"color: #f8f8f2; text-decoration-color: #f8f8f2; background-color: #272822\">    .</span><span style=\"background-color: #272822\">                                                                                                         </span> <span style=\"color: #008080; text-decoration-color: #008080\">│</span>\n",
       "<span style=\"color: #008080; text-decoration-color: #008080\">│</span> <span style=\"background-color: #272822\">                                                                                                               </span> <span style=\"color: #008080; text-decoration-color: #008080\">│</span>\n",
       "<span style=\"color: #008080; text-decoration-color: #008080\">│</span>                                                                                                                 <span style=\"color: #008080; text-decoration-color: #008080\">│</span>\n",
       "<span style=\"color: #008080; text-decoration-color: #008080\">│</span> Expected Output: Complete job hunting workflow with applications submitted and tracking dashboard. Please       <span style=\"color: #008080; text-decoration-color: #008080\">│</span>\n",
       "<span style=\"color: #008080; text-decoration-color: #008080\">│</span> provide only the final result of your work. Do not add any conversation or extra explanation.                   <span style=\"color: #008080; text-decoration-color: #008080\">│</span>\n",
       "<span style=\"color: #008080; text-decoration-color: #008080\">╰─────────────────────────────────────────────────────────────────────────────────────────────────────────────────╯</span>\n",
       "</pre>\n"
      ],
      "text/plain": [
       "\u001b[36m╭─\u001b[0m\u001b[36m────────────────────────────────────────────────────\u001b[0m\u001b[36m Task \u001b[0m\u001b[36m─────────────────────────────────────────────────────\u001b[0m\u001b[36m─╮\u001b[0m\n",
       "\u001b[36m│\u001b[0m You need to do the following task: Execute a complete job hunting workflow:                                     \u001b[36m│\u001b[0m\n",
       "\u001b[36m│\u001b[0m                                                                                                                 \u001b[36m│\u001b[0m\n",
       "\u001b[36m│\u001b[0m \u001b[48;2;39;40;34m                                                                                                               \u001b[0m \u001b[36m│\u001b[0m\n",
       "\u001b[36m│\u001b[0m \u001b[48;2;39;40;34m \u001b[0m\u001b[38;2;248;248;242;48;2;39;40;34m    1. **Read Job Preferences**: Get user's job search criteria and preferences\u001b[0m\u001b[48;2;39;40;34m                              \u001b[0m\u001b[48;2;39;40;34m \u001b[0m \u001b[36m│\u001b[0m\n",
       "\u001b[36m│\u001b[0m \u001b[48;2;39;40;34m \u001b[0m\u001b[38;2;248;248;242;48;2;39;40;34m    2. **Search for Jobs**: Find 5 relevant software engineer positions in San Francisco\u001b[0m\u001b[48;2;39;40;34m                     \u001b[0m\u001b[48;2;39;40;34m \u001b[0m \u001b[36m│\u001b[0m\n",
       "\u001b[36m│\u001b[0m \u001b[48;2;39;40;34m \u001b[0m\u001b[38;2;248;248;242;48;2;39;40;34m    3. **Customize Resumes**: Create customized resumes for the top 3 most promising jobs\u001b[0m\u001b[48;2;39;40;34m                    \u001b[0m\u001b[48;2;39;40;34m \u001b[0m \u001b[36m│\u001b[0m\n",
       "\u001b[36m│\u001b[0m \u001b[48;2;39;40;34m \u001b[0m\u001b[38;2;248;248;242;48;2;39;40;34m    4. **Submit Applications**: Apply to the jobs with customized resumes\u001b[0m\u001b[48;2;39;40;34m                                    \u001b[0m\u001b[48;2;39;40;34m \u001b[0m \u001b[36m│\u001b[0m\n",
       "\u001b[36m│\u001b[0m \u001b[48;2;39;40;34m \u001b[0m\u001b[38;2;248;248;242;48;2;39;40;34m    5. **Track Progress**: Provide application tracking dashboard\u001b[0m\u001b[48;2;39;40;34m                                            \u001b[0m\u001b[48;2;39;40;34m \u001b[0m \u001b[36m│\u001b[0m\n",
       "\u001b[36m│\u001b[0m \u001b[48;2;39;40;34m \u001b[0m\u001b[38;2;248;248;242;48;2;39;40;34m    \u001b[0m\u001b[48;2;39;40;34m                                                                                                         \u001b[0m\u001b[48;2;39;40;34m \u001b[0m \u001b[36m│\u001b[0m\n",
       "\u001b[36m│\u001b[0m \u001b[48;2;39;40;34m \u001b[0m\u001b[38;2;248;248;242;48;2;39;40;34m    Provide detailed feedback at each step and include specific recommendations \u001b[0m\u001b[48;2;39;40;34m                             \u001b[0m\u001b[48;2;39;40;34m \u001b[0m \u001b[36m│\u001b[0m\n",
       "\u001b[36m│\u001b[0m \u001b[48;2;39;40;34m \u001b[0m\u001b[38;2;248;248;242;48;2;39;40;34m    for improving the job search strategy.\u001b[0m\u001b[48;2;39;40;34m                                                                   \u001b[0m\u001b[48;2;39;40;34m \u001b[0m \u001b[36m│\u001b[0m\n",
       "\u001b[36m│\u001b[0m \u001b[48;2;39;40;34m \u001b[0m\u001b[38;2;248;248;242;48;2;39;40;34m    .\u001b[0m\u001b[48;2;39;40;34m                                                                                                        \u001b[0m\u001b[48;2;39;40;34m \u001b[0m \u001b[36m│\u001b[0m\n",
       "\u001b[36m│\u001b[0m \u001b[48;2;39;40;34m                                                                                                               \u001b[0m \u001b[36m│\u001b[0m\n",
       "\u001b[36m│\u001b[0m                                                                                                                 \u001b[36m│\u001b[0m\n",
       "\u001b[36m│\u001b[0m Expected Output: Complete job hunting workflow with applications submitted and tracking dashboard. Please       \u001b[36m│\u001b[0m\n",
       "\u001b[36m│\u001b[0m provide only the final result of your work. Do not add any conversation or extra explanation.                   \u001b[36m│\u001b[0m\n",
       "\u001b[36m╰─────────────────────────────────────────────────────────────────────────────────────────────────────────────────╯\u001b[0m\n"
      ]
     },
     "metadata": {},
     "output_type": "display_data"
    },
    {
     "data": {
      "text/html": [
       "<pre style=\"white-space:pre;overflow-x:auto;line-height:normal;font-family:Menlo,'DejaVu Sans Mono',consolas,'Courier New',monospace\"><span style=\"color: #008080; text-decoration-color: #008080\">╭─────────────────────────────────────────────────── Response ────────────────────────────────────────────────────╮</span>\n",
       "<span style=\"color: #008080; text-decoration-color: #008080\">╰─────────────────────────────────────────────────────────────────────────────────────────────────────────────────╯</span>\n",
       "</pre>\n"
      ],
      "text/plain": [
       "\u001b[36m╭─\u001b[0m\u001b[36m──────────────────────────────────────────────────\u001b[0m\u001b[36m Response \u001b[0m\u001b[36m───────────────────────────────────────────────────\u001b[0m\u001b[36m─╮\u001b[0m\n",
       "\u001b[36m╰─────────────────────────────────────────────────────────────────────────────────────────────────────────────────╯\u001b[0m\n"
      ]
     },
     "metadata": {},
     "output_type": "display_data"
    },
    {
     "name": "stdout",
     "output_type": "stream",
     "text": [
      "\n",
      "⏱️ Total execution time: 17.30 seconds\n",
      "🎊 JOB HUNTING AUTOMATION COMPLETE!\n",
      "\n",
      "🎊 JOB HUNTING ASSISTANT COMPLETE!\n",
      "📋 Check results above for:\n",
      "  🔍 Job search results\n",
      "  📝 Customized resumes\n",
      "  📤 Application submissions\n",
      "  📊 Progress tracking\n"
     ]
    }
   ],
   "source": [
    "# @title **📋 Create Job Hunting Tasks & Execute**\n",
    "\n",
    "# Define job hunting tasks\n",
    "job_hunting_tasks = [\n",
    "    Task(\n",
    "        description=\"\"\"\n",
    "        Execute a complete job hunting workflow:\n",
    "\n",
    "        1. **Read Job Preferences**: Get user's job search criteria and preferences\n",
    "        2. **Search for Jobs**: Find 5 relevant software engineer positions in San Francisco\n",
    "        3. **Customize Resumes**: Create customized resumes for the top 3 most promising jobs\n",
    "        4. **Submit Applications**: Apply to the jobs with customized resumes\n",
    "        5. **Track Progress**: Provide application tracking dashboard\n",
    "\n",
    "        Provide detailed feedback at each step and include specific recommendations\n",
    "        for improving the job search strategy.\n",
    "        \"\"\",\n",
    "        agent=job_hunting_agent,\n",
    "        expected_output=\"Complete job hunting workflow with applications submitted and tracking dashboard\"\n",
    "    )\n",
    "]\n",
    "\n",
    "def run_job_hunting_system():\n",
    "    \"\"\"Execute the job hunting automation system\"\"\"\n",
    "\n",
    "    print(\"🚀 Starting Job Hunting Automation System...\")\n",
    "    print(\"=\" * 60)\n",
    "\n",
    "    start_time = time.time()\n",
    "\n",
    "    # Initialize PraisonAI system\n",
    "    job_hunting_system = PraisonAIAgents(\n",
    "        agents=[job_hunting_agent],\n",
    "        tasks=job_hunting_tasks,\n",
    "        verbose=True,\n",
    "        process=\"sequential\"\n",
    "    )\n",
    "\n",
    "    print(\"🤖 Job Hunting Assistant activated...\")\n",
    "\n",
    "    # Execute the system\n",
    "    result = job_hunting_system.start()\n",
    "\n",
    "    end_time = time.time()\n",
    "    duration = end_time - start_time\n",
    "\n",
    "    print(f\"\\n⏱️ Total execution time: {duration:.2f} seconds\")\n",
    "    print(\"🎊 JOB HUNTING AUTOMATION COMPLETE!\")\n",
    "\n",
    "    return result\n",
    "\n",
    "# Execute the job hunting system\n",
    "job_hunting_result = run_job_hunting_system()\n",
    "\n",
    "print(\"\\n🎊 JOB HUNTING ASSISTANT COMPLETE!\")\n",
    "print(\"📋 Check results above for:\")\n",
    "print(\"  🔍 Job search results\")\n",
    "print(\"  📝 Customized resumes\")\n",
    "print(\"  📤 Application submissions\")\n",
    "print(\"  📊 Progress tracking\")"
   ]
  }
 ],
 "metadata": {
  "colab": {
   "provenance": []
  },
  "kernelspec": {
   "display_name": "Python 3",
   "name": "python3"
  },
  "language_info": {
   "name": "python"
  }
 },
 "nbformat": 4,
 "nbformat_minor": 0
}
