{
  "cells": [
    {
      "cell_type": "markdown",
      "metadata": {
        "id": "rpA0Rq8jwHPv"
      },
      "source": [
        "# Medical Imaging Diagnosis Agent"
      ]
    },
    {
      "cell_type": "markdown",
      "metadata": {
        "id": "1uKYC-p2wLU9"
      },
      "source": [
        "This agent analyzes uploaded medical images (X-ray, MRI, CT, etc.) and provides a structured, expert-level diagnostic report.  \n",
        "It leverages advanced language models and web search, and includes a custom tool for basic image statistics.  \n",
        "For educational and informational use only—always consult a healthcare professional for medical decisions."
      ]
    },
    {
      "cell_type": "markdown",
      "metadata": {
        "id": "XXB7bGVJ1d3U"
      },
      "source": [
        "[![Open in Colab](https://colab.research.google.com/assets/colab-badge.svg)](https://colab.research.google.com/github/Dhivya-Bharathy/PraisonAI/blob/main/examples/cookbooks/medical_image_analysis_agent.ipynb)\n"
      ]
    },
    {
      "cell_type": "markdown",
      "metadata": {
        "id": "TnmIePHYwNnU"
      },
      "source": [
        "# Dependencies"
      ]
    },
    {
      "cell_type": "code",
      "execution_count": null,
      "metadata": {
        "id": "eH4ClEXpwM92"
      },
      "outputs": [],
      "source": [
        "!pip install \"praisonaiagents[llm]\" pillow numpy"
      ]
    },
    {
      "cell_type": "markdown",
      "metadata": {
        "id": "UQnhngy9wZm1"
      },
      "source": [
        "# Set Up Key"
      ]
    },
    {
      "cell_type": "code",
      "execution_count": null,
      "metadata": {
        "id": "yLpDhZPwwcuk"
      },
      "outputs": [],
      "source": [
        "import os\n",
        "\n",
        "# Set your API keys here (replace with your actual keys)\n",
        "OPENAI_API_KEY = \"sk-...\"  # <-- Replace with your OpenAI API key\n",
        "\n",
        "os.environ[\"OPENAI_API_KEY\"] = OPENAI_API_KEY"
      ]
    },
    {
      "cell_type": "markdown",
      "metadata": {
        "id": "gAD0r1qkwrTa"
      },
      "source": [
        "# Tools"
      ]
    },
    {
      "cell_type": "code",
      "execution_count": null,
      "metadata": {
        "id": "sawA6tD3wsRu"
      },
      "outputs": [],
      "source": [
        "from PIL import Image\n",
        "import numpy as np\n",
        "\n",
        "def image_basic_stats(image_path):\n",
        "    \"\"\"Return basic statistics (mean, std) for a medical image.\"\"\"\n",
        "    img = Image.open(image_path).convert(\"L\")\n",
        "    arr = np.array(img)\n",
        "    return {\n",
        "        \"mean_pixel_value\": float(np.mean(arr)),\n",
        "        \"std_pixel_value\": float(np.std(arr)),\n",
        "        \"min_pixel_value\": int(np.min(arr)),\n",
        "        \"max_pixel_value\": int(np.max(arr)),\n",
        "        \"image_shape\": arr.shape\n",
        "    }"
      ]
    },
    {
      "cell_type": "markdown",
      "metadata": {
        "id": "NpOtaCRxwxBI"
      },
      "source": [
        "# YAML Prompt"
      ]
    },
    {
      "cell_type": "code",
      "execution_count": null,
      "metadata": {
        "id": "mMblZGehwygM"
      },
      "outputs": [],
      "source": [
        "import yaml\n",
        "\n",
        "yaml_prompt =\"\"\"\n",
        "name: Medical Imaging Diagnosis Agent\n",
        "description: An expert agent for analyzing medical images and providing structured diagnostic reports.\n",
        "instructions:\n",
        "  - Accept a medical image and analyze it as a radiology expert.\n",
        "  - Use image_basic_stats to report basic image statistics.\n",
        "  - Structure your response as:\n",
        "    1. Image Type & Region\n",
        "    2. Key Findings\n",
        "    3. Diagnostic Assessment\n",
        "    4. Patient-Friendly Explanation\n",
        "  - Use clear markdown headers and bullet points.\n",
        "  - Be concise yet thorough.\n",
        "tools:\n",
        "  - image_basic_stats\n",
        "model: gpt-4o\n",
        "temperature: 0.3\n",
        "\"\"\"\n"
      ]
    },
    {
      "cell_type": "markdown",
      "metadata": {
        "id": "T74PkEg81QDC"
      },
      "source": [
        "# Files Upload"
      ]
    },
    {
      "cell_type": "code",
      "execution_count": null,
      "metadata": {
        "colab": {
          "base_uri": "https://localhost:8080/",
          "height": 73
        },
        "id": "VVhLJG26ziSd",
        "outputId": "b8a0891e-bd78-43c0-b74d-5ab092fbf24e"
      },
      "outputs": [
        {
          "data": {
            "text/html": [
              "\n",
              "     <input type=\"file\" id=\"files-bfdb695a-d2fd-4a11-8e1e-b0a99f8bc3fa\" name=\"files[]\" multiple disabled\n",
              "        style=\"border:none\" />\n",
              "     <output id=\"result-bfdb695a-d2fd-4a11-8e1e-b0a99f8bc3fa\">\n",
              "      Upload widget is only available when the cell has been executed in the\n",
              "      current browser session. Please rerun this cell to enable.\n",
              "      </output>\n",
              "      <script>// Copyright 2017 Google LLC\n",
              "//\n",
              "// Licensed under the Apache License, Version 2.0 (the \"License\");\n",
              "// you may not use this file except in compliance with the License.\n",
              "// You may obtain a copy of the License at\n",
              "//\n",
              "//      http://www.apache.org/licenses/LICENSE-2.0\n",
              "//\n",
              "// Unless required by applicable law or agreed to in writing, software\n",
              "// distributed under the License is distributed on an \"AS IS\" BASIS,\n",
              "// WITHOUT WARRANTIES OR CONDITIONS OF ANY KIND, either express or implied.\n",
              "// See the License for the specific language governing permissions and\n",
              "// limitations under the License.\n",
              "\n",
              "/**\n",
              " * @fileoverview Helpers for google.colab Python module.\n",
              " */\n",
              "(function(scope) {\n",
              "function span(text, styleAttributes = {}) {\n",
              "  const element = document.createElement('span');\n",
              "  element.textContent = text;\n",
              "  for (const key of Object.keys(styleAttributes)) {\n",
              "    element.style[key] = styleAttributes[key];\n",
              "  }\n",
              "  return element;\n",
              "}\n",
              "\n",
              "// Max number of bytes which will be uploaded at a time.\n",
              "const MAX_PAYLOAD_SIZE = 100 * 1024;\n",
              "\n",
              "function _uploadFiles(inputId, outputId) {\n",
              "  const steps = uploadFilesStep(inputId, outputId);\n",
              "  const outputElement = document.getElementById(outputId);\n",
              "  // Cache steps on the outputElement to make it available for the next call\n",
              "  // to uploadFilesContinue from Python.\n",
              "  outputElement.steps = steps;\n",
              "\n",
              "  return _uploadFilesContinue(outputId);\n",
              "}\n",
              "\n",
              "// This is roughly an async generator (not supported in the browser yet),\n",
              "// where there are multiple asynchronous steps and the Python side is going\n",
              "// to poll for completion of each step.\n",
              "// This uses a Promise to block the python side on completion of each step,\n",
              "// then passes the result of the previous step as the input to the next step.\n",
              "function _uploadFilesContinue(outputId) {\n",
              "  const outputElement = document.getElementById(outputId);\n",
              "  const steps = outputElement.steps;\n",
              "\n",
              "  const next = steps.next(outputElement.lastPromiseValue);\n",
              "  return Promise.resolve(next.value.promise).then((value) => {\n",
              "    // Cache the last promise value to make it available to the next\n",
              "    // step of the generator.\n",
              "    outputElement.lastPromiseValue = value;\n",
              "    return next.value.response;\n",
              "  });\n",
              "}\n",
              "\n",
              "/**\n",
              " * Generator function which is called between each async step of the upload\n",
              " * process.\n",
              " * @param {string} inputId Element ID of the input file picker element.\n",
              " * @param {string} outputId Element ID of the output display.\n",
              " * @return {!Iterable<!Object>} Iterable of next steps.\n",
              " */\n",
              "function* uploadFilesStep(inputId, outputId) {\n",
              "  const inputElement = document.getElementById(inputId);\n",
              "  inputElement.disabled = false;\n",
              "\n",
              "  const outputElement = document.getElementById(outputId);\n",
              "  outputElement.innerHTML = '';\n",
              "\n",
              "  const pickedPromise = new Promise((resolve) => {\n",
              "    inputElement.addEventListener('change', (e) => {\n",
              "      resolve(e.target.files);\n",
              "    });\n",
              "  });\n",
              "\n",
              "  const cancel = document.createElement('button');\n",
              "  inputElement.parentElement.appendChild(cancel);\n",
              "  cancel.textContent = 'Cancel upload';\n",
              "  const cancelPromise = new Promise((resolve) => {\n",
              "    cancel.onclick = () => {\n",
              "      resolve(null);\n",
              "    };\n",
              "  });\n",
              "\n",
              "  // Wait for the user to pick the files.\n",
              "  const files = yield {\n",
              "    promise: Promise.race([pickedPromise, cancelPromise]),\n",
              "    response: {\n",
              "      action: 'starting',\n",
              "    }\n",
              "  };\n",
              "\n",
              "  cancel.remove();\n",
              "\n",
              "  // Disable the input element since further picks are not allowed.\n",
              "  inputElement.disabled = true;\n",
              "\n",
              "  if (!files) {\n",
              "    return {\n",
              "      response: {\n",
              "        action: 'complete',\n",
              "      }\n",
              "    };\n",
              "  }\n",
              "\n",
              "  for (const file of files) {\n",
              "    const li = document.createElement('li');\n",
              "    li.append(span(file.name, {fontWeight: 'bold'}));\n",
              "    li.append(span(\n",
              "        `(${file.type || 'n/a'}) - ${file.size} bytes, ` +\n",
              "        `last modified: ${\n",
              "            file.lastModifiedDate ? file.lastModifiedDate.toLocaleDateString() :\n",
              "                                    'n/a'} - `));\n",
              "    const percent = span('0% done');\n",
              "    li.appendChild(percent);\n",
              "\n",
              "    outputElement.appendChild(li);\n",
              "\n",
              "    const fileDataPromise = new Promise((resolve) => {\n",
              "      const reader = new FileReader();\n",
              "      reader.onload = (e) => {\n",
              "        resolve(e.target.result);\n",
              "      };\n",
              "      reader.readAsArrayBuffer(file);\n",
              "    });\n",
              "    // Wait for the data to be ready.\n",
              "    let fileData = yield {\n",
              "      promise: fileDataPromise,\n",
              "      response: {\n",
              "        action: 'continue',\n",
              "      }\n",
              "    };\n",
              "\n",
              "    // Use a chunked sending to avoid message size limits. See b/62115660.\n",
              "    let position = 0;\n",
              "    do {\n",
              "      const length = Math.min(fileData.byteLength - position, MAX_PAYLOAD_SIZE);\n",
              "      const chunk = new Uint8Array(fileData, position, length);\n",
              "      position += length;\n",
              "\n",
              "      const base64 = btoa(String.fromCharCode.apply(null, chunk));\n",
              "      yield {\n",
              "        response: {\n",
              "          action: 'append',\n",
              "          file: file.name,\n",
              "          data: base64,\n",
              "        },\n",
              "      };\n",
              "\n",
              "      let percentDone = fileData.byteLength === 0 ?\n",
              "          100 :\n",
              "          Math.round((position / fileData.byteLength) * 100);\n",
              "      percent.textContent = `${percentDone}% done`;\n",
              "\n",
              "    } while (position < fileData.byteLength);\n",
              "  }\n",
              "\n",
              "  // All done.\n",
              "  yield {\n",
              "    response: {\n",
              "      action: 'complete',\n",
              "    }\n",
              "  };\n",
              "}\n",
              "\n",
              "scope.google = scope.google || {};\n",
              "scope.google.colab = scope.google.colab || {};\n",
              "scope.google.colab._files = {\n",
              "  _uploadFiles,\n",
              "  _uploadFilesContinue,\n",
              "};\n",
              "})(self);\n",
              "</script> "
            ],
            "text/plain": [
              "<IPython.core.display.HTML object>"
            ]
          },
          "metadata": {},
          "output_type": "display_data"
        },
        {
          "name": "stdout",
          "output_type": "stream",
          "text": [
            "Saving xray.jpg to xray (3).jpg\n"
          ]
        }
      ],
      "source": [
        "from google.colab import files\n",
        "uploaded = files.upload()\n",
        "image_path = next(iter(uploaded))"
      ]
    },
    {
      "cell_type": "markdown",
      "metadata": {
        "id": "HBSNZuAV1Ovb"
      },
      "source": [
        "# Main"
      ]
    },
    {
      "cell_type": "code",
      "execution_count": null,
      "metadata": {
        "colab": {
          "base_uri": "https://localhost:8080/",
          "height": 1000,
          "referenced_widgets": [
            "fd88d26d38754797aaf3c207eb1f0b02",
            "c8b446a3cfa9472a8d2bdca9ce797351"
          ]
        },
        "id": "5rMOwNYexPM_",
        "outputId": "6e03a83c-2715-489e-a006-11be4357517b"
      },
      "outputs": [
        {
          "name": "stdout",
          "output_type": "stream",
          "text": [
            "Image basic stats: {'mean_pixel_value': 132.27144877397427, 'std_pixel_value': 41.52499513839946, 'min_pixel_value': 0, 'max_pixel_value': 255, 'image_shape': (1373, 1200)}\n"
          ]
        },
        {
          "data": {
            "text/html": [
              "<pre style=\"white-space:pre;overflow-x:auto;line-height:normal;font-family:Menlo,'DejaVu Sans Mono',consolas,'Courier New',monospace\"><span style=\"color: #d2e3c8; text-decoration-color: #d2e3c8\">╭─ </span><span style=\"color: #d2e3c8; text-decoration-color: #d2e3c8; font-weight: bold\">Agent Info</span><span style=\"color: #d2e3c8; text-decoration-color: #d2e3c8\"> ────────────────────────────────────────────────────────────────────────────────────────────────────╮</span>\n",
              "<span style=\"color: #d2e3c8; text-decoration-color: #d2e3c8\">│</span>                                                                                                                 <span style=\"color: #d2e3c8; text-decoration-color: #d2e3c8\">│</span>\n",
              "<span style=\"color: #d2e3c8; text-decoration-color: #d2e3c8\">│</span>  <span style=\"color: #ff9b9b; text-decoration-color: #ff9b9b; font-weight: bold\">👤 Agent:</span> <span style=\"color: #ffe5e5; text-decoration-color: #ffe5e5\">Medical Imaging Diagnosis Agent</span>                                                                      <span style=\"color: #d2e3c8; text-decoration-color: #d2e3c8\">│</span>\n",
              "<span style=\"color: #d2e3c8; text-decoration-color: #d2e3c8\">│</span>  <span style=\"color: #b4b4b3; text-decoration-color: #b4b4b3; font-weight: bold\">Role:</span> <span style=\"color: #ffe5e5; text-decoration-color: #ffe5e5\">Expert in medical image analysis and reporting</span>                                                           <span style=\"color: #d2e3c8; text-decoration-color: #d2e3c8\">│</span>\n",
              "<span style=\"color: #d2e3c8; text-decoration-color: #d2e3c8\">│</span>                                                                                                                 <span style=\"color: #d2e3c8; text-decoration-color: #d2e3c8\">│</span>\n",
              "<span style=\"color: #d2e3c8; text-decoration-color: #d2e3c8\">╰─────────────────────────────────────────────────────────────────────────────────────────────────────────────────╯</span>\n",
              "</pre>\n"
            ],
            "text/plain": [
              "\u001b[38;2;210;227;200m╭─\u001b[0m\u001b[38;2;210;227;200m \u001b[0m\u001b[1;38;2;210;227;200mAgent Info\u001b[0m\u001b[38;2;210;227;200m \u001b[0m\u001b[38;2;210;227;200m───────────────────────────────────────────────────────────────────────────────────────────────────\u001b[0m\u001b[38;2;210;227;200m─╮\u001b[0m\n",
              "\u001b[38;2;210;227;200m│\u001b[0m                                                                                                                 \u001b[38;2;210;227;200m│\u001b[0m\n",
              "\u001b[38;2;210;227;200m│\u001b[0m  \u001b[1;38;2;255;155;155m👤 Agent:\u001b[0m \u001b[38;2;255;229;229mMedical Imaging Diagnosis Agent\u001b[0m                                                                      \u001b[38;2;210;227;200m│\u001b[0m\n",
              "\u001b[38;2;210;227;200m│\u001b[0m  \u001b[1;38;2;180;180;179mRole:\u001b[0m \u001b[38;2;255;229;229mExpert in medical image analysis and reporting\u001b[0m                                                           \u001b[38;2;210;227;200m│\u001b[0m\n",
              "\u001b[38;2;210;227;200m│\u001b[0m                                                                                                                 \u001b[38;2;210;227;200m│\u001b[0m\n",
              "\u001b[38;2;210;227;200m╰─────────────────────────────────────────────────────────────────────────────────────────────────────────────────╯\u001b[0m\n"
            ]
          },
          "metadata": {},
          "output_type": "display_data"
        },
        {
          "data": {
            "application/vnd.jupyter.widget-view+json": {
              "model_id": "fd88d26d38754797aaf3c207eb1f0b02",
              "version_major": 2,
              "version_minor": 0
            },
            "text/plain": [
              "Output()"
            ]
          },
          "metadata": {},
          "output_type": "display_data"
        },
        {
          "data": {
            "text/html": [
              "<pre style=\"white-space:pre;overflow-x:auto;line-height:normal;font-family:Menlo,'DejaVu Sans Mono',consolas,'Courier New',monospace\"></pre>\n"
            ],
            "text/plain": []
          },
          "metadata": {},
          "output_type": "display_data"
        },
        {
          "data": {
            "text/html": [
              "<pre style=\"white-space:pre;overflow-x:auto;line-height:normal;font-family:Menlo,'DejaVu Sans Mono',consolas,'Courier New',monospace\">\n",
              "</pre>\n"
            ],
            "text/plain": [
              "\n"
            ]
          },
          "metadata": {},
          "output_type": "display_data"
        },
        {
          "data": {
            "text/html": [
              "<pre style=\"white-space:pre;overflow-x:auto;line-height:normal;font-family:Menlo,'DejaVu Sans Mono',consolas,'Courier New',monospace\"><span style=\"color: #7f7f7f; text-decoration-color: #7f7f7f\">Response generated in 10.9s</span>\n",
              "</pre>\n"
            ],
            "text/plain": [
              "\u001b[2mResponse generated in 10.9s\u001b[0m\n"
            ]
          },
          "metadata": {},
          "output_type": "display_data"
        },
        {
          "data": {
            "text/html": [
              "<pre style=\"white-space:pre;overflow-x:auto;line-height:normal;font-family:Menlo,'DejaVu Sans Mono',consolas,'Courier New',monospace\"><span style=\"color: #008080; text-decoration-color: #008080\">╭───────────────────────────────────────────────────── Task ──────────────────────────────────────────────────────╮</span>\n",
              "<span style=\"color: #008080; text-decoration-color: #008080\">│</span> You are a highly skilled medical imaging expert with extensive knowledge in radiology and diagnostic imaging.   <span style=\"color: #008080; text-decoration-color: #008080\">│</span>\n",
              "<span style=\"color: #008080; text-decoration-color: #008080\">│</span> Analyze the uploaded medical image and structure your response as follows:                                      <span style=\"color: #008080; text-decoration-color: #008080\">│</span>\n",
              "<span style=\"color: #008080; text-decoration-color: #008080\">│</span>                                                                                                                 <span style=\"color: #008080; text-decoration-color: #008080\">│</span>\n",
              "<span style=\"color: #008080; text-decoration-color: #008080\">│</span>                                             <span style=\"font-weight: bold\">1. Image Type &amp; Region</span>                                              <span style=\"color: #008080; text-decoration-color: #008080\">│</span>\n",
              "<span style=\"color: #008080; text-decoration-color: #008080\">│</span>                                                                                                                 <span style=\"color: #008080; text-decoration-color: #008080\">│</span>\n",
              "<span style=\"color: #008080; text-decoration-color: #008080\">│</span> <span style=\"color: #808000; text-decoration-color: #808000; font-weight: bold\"> • </span>Specify imaging modality (X-ray/MRI/CT/Ultrasound/etc.)                                                      <span style=\"color: #008080; text-decoration-color: #008080\">│</span>\n",
              "<span style=\"color: #008080; text-decoration-color: #008080\">│</span> <span style=\"color: #808000; text-decoration-color: #808000; font-weight: bold\"> • </span>Identify the patient's anatomical region and positioning                                                     <span style=\"color: #008080; text-decoration-color: #008080\">│</span>\n",
              "<span style=\"color: #008080; text-decoration-color: #008080\">│</span> <span style=\"color: #808000; text-decoration-color: #808000; font-weight: bold\"> • </span>Comment on image quality and technical adequacy                                                              <span style=\"color: #008080; text-decoration-color: #008080\">│</span>\n",
              "<span style=\"color: #008080; text-decoration-color: #008080\">│</span>                                                                                                                 <span style=\"color: #008080; text-decoration-color: #008080\">│</span>\n",
              "<span style=\"color: #008080; text-decoration-color: #008080\">│</span>                                                 <span style=\"font-weight: bold\">2. Key Findings</span>                                                 <span style=\"color: #008080; text-decoration-color: #008080\">│</span>\n",
              "<span style=\"color: #008080; text-decoration-color: #008080\">│</span>                                                                                                                 <span style=\"color: #008080; text-decoration-color: #008080\">│</span>\n",
              "<span style=\"color: #008080; text-decoration-color: #008080\">│</span> <span style=\"color: #808000; text-decoration-color: #808000; font-weight: bold\"> • </span>List primary observations systematically                                                                     <span style=\"color: #008080; text-decoration-color: #008080\">│</span>\n",
              "<span style=\"color: #008080; text-decoration-color: #008080\">│</span> <span style=\"color: #808000; text-decoration-color: #808000; font-weight: bold\"> • </span>Note any abnormalities with precise descriptions                                                             <span style=\"color: #008080; text-decoration-color: #008080\">│</span>\n",
              "<span style=\"color: #008080; text-decoration-color: #008080\">│</span> <span style=\"color: #808000; text-decoration-color: #808000; font-weight: bold\"> • </span>Include measurements and densities where relevant                                                            <span style=\"color: #008080; text-decoration-color: #008080\">│</span>\n",
              "<span style=\"color: #008080; text-decoration-color: #008080\">│</span> <span style=\"color: #808000; text-decoration-color: #808000; font-weight: bold\"> • </span>Describe location, size, shape, and characteristics                                                          <span style=\"color: #008080; text-decoration-color: #008080\">│</span>\n",
              "<span style=\"color: #008080; text-decoration-color: #008080\">│</span> <span style=\"color: #808000; text-decoration-color: #808000; font-weight: bold\"> • </span>Rate severity: Normal/Mild/Moderate/Severe                                                                   <span style=\"color: #008080; text-decoration-color: #008080\">│</span>\n",
              "<span style=\"color: #008080; text-decoration-color: #008080\">│</span>                                                                                                                 <span style=\"color: #008080; text-decoration-color: #008080\">│</span>\n",
              "<span style=\"color: #008080; text-decoration-color: #008080\">│</span>                                            <span style=\"font-weight: bold\">3. Diagnostic Assessment</span>                                             <span style=\"color: #008080; text-decoration-color: #008080\">│</span>\n",
              "<span style=\"color: #008080; text-decoration-color: #008080\">│</span>                                                                                                                 <span style=\"color: #008080; text-decoration-color: #008080\">│</span>\n",
              "<span style=\"color: #008080; text-decoration-color: #008080\">│</span> <span style=\"color: #808000; text-decoration-color: #808000; font-weight: bold\"> • </span>Provide primary diagnosis with confidence level                                                              <span style=\"color: #008080; text-decoration-color: #008080\">│</span>\n",
              "<span style=\"color: #008080; text-decoration-color: #008080\">│</span> <span style=\"color: #808000; text-decoration-color: #808000; font-weight: bold\"> • </span>List differential diagnoses in order of likelihood                                                           <span style=\"color: #008080; text-decoration-color: #008080\">│</span>\n",
              "<span style=\"color: #008080; text-decoration-color: #008080\">│</span> <span style=\"color: #808000; text-decoration-color: #808000; font-weight: bold\"> • </span>Support each diagnosis with observed evidence                                                                <span style=\"color: #008080; text-decoration-color: #008080\">│</span>\n",
              "<span style=\"color: #008080; text-decoration-color: #008080\">│</span> <span style=\"color: #808000; text-decoration-color: #808000; font-weight: bold\"> • </span>Note any critical or urgent findings                                                                         <span style=\"color: #008080; text-decoration-color: #008080\">│</span>\n",
              "<span style=\"color: #008080; text-decoration-color: #008080\">│</span>                                                                                                                 <span style=\"color: #008080; text-decoration-color: #008080\">│</span>\n",
              "<span style=\"color: #008080; text-decoration-color: #008080\">│</span>                                         <span style=\"font-weight: bold\">4. Patient-Friendly Explanation</span>                                         <span style=\"color: #008080; text-decoration-color: #008080\">│</span>\n",
              "<span style=\"color: #008080; text-decoration-color: #008080\">│</span>                                                                                                                 <span style=\"color: #008080; text-decoration-color: #008080\">│</span>\n",
              "<span style=\"color: #008080; text-decoration-color: #008080\">│</span> <span style=\"color: #808000; text-decoration-color: #808000; font-weight: bold\"> • </span>Explain the findings in simple, clear language                                                               <span style=\"color: #008080; text-decoration-color: #008080\">│</span>\n",
              "<span style=\"color: #008080; text-decoration-color: #008080\">│</span> <span style=\"color: #808000; text-decoration-color: #808000; font-weight: bold\"> • </span>Avoid medical jargon or provide clear definitions                                                            <span style=\"color: #008080; text-decoration-color: #008080\">│</span>\n",
              "<span style=\"color: #008080; text-decoration-color: #008080\">│</span> <span style=\"color: #808000; text-decoration-color: #808000; font-weight: bold\"> • </span>Include visual analogies if helpful                                                                          <span style=\"color: #008080; text-decoration-color: #008080\">│</span>\n",
              "<span style=\"color: #008080; text-decoration-color: #008080\">│</span> <span style=\"color: #808000; text-decoration-color: #808000; font-weight: bold\"> • </span>Address common patient concerns                                                                              <span style=\"color: #008080; text-decoration-color: #008080\">│</span>\n",
              "<span style=\"color: #008080; text-decoration-color: #008080\">│</span>                                                                                                                 <span style=\"color: #008080; text-decoration-color: #008080\">│</span>\n",
              "<span style=\"color: #008080; text-decoration-color: #008080\">│</span>                                                <span style=\"color: #7f7f7f; text-decoration-color: #7f7f7f; font-weight: bold\">Image Basic Stats</span>                                                <span style=\"color: #008080; text-decoration-color: #008080\">│</span>\n",
              "<span style=\"color: #008080; text-decoration-color: #008080\">│</span>                                                                                                                 <span style=\"color: #008080; text-decoration-color: #008080\">│</span>\n",
              "<span style=\"color: #008080; text-decoration-color: #008080\">│</span> <span style=\"color: #808000; text-decoration-color: #808000; font-weight: bold\"> • </span>Mean pixel value: 132.27144877397427                                                                         <span style=\"color: #008080; text-decoration-color: #008080\">│</span>\n",
              "<span style=\"color: #008080; text-decoration-color: #008080\">│</span> <span style=\"color: #808000; text-decoration-color: #808000; font-weight: bold\"> • </span>Std pixel value: 41.52499513839946                                                                           <span style=\"color: #008080; text-decoration-color: #008080\">│</span>\n",
              "<span style=\"color: #008080; text-decoration-color: #008080\">│</span> <span style=\"color: #808000; text-decoration-color: #808000; font-weight: bold\"> • </span>Min pixel value: 0                                                                                           <span style=\"color: #008080; text-decoration-color: #008080\">│</span>\n",
              "<span style=\"color: #008080; text-decoration-color: #008080\">│</span> <span style=\"color: #808000; text-decoration-color: #808000; font-weight: bold\"> • </span>Max pixel value: 255                                                                                         <span style=\"color: #008080; text-decoration-color: #008080\">│</span>\n",
              "<span style=\"color: #008080; text-decoration-color: #008080\">│</span> <span style=\"color: #808000; text-decoration-color: #808000; font-weight: bold\"> • </span>Image shape: (1373, 1200)                                                                                    <span style=\"color: #008080; text-decoration-color: #008080\">│</span>\n",
              "<span style=\"color: #008080; text-decoration-color: #008080\">│</span>                                                                                                                 <span style=\"color: #008080; text-decoration-color: #008080\">│</span>\n",
              "<span style=\"color: #008080; text-decoration-color: #008080\">│</span> Format your response using clear markdown headers and bullet points. Be concise yet thorough.                   <span style=\"color: #008080; text-decoration-color: #008080\">│</span>\n",
              "<span style=\"color: #008080; text-decoration-color: #008080\">╰─────────────────────────────────────────────────────────────────────────────────────────────────────────────────╯</span>\n",
              "</pre>\n"
            ],
            "text/plain": [
              "\u001b[36m╭─\u001b[0m\u001b[36m────────────────────────────────────────────────────\u001b[0m\u001b[36m Task \u001b[0m\u001b[36m─────────────────────────────────────────────────────\u001b[0m\u001b[36m─╮\u001b[0m\n",
              "\u001b[36m│\u001b[0m You are a highly skilled medical imaging expert with extensive knowledge in radiology and diagnostic imaging.   \u001b[36m│\u001b[0m\n",
              "\u001b[36m│\u001b[0m Analyze the uploaded medical image and structure your response as follows:                                      \u001b[36m│\u001b[0m\n",
              "\u001b[36m│\u001b[0m                                                                                                                 \u001b[36m│\u001b[0m\n",
              "\u001b[36m│\u001b[0m                                             \u001b[1m1. Image Type & Region\u001b[0m                                              \u001b[36m│\u001b[0m\n",
              "\u001b[36m│\u001b[0m                                                                                                                 \u001b[36m│\u001b[0m\n",
              "\u001b[36m│\u001b[0m \u001b[1;33m • \u001b[0mSpecify imaging modality (X-ray/MRI/CT/Ultrasound/etc.)                                                      \u001b[36m│\u001b[0m\n",
              "\u001b[36m│\u001b[0m \u001b[1;33m • \u001b[0mIdentify the patient's anatomical region and positioning                                                     \u001b[36m│\u001b[0m\n",
              "\u001b[36m│\u001b[0m \u001b[1;33m • \u001b[0mComment on image quality and technical adequacy                                                              \u001b[36m│\u001b[0m\n",
              "\u001b[36m│\u001b[0m                                                                                                                 \u001b[36m│\u001b[0m\n",
              "\u001b[36m│\u001b[0m                                                 \u001b[1m2. Key Findings\u001b[0m                                                 \u001b[36m│\u001b[0m\n",
              "\u001b[36m│\u001b[0m                                                                                                                 \u001b[36m│\u001b[0m\n",
              "\u001b[36m│\u001b[0m \u001b[1;33m • \u001b[0mList primary observations systematically                                                                     \u001b[36m│\u001b[0m\n",
              "\u001b[36m│\u001b[0m \u001b[1;33m • \u001b[0mNote any abnormalities with precise descriptions                                                             \u001b[36m│\u001b[0m\n",
              "\u001b[36m│\u001b[0m \u001b[1;33m • \u001b[0mInclude measurements and densities where relevant                                                            \u001b[36m│\u001b[0m\n",
              "\u001b[36m│\u001b[0m \u001b[1;33m • \u001b[0mDescribe location, size, shape, and characteristics                                                          \u001b[36m│\u001b[0m\n",
              "\u001b[36m│\u001b[0m \u001b[1;33m • \u001b[0mRate severity: Normal/Mild/Moderate/Severe                                                                   \u001b[36m│\u001b[0m\n",
              "\u001b[36m│\u001b[0m                                                                                                                 \u001b[36m│\u001b[0m\n",
              "\u001b[36m│\u001b[0m                                            \u001b[1m3. Diagnostic Assessment\u001b[0m                                             \u001b[36m│\u001b[0m\n",
              "\u001b[36m│\u001b[0m                                                                                                                 \u001b[36m│\u001b[0m\n",
              "\u001b[36m│\u001b[0m \u001b[1;33m • \u001b[0mProvide primary diagnosis with confidence level                                                              \u001b[36m│\u001b[0m\n",
              "\u001b[36m│\u001b[0m \u001b[1;33m • \u001b[0mList differential diagnoses in order of likelihood                                                           \u001b[36m│\u001b[0m\n",
              "\u001b[36m│\u001b[0m \u001b[1;33m • \u001b[0mSupport each diagnosis with observed evidence                                                                \u001b[36m│\u001b[0m\n",
              "\u001b[36m│\u001b[0m \u001b[1;33m • \u001b[0mNote any critical or urgent findings                                                                         \u001b[36m│\u001b[0m\n",
              "\u001b[36m│\u001b[0m                                                                                                                 \u001b[36m│\u001b[0m\n",
              "\u001b[36m│\u001b[0m                                         \u001b[1m4. Patient-Friendly Explanation\u001b[0m                                         \u001b[36m│\u001b[0m\n",
              "\u001b[36m│\u001b[0m                                                                                                                 \u001b[36m│\u001b[0m\n",
              "\u001b[36m│\u001b[0m \u001b[1;33m • \u001b[0mExplain the findings in simple, clear language                                                               \u001b[36m│\u001b[0m\n",
              "\u001b[36m│\u001b[0m \u001b[1;33m • \u001b[0mAvoid medical jargon or provide clear definitions                                                            \u001b[36m│\u001b[0m\n",
              "\u001b[36m│\u001b[0m \u001b[1;33m • \u001b[0mInclude visual analogies if helpful                                                                          \u001b[36m│\u001b[0m\n",
              "\u001b[36m│\u001b[0m \u001b[1;33m • \u001b[0mAddress common patient concerns                                                                              \u001b[36m│\u001b[0m\n",
              "\u001b[36m│\u001b[0m                                                                                                                 \u001b[36m│\u001b[0m\n",
              "\u001b[36m│\u001b[0m                                                \u001b[1;2mImage Basic Stats\u001b[0m                                                \u001b[36m│\u001b[0m\n",
              "\u001b[36m│\u001b[0m                                                                                                                 \u001b[36m│\u001b[0m\n",
              "\u001b[36m│\u001b[0m \u001b[1;33m • \u001b[0mMean pixel value: 132.27144877397427                                                                         \u001b[36m│\u001b[0m\n",
              "\u001b[36m│\u001b[0m \u001b[1;33m • \u001b[0mStd pixel value: 41.52499513839946                                                                           \u001b[36m│\u001b[0m\n",
              "\u001b[36m│\u001b[0m \u001b[1;33m • \u001b[0mMin pixel value: 0                                                                                           \u001b[36m│\u001b[0m\n",
              "\u001b[36m│\u001b[0m \u001b[1;33m • \u001b[0mMax pixel value: 255                                                                                         \u001b[36m│\u001b[0m\n",
              "\u001b[36m│\u001b[0m \u001b[1;33m • \u001b[0mImage shape: (1373, 1200)                                                                                    \u001b[36m│\u001b[0m\n",
              "\u001b[36m│\u001b[0m                                                                                                                 \u001b[36m│\u001b[0m\n",
              "\u001b[36m│\u001b[0m Format your response using clear markdown headers and bullet points. Be concise yet thorough.                   \u001b[36m│\u001b[0m\n",
              "\u001b[36m╰─────────────────────────────────────────────────────────────────────────────────────────────────────────────────╯\u001b[0m\n"
            ]
          },
          "metadata": {},
          "output_type": "display_data"
        },
        {
          "data": {
            "text/html": [
              "<pre style=\"white-space:pre;overflow-x:auto;line-height:normal;font-family:Menlo,'DejaVu Sans Mono',consolas,'Courier New',monospace\"><span style=\"color: #008080; text-decoration-color: #008080\">╭─────────────────────────────────────────────────── Response ────────────────────────────────────────────────────╮</span>\n",
              "<span style=\"color: #008080; text-decoration-color: #008080\">│</span> I'm unable to view or analyze images directly. However, I can guide you on how to analyze a medical image based <span style=\"color: #008080; text-decoration-color: #008080\">│</span>\n",
              "<span style=\"color: #008080; text-decoration-color: #008080\">│</span> on the provided statistics and typical analysis procedures. Here's how you might structure your analysis:       <span style=\"color: #008080; text-decoration-color: #008080\">│</span>\n",
              "<span style=\"color: #008080; text-decoration-color: #008080\">│</span>                                                                                                                 <span style=\"color: #008080; text-decoration-color: #008080\">│</span>\n",
              "<span style=\"color: #008080; text-decoration-color: #008080\">│</span>                                             <span style=\"font-weight: bold\">1. Image Type &amp; Region</span>                                              <span style=\"color: #008080; text-decoration-color: #008080\">│</span>\n",
              "<span style=\"color: #008080; text-decoration-color: #008080\">│</span>                                                                                                                 <span style=\"color: #008080; text-decoration-color: #008080\">│</span>\n",
              "<span style=\"color: #008080; text-decoration-color: #008080\">│</span> <span style=\"color: #808000; text-decoration-color: #808000; font-weight: bold\"> • </span><span style=\"font-weight: bold\">Imaging Modality</span>: Based on the pixel value range (0 to 255), this image is likely a grayscale image, which   <span style=\"color: #008080; text-decoration-color: #008080\">│</span>\n",
              "<span style=\"color: #008080; text-decoration-color: #008080\">│</span> <span style=\"color: #808000; text-decoration-color: #808000; font-weight: bold\">   </span>is common in modalities like X-ray or CT.                                                                    <span style=\"color: #008080; text-decoration-color: #008080\">│</span>\n",
              "<span style=\"color: #008080; text-decoration-color: #008080\">│</span> <span style=\"color: #808000; text-decoration-color: #808000; font-weight: bold\"> • </span><span style=\"font-weight: bold\">Anatomical Region &amp; Positioning</span>: Without visual input, I cannot specify the region. Typically, this would    <span style=\"color: #008080; text-decoration-color: #008080\">│</span>\n",
              "<span style=\"color: #008080; text-decoration-color: #008080\">│</span> <span style=\"color: #808000; text-decoration-color: #808000; font-weight: bold\">   </span>involve identifying the body part and the view (e.g., AP, lateral).                                          <span style=\"color: #008080; text-decoration-color: #008080\">│</span>\n",
              "<span style=\"color: #008080; text-decoration-color: #008080\">│</span> <span style=\"color: #808000; text-decoration-color: #808000; font-weight: bold\"> • </span><span style=\"font-weight: bold\">Image Quality &amp; Technical Adequacy</span>:                                                                          <span style=\"color: #008080; text-decoration-color: #008080\">│</span>\n",
              "<span style=\"color: #008080; text-decoration-color: #008080\">│</span> <span style=\"color: #808000; text-decoration-color: #808000; font-weight: bold\">    • </span>The mean pixel value of 132.27 suggests a mid-range brightness, which is typical for well-exposed images. <span style=\"color: #008080; text-decoration-color: #008080\">│</span>\n",
              "<span style=\"color: #008080; text-decoration-color: #008080\">│</span> <span style=\"color: #808000; text-decoration-color: #808000; font-weight: bold\">    • </span>The standard deviation of 41.52 indicates moderate contrast, which should be sufficient for identifying   <span style=\"color: #008080; text-decoration-color: #008080\">│</span>\n",
              "<span style=\"color: #008080; text-decoration-color: #008080\">│</span> <span style=\"color: #808000; text-decoration-color: #808000; font-weight: bold\">      </span>structures.                                                                                               <span style=\"color: #008080; text-decoration-color: #008080\">│</span>\n",
              "<span style=\"color: #008080; text-decoration-color: #008080\">│</span> <span style=\"color: #808000; text-decoration-color: #808000; font-weight: bold\">    • </span>Ensure the image is free from artifacts and is properly centered and aligned.                             <span style=\"color: #008080; text-decoration-color: #008080\">│</span>\n",
              "<span style=\"color: #008080; text-decoration-color: #008080\">│</span>                                                                                                                 <span style=\"color: #008080; text-decoration-color: #008080\">│</span>\n",
              "<span style=\"color: #008080; text-decoration-color: #008080\">│</span>                                                 <span style=\"font-weight: bold\">2. Key Findings</span>                                                 <span style=\"color: #008080; text-decoration-color: #008080\">│</span>\n",
              "<span style=\"color: #008080; text-decoration-color: #008080\">│</span>                                                                                                                 <span style=\"color: #008080; text-decoration-color: #008080\">│</span>\n",
              "<span style=\"color: #008080; text-decoration-color: #008080\">│</span> <span style=\"color: #808000; text-decoration-color: #808000; font-weight: bold\"> • </span><span style=\"font-weight: bold\">Primary Observations</span>: Without visual input, specific findings cannot be listed. Generally, look for:         <span style=\"color: #008080; text-decoration-color: #008080\">│</span>\n",
              "<span style=\"color: #008080; text-decoration-color: #008080\">│</span> <span style=\"color: #808000; text-decoration-color: #808000; font-weight: bold\">    • </span>Bone alignment and integrity                                                                              <span style=\"color: #008080; text-decoration-color: #008080\">│</span>\n",
              "<span style=\"color: #008080; text-decoration-color: #008080\">│</span> <span style=\"color: #808000; text-decoration-color: #808000; font-weight: bold\">    • </span>Soft tissue outlines                                                                                      <span style=\"color: #008080; text-decoration-color: #008080\">│</span>\n",
              "<span style=\"color: #008080; text-decoration-color: #008080\">│</span> <span style=\"color: #808000; text-decoration-color: #808000; font-weight: bold\">    • </span>Presence of any foreign bodies or masses                                                                  <span style=\"color: #008080; text-decoration-color: #008080\">│</span>\n",
              "<span style=\"color: #008080; text-decoration-color: #008080\">│</span> <span style=\"color: #808000; text-decoration-color: #808000; font-weight: bold\"> • </span><span style=\"font-weight: bold\">Abnormalities</span>: Describe any visible lesions, fractures, or unusual densities.                                <span style=\"color: #008080; text-decoration-color: #008080\">│</span>\n",
              "<span style=\"color: #008080; text-decoration-color: #008080\">│</span> <span style=\"color: #808000; text-decoration-color: #808000; font-weight: bold\"> • </span><span style=\"font-weight: bold\">Measurements &amp; Densities</span>: Use the image scale to measure any notable findings.                               <span style=\"color: #008080; text-decoration-color: #008080\">│</span>\n",
              "<span style=\"color: #008080; text-decoration-color: #008080\">│</span> <span style=\"color: #808000; text-decoration-color: #808000; font-weight: bold\"> • </span><span style=\"font-weight: bold\">Severity</span>: Rate any abnormalities as Normal/Mild/Moderate/Severe based on clinical guidelines.                <span style=\"color: #008080; text-decoration-color: #008080\">│</span>\n",
              "<span style=\"color: #008080; text-decoration-color: #008080\">│</span>                                                                                                                 <span style=\"color: #008080; text-decoration-color: #008080\">│</span>\n",
              "<span style=\"color: #008080; text-decoration-color: #008080\">│</span>                                            <span style=\"font-weight: bold\">3. Diagnostic Assessment</span>                                             <span style=\"color: #008080; text-decoration-color: #008080\">│</span>\n",
              "<span style=\"color: #008080; text-decoration-color: #008080\">│</span>                                                                                                                 <span style=\"color: #008080; text-decoration-color: #008080\">│</span>\n",
              "<span style=\"color: #008080; text-decoration-color: #008080\">│</span> <span style=\"color: #808000; text-decoration-color: #808000; font-weight: bold\"> • </span><span style=\"font-weight: bold\">Primary Diagnosis</span>: Without specific findings, a diagnosis cannot be provided. Typically, this would be based <span style=\"color: #008080; text-decoration-color: #008080\">│</span>\n",
              "<span style=\"color: #008080; text-decoration-color: #008080\">│</span> <span style=\"color: #808000; text-decoration-color: #808000; font-weight: bold\">   </span>on the most prominent abnormality.                                                                           <span style=\"color: #008080; text-decoration-color: #008080\">│</span>\n",
              "<span style=\"color: #008080; text-decoration-color: #008080\">│</span> <span style=\"color: #808000; text-decoration-color: #808000; font-weight: bold\"> • </span><span style=\"font-weight: bold\">Differential Diagnoses</span>: List potential conditions that could explain the findings.                           <span style=\"color: #008080; text-decoration-color: #008080\">│</span>\n",
              "<span style=\"color: #008080; text-decoration-color: #008080\">│</span> <span style=\"color: #808000; text-decoration-color: #808000; font-weight: bold\"> • </span><span style=\"font-weight: bold\">Evidence Support</span>: Correlate each diagnosis with observed features.                                           <span style=\"color: #008080; text-decoration-color: #008080\">│</span>\n",
              "<span style=\"color: #008080; text-decoration-color: #008080\">│</span> <span style=\"color: #808000; text-decoration-color: #808000; font-weight: bold\"> • </span><span style=\"font-weight: bold\">Critical Findings</span>: Highlight any findings that require immediate attention.                                  <span style=\"color: #008080; text-decoration-color: #008080\">│</span>\n",
              "<span style=\"color: #008080; text-decoration-color: #008080\">│</span>                                                                                                                 <span style=\"color: #008080; text-decoration-color: #008080\">│</span>\n",
              "<span style=\"color: #008080; text-decoration-color: #008080\">│</span>                                         <span style=\"font-weight: bold\">4. Patient-Friendly Explanation</span>                                         <span style=\"color: #008080; text-decoration-color: #008080\">│</span>\n",
              "<span style=\"color: #008080; text-decoration-color: #008080\">│</span>                                                                                                                 <span style=\"color: #008080; text-decoration-color: #008080\">│</span>\n",
              "<span style=\"color: #008080; text-decoration-color: #008080\">│</span> <span style=\"color: #808000; text-decoration-color: #808000; font-weight: bold\"> • </span><span style=\"font-weight: bold\">Findings Explanation</span>:                                                                                        <span style=\"color: #008080; text-decoration-color: #008080\">│</span>\n",
              "<span style=\"color: #008080; text-decoration-color: #008080\">│</span> <span style=\"color: #808000; text-decoration-color: #808000; font-weight: bold\">    • </span>\"The image shows your [body part] and helps us see the bones and soft tissues clearly.\"                   <span style=\"color: #008080; text-decoration-color: #008080\">│</span>\n",
              "<span style=\"color: #008080; text-decoration-color: #008080\">│</span> <span style=\"color: #808000; text-decoration-color: #808000; font-weight: bold\">    • </span>\"We look for any signs of injury or disease, like breaks in the bone or unusual shadows.\"                 <span style=\"color: #008080; text-decoration-color: #008080\">│</span>\n",
              "<span style=\"color: #008080; text-decoration-color: #008080\">│</span> <span style=\"color: #808000; text-decoration-color: #808000; font-weight: bold\"> • </span><span style=\"font-weight: bold\">Common Concerns</span>:                                                                                             <span style=\"color: #008080; text-decoration-color: #008080\">│</span>\n",
              "<span style=\"color: #008080; text-decoration-color: #008080\">│</span> <span style=\"color: #808000; text-decoration-color: #808000; font-weight: bold\">    • </span>\"If there were any serious issues, we would discuss them immediately and plan the next steps.\"            <span style=\"color: #008080; text-decoration-color: #008080\">│</span>\n",
              "<span style=\"color: #008080; text-decoration-color: #008080\">│</span> <span style=\"color: #808000; text-decoration-color: #808000; font-weight: bold\">    • </span>\"This type of imaging is safe and helps us understand what's happening inside your body.\"                 <span style=\"color: #008080; text-decoration-color: #008080\">│</span>\n",
              "<span style=\"color: #008080; text-decoration-color: #008080\">│</span>                                                                                                                 <span style=\"color: #008080; text-decoration-color: #008080\">│</span>\n",
              "<span style=\"color: #008080; text-decoration-color: #008080\">│</span> If you have access to the image, you can apply this framework to conduct a thorough analysis. If you need       <span style=\"color: #008080; text-decoration-color: #008080\">│</span>\n",
              "<span style=\"color: #008080; text-decoration-color: #008080\">│</span> further assistance with specific findings, please provide more details or context.                              <span style=\"color: #008080; text-decoration-color: #008080\">│</span>\n",
              "<span style=\"color: #008080; text-decoration-color: #008080\">╰─────────────────────────────────────────────────────────────────────────────────────────────────────────────────╯</span>\n",
              "</pre>\n"
            ],
            "text/plain": [
              "\u001b[36m╭─\u001b[0m\u001b[36m──────────────────────────────────────────────────\u001b[0m\u001b[36m Response \u001b[0m\u001b[36m───────────────────────────────────────────────────\u001b[0m\u001b[36m─╮\u001b[0m\n",
              "\u001b[36m│\u001b[0m I'm unable to view or analyze images directly. However, I can guide you on how to analyze a medical image based \u001b[36m│\u001b[0m\n",
              "\u001b[36m│\u001b[0m on the provided statistics and typical analysis procedures. Here's how you might structure your analysis:       \u001b[36m│\u001b[0m\n",
              "\u001b[36m│\u001b[0m                                                                                                                 \u001b[36m│\u001b[0m\n",
              "\u001b[36m│\u001b[0m                                             \u001b[1m1. Image Type & Region\u001b[0m                                              \u001b[36m│\u001b[0m\n",
              "\u001b[36m│\u001b[0m                                                                                                                 \u001b[36m│\u001b[0m\n",
              "\u001b[36m│\u001b[0m \u001b[1;33m • \u001b[0m\u001b[1mImaging Modality\u001b[0m: Based on the pixel value range (0 to 255), this image is likely a grayscale image, which   \u001b[36m│\u001b[0m\n",
              "\u001b[36m│\u001b[0m \u001b[1;33m   \u001b[0mis common in modalities like X-ray or CT.                                                                    \u001b[36m│\u001b[0m\n",
              "\u001b[36m│\u001b[0m \u001b[1;33m • \u001b[0m\u001b[1mAnatomical Region & Positioning\u001b[0m: Without visual input, I cannot specify the region. Typically, this would    \u001b[36m│\u001b[0m\n",
              "\u001b[36m│\u001b[0m \u001b[1;33m   \u001b[0minvolve identifying the body part and the view (e.g., AP, lateral).                                          \u001b[36m│\u001b[0m\n",
              "\u001b[36m│\u001b[0m \u001b[1;33m • \u001b[0m\u001b[1mImage Quality & Technical Adequacy\u001b[0m:                                                                          \u001b[36m│\u001b[0m\n",
              "\u001b[36m│\u001b[0m \u001b[1;33m   \u001b[0m\u001b[1;33m • \u001b[0mThe mean pixel value of 132.27 suggests a mid-range brightness, which is typical for well-exposed images. \u001b[36m│\u001b[0m\n",
              "\u001b[36m│\u001b[0m \u001b[1;33m   \u001b[0m\u001b[1;33m • \u001b[0mThe standard deviation of 41.52 indicates moderate contrast, which should be sufficient for identifying   \u001b[36m│\u001b[0m\n",
              "\u001b[36m│\u001b[0m \u001b[1;33m   \u001b[0m\u001b[1;33m   \u001b[0mstructures.                                                                                               \u001b[36m│\u001b[0m\n",
              "\u001b[36m│\u001b[0m \u001b[1;33m   \u001b[0m\u001b[1;33m • \u001b[0mEnsure the image is free from artifacts and is properly centered and aligned.                             \u001b[36m│\u001b[0m\n",
              "\u001b[36m│\u001b[0m                                                                                                                 \u001b[36m│\u001b[0m\n",
              "\u001b[36m│\u001b[0m                                                 \u001b[1m2. Key Findings\u001b[0m                                                 \u001b[36m│\u001b[0m\n",
              "\u001b[36m│\u001b[0m                                                                                                                 \u001b[36m│\u001b[0m\n",
              "\u001b[36m│\u001b[0m \u001b[1;33m • \u001b[0m\u001b[1mPrimary Observations\u001b[0m: Without visual input, specific findings cannot be listed. Generally, look for:         \u001b[36m│\u001b[0m\n",
              "\u001b[36m│\u001b[0m \u001b[1;33m   \u001b[0m\u001b[1;33m • \u001b[0mBone alignment and integrity                                                                              \u001b[36m│\u001b[0m\n",
              "\u001b[36m│\u001b[0m \u001b[1;33m   \u001b[0m\u001b[1;33m • \u001b[0mSoft tissue outlines                                                                                      \u001b[36m│\u001b[0m\n",
              "\u001b[36m│\u001b[0m \u001b[1;33m   \u001b[0m\u001b[1;33m • \u001b[0mPresence of any foreign bodies or masses                                                                  \u001b[36m│\u001b[0m\n",
              "\u001b[36m│\u001b[0m \u001b[1;33m • \u001b[0m\u001b[1mAbnormalities\u001b[0m: Describe any visible lesions, fractures, or unusual densities.                                \u001b[36m│\u001b[0m\n",
              "\u001b[36m│\u001b[0m \u001b[1;33m • \u001b[0m\u001b[1mMeasurements & Densities\u001b[0m: Use the image scale to measure any notable findings.                               \u001b[36m│\u001b[0m\n",
              "\u001b[36m│\u001b[0m \u001b[1;33m • \u001b[0m\u001b[1mSeverity\u001b[0m: Rate any abnormalities as Normal/Mild/Moderate/Severe based on clinical guidelines.                \u001b[36m│\u001b[0m\n",
              "\u001b[36m│\u001b[0m                                                                                                                 \u001b[36m│\u001b[0m\n",
              "\u001b[36m│\u001b[0m                                            \u001b[1m3. Diagnostic Assessment\u001b[0m                                             \u001b[36m│\u001b[0m\n",
              "\u001b[36m│\u001b[0m                                                                                                                 \u001b[36m│\u001b[0m\n",
              "\u001b[36m│\u001b[0m \u001b[1;33m • \u001b[0m\u001b[1mPrimary Diagnosis\u001b[0m: Without specific findings, a diagnosis cannot be provided. Typically, this would be based \u001b[36m│\u001b[0m\n",
              "\u001b[36m│\u001b[0m \u001b[1;33m   \u001b[0mon the most prominent abnormality.                                                                           \u001b[36m│\u001b[0m\n",
              "\u001b[36m│\u001b[0m \u001b[1;33m • \u001b[0m\u001b[1mDifferential Diagnoses\u001b[0m: List potential conditions that could explain the findings.                           \u001b[36m│\u001b[0m\n",
              "\u001b[36m│\u001b[0m \u001b[1;33m • \u001b[0m\u001b[1mEvidence Support\u001b[0m: Correlate each diagnosis with observed features.                                           \u001b[36m│\u001b[0m\n",
              "\u001b[36m│\u001b[0m \u001b[1;33m • \u001b[0m\u001b[1mCritical Findings\u001b[0m: Highlight any findings that require immediate attention.                                  \u001b[36m│\u001b[0m\n",
              "\u001b[36m│\u001b[0m                                                                                                                 \u001b[36m│\u001b[0m\n",
              "\u001b[36m│\u001b[0m                                         \u001b[1m4. Patient-Friendly Explanation\u001b[0m                                         \u001b[36m│\u001b[0m\n",
              "\u001b[36m│\u001b[0m                                                                                                                 \u001b[36m│\u001b[0m\n",
              "\u001b[36m│\u001b[0m \u001b[1;33m • \u001b[0m\u001b[1mFindings Explanation\u001b[0m:                                                                                        \u001b[36m│\u001b[0m\n",
              "\u001b[36m│\u001b[0m \u001b[1;33m   \u001b[0m\u001b[1;33m • \u001b[0m\"The image shows your [body part] and helps us see the bones and soft tissues clearly.\"                   \u001b[36m│\u001b[0m\n",
              "\u001b[36m│\u001b[0m \u001b[1;33m   \u001b[0m\u001b[1;33m • \u001b[0m\"We look for any signs of injury or disease, like breaks in the bone or unusual shadows.\"                 \u001b[36m│\u001b[0m\n",
              "\u001b[36m│\u001b[0m \u001b[1;33m • \u001b[0m\u001b[1mCommon Concerns\u001b[0m:                                                                                             \u001b[36m│\u001b[0m\n",
              "\u001b[36m│\u001b[0m \u001b[1;33m   \u001b[0m\u001b[1;33m • \u001b[0m\"If there were any serious issues, we would discuss them immediately and plan the next steps.\"            \u001b[36m│\u001b[0m\n",
              "\u001b[36m│\u001b[0m \u001b[1;33m   \u001b[0m\u001b[1;33m • \u001b[0m\"This type of imaging is safe and helps us understand what's happening inside your body.\"                 \u001b[36m│\u001b[0m\n",
              "\u001b[36m│\u001b[0m                                                                                                                 \u001b[36m│\u001b[0m\n",
              "\u001b[36m│\u001b[0m If you have access to the image, you can apply this framework to conduct a thorough analysis. If you need       \u001b[36m│\u001b[0m\n",
              "\u001b[36m│\u001b[0m further assistance with specific findings, please provide more details or context.                              \u001b[36m│\u001b[0m\n",
              "\u001b[36m╰─────────────────────────────────────────────────────────────────────────────────────────────────────────────────╯\u001b[0m\n"
            ]
          },
          "metadata": {},
          "output_type": "display_data"
        },
        {
          "name": "stdout",
          "output_type": "stream",
          "text": [
            "\n",
            "=== Analysis Results ===\n",
            "\n",
            "I'm unable to view or analyze images directly. However, I can guide you on how to analyze a medical image based on the provided statistics and typical analysis procedures. Here's how you might structure your analysis:\n",
            "\n",
            "### 1. Image Type & Region\n",
            "- **Imaging Modality**: Based on the pixel value range (0 to 255), this image is likely a grayscale image, which is common in modalities like X-ray or CT.\n",
            "- **Anatomical Region & Positioning**: Without visual input, I cannot specify the region. Typically, this would involve identifying the body part and the view (e.g., AP, lateral).\n",
            "- **Image Quality & Technical Adequacy**: \n",
            "  - The mean pixel value of 132.27 suggests a mid-range brightness, which is typical for well-exposed images.\n",
            "  - The standard deviation of 41.52 indicates moderate contrast, which should be sufficient for identifying structures.\n",
            "  - Ensure the image is free from artifacts and is properly centered and aligned.\n",
            "\n",
            "### 2. Key Findings\n",
            "- **Primary Observations**: Without visual input, specific findings cannot be listed. Generally, look for:\n",
            "  - Bone alignment and integrity\n",
            "  - Soft tissue outlines\n",
            "  - Presence of any foreign bodies or masses\n",
            "- **Abnormalities**: Describe any visible lesions, fractures, or unusual densities.\n",
            "- **Measurements & Densities**: Use the image scale to measure any notable findings.\n",
            "- **Severity**: Rate any abnormalities as Normal/Mild/Moderate/Severe based on clinical guidelines.\n",
            "\n",
            "### 3. Diagnostic Assessment\n",
            "- **Primary Diagnosis**: Without specific findings, a diagnosis cannot be provided. Typically, this would be based on the most prominent abnormality.\n",
            "- **Differential Diagnoses**: List potential conditions that could explain the findings.\n",
            "- **Evidence Support**: Correlate each diagnosis with observed features.\n",
            "- **Critical Findings**: Highlight any findings that require immediate attention.\n",
            "\n",
            "### 4. Patient-Friendly Explanation\n",
            "- **Findings Explanation**: \n",
            "  - \"The image shows your [body part] and helps us see the bones and soft tissues clearly.\"\n",
            "  - \"We look for any signs of injury or disease, like breaks in the bone or unusual shadows.\"\n",
            "- **Common Concerns**: \n",
            "  - \"If there were any serious issues, we would discuss them immediately and plan the next steps.\"\n",
            "  - \"This type of imaging is safe and helps us understand what's happening inside your body.\"\n",
            "\n",
            "If you have access to the image, you can apply this framework to conduct a thorough analysis. If you need further assistance with specific findings, please provide more details or context.\n"
          ]
        }
      ],
      "source": [
        "from praisonaiagents.agent import Agent\n",
        "from PIL import Image\n",
        "import numpy as np\n",
        "\n",
        "def image_basic_stats(image_path):\n",
        "    img = Image.open(image_path).convert(\"L\")\n",
        "    arr = np.array(img)\n",
        "    return {\n",
        "        \"mean_pixel_value\": float(np.mean(arr)),\n",
        "        \"std_pixel_value\": float(np.std(arr)),\n",
        "        \"min_pixel_value\": int(np.min(arr)),\n",
        "        \"max_pixel_value\": int(np.max(arr)),\n",
        "        \"image_shape\": arr.shape\n",
        "    }\n",
        "\n",
        "stats = image_basic_stats(image_path)\n",
        "print(\"Image basic stats:\", stats)\n",
        "\n",
        "prompt = f\"\"\"\n",
        "You are a highly skilled medical imaging expert with extensive knowledge in radiology and diagnostic imaging.\n",
        "Analyze the uploaded medical image and structure your response as follows:\n",
        "\n",
        "### 1. Image Type & Region\n",
        "- Specify imaging modality (X-ray/MRI/CT/Ultrasound/etc.)\n",
        "- Identify the patient's anatomical region and positioning\n",
        "- Comment on image quality and technical adequacy\n",
        "\n",
        "### 2. Key Findings\n",
        "- List primary observations systematically\n",
        "- Note any abnormalities with precise descriptions\n",
        "- Include measurements and densities where relevant\n",
        "- Describe location, size, shape, and characteristics\n",
        "- Rate severity: Normal/Mild/Moderate/Severe\n",
        "\n",
        "### 3. Diagnostic Assessment\n",
        "- Provide primary diagnosis with confidence level\n",
        "- List differential diagnoses in order of likelihood\n",
        "- Support each diagnosis with observed evidence\n",
        "- Note any critical or urgent findings\n",
        "\n",
        "### 4. Patient-Friendly Explanation\n",
        "- Explain the findings in simple, clear language\n",
        "- Avoid medical jargon or provide clear definitions\n",
        "- Include visual analogies if helpful\n",
        "- Address common patient concerns\n",
        "\n",
        "#### Image Basic Stats\n",
        "- Mean pixel value: {stats['mean_pixel_value']}\n",
        "- Std pixel value: {stats['std_pixel_value']}\n",
        "- Min pixel value: {stats['min_pixel_value']}\n",
        "- Max pixel value: {stats['max_pixel_value']}\n",
        "- Image shape: {stats['image_shape']}\n",
        "\n",
        "Format your response using clear markdown headers and bullet points. Be concise yet thorough.\n",
        "\"\"\"\n",
        "\n",
        "agent = Agent(\n",
        "    name=\"Medical Imaging Diagnosis Agent\",\n",
        "    role=\"Expert in medical image analysis and reporting\",\n",
        "    instructions=[],  # Leave instructions empty, since prompt is passed at runtime\n",
        "    tools=[],\n",
        "    verbose=True\n",
        ")\n",
        "\n",
        "# Pass the prompt as an argument to start()\n",
        "response = agent.start(prompt)\n",
        "print(\"\\n=== Analysis Results ===\\n\")\n",
        "print(response)"
      ]
    }
  ],
  "metadata": {
    "colab": {
      "provenance": []
    },
    "kernelspec": {
      "display_name": "Python 3",
      "name": "python3"
    },
    "language_info": {
      "name": "python"
    }
  },
  "nbformat": 4,
  "nbformat_minor": 0
}