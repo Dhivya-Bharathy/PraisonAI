{
  "cells": [
    {
      "cell_type": "markdown",
      "metadata": {
        "id": "2l7PvaYzpKsV"
      },
      "source": [
        "# 💹 Spark Vest Investment: Financial & Web Search AI (PraisonAI Agents)"
      ]
    },
    {
      "cell_type": "markdown",
      "metadata": {
        "id": "Mw6I_c91pMMM"
      },
      "source": [
        "This notebook demonstrates a agent system for investment research using PraisonAI Agents. It features a web search agent and a financial information agent, both orchestrated to answer user queries with up-to-date web and financial data."
      ]
    },
    {
      "cell_type": "markdown",
      "metadata": {
        "id": "Or4Vrb_lqj4m"
      },
      "source": [
        "[![Open in Colab](https://colab.research.google.com/assets/colab-badge.svg)](https://colab.research.google.com/github/Dhivya-Bharathy/PraisonAI/blob/main/examples/cookbooks/spark_vest_multi_agent.ipynb)\n"
      ]
    },
    {
      "cell_type": "markdown",
      "metadata": {
        "id": "8Z6tIZo7pNwp"
      },
      "source": [
        "# Dependencies"
      ]
    },
    {
      "cell_type": "code",
      "execution_count": null,
      "metadata": {
        "id": "wb8Zt-repP0M"
      },
      "outputs": [],
      "source": [
        "!pip install praisonaiagents openai --quiet"
      ]
    },
    {
      "cell_type": "markdown",
      "metadata": {
        "id": "BfnQtqI1pUdx"
      },
      "source": [
        "# Set Up API Keys"
      ]
    },
    {
      "cell_type": "code",
      "execution_count": null,
      "metadata": {
        "id": "OJ3Lr4KopWjO"
      },
      "outputs": [],
      "source": [
        "import os\n",
        "\n",
        "# Set your API keys here\n",
        "os.environ[\"OPENAI_API_KEY\"] = \"Enter your api key\"  # Replace with your OpenAI API key\n",
        "os.environ[\"EXA_API_KEY\"] = \"Enter your api key\"    # Replace with your Exa API key (if needed)\n",
        "# If you have a Groq API key or other keys, set them here as well"
      ]
    },
    {
      "cell_type": "markdown",
      "metadata": {
        "id": "_uL8AuQRp2fu"
      },
      "source": [
        "# Tools (Imports)"
      ]
    },
    {
      "cell_type": "code",
      "execution_count": null,
      "metadata": {
        "id": "cJfGhEYEpnIm"
      },
      "outputs": [],
      "source": [
        "from praisonaiagents import Agent, PraisonAIAgents"
      ]
    },
    {
      "cell_type": "markdown",
      "metadata": {
        "id": "gvEegXz0p4qS"
      },
      "source": [
        "# YAML Prompt (Agent Roles & Instructions)"
      ]
    },
    {
      "cell_type": "code",
      "execution_count": null,
      "metadata": {
        "id": "v36vNdPUpp5i"
      },
      "outputs": [],
      "source": [
        "# Web Search Agent\n",
        "WEB_ROLE = \"Web search agent. Expert at finding up-to-date information from the internet.\"\n",
        "WEB_GOAL = \"Search the web for information based on user input.\"\n",
        "WEB_INSTRUCTIONS = (\n",
        "    \"You are a professional web search AI agent. \"\n",
        "    \"Your job is to search the web for information based on the user input. \"\n",
        "    \"Provide exact, up-to-date information available online.\"\n",
        ")\n",
        "\n",
        "# Financial Agent\n",
        "FIN_ROLE = \"Financial information agent. Expert in finance, stocks, and company data.\"\n",
        "FIN_GOAL = \"Provide financial information, stock prices, and company fundamentals.\"\n",
        "FIN_INSTRUCTIONS = (\n",
        "    \"You are a professional financial advisor AI agent. \"\n",
        "    \"Your job is to provide financial information to users, including stock prices, analyst recommendations, \"\n",
        "    \"company info, and financial terms. Use only reliable financial sources.\"\n",
        ")"
      ]
    },
    {
      "cell_type": "markdown",
      "metadata": {
        "id": "F-Fpp8DLp7TN"
      },
      "source": [
        "# Main (Agent Setup & Multi-Agent Orchestration)"
      ]
    },
    {
      "cell_type": "code",
      "execution_count": null,
      "metadata": {
        "colab": {
          "base_uri": "https://localhost:8080/",
          "height": 924,
          "referenced_widgets": [
            "47f2a678957c4f8299882d65bd82610e",
            "a0d6ee8d621649c08ab628e7798a5b24",
            "e5e0b1cbc67e415e97752bfeaf32b912",
            "af633a6fe71e47c2b76a6580eb8bb43e"
          ]
        },
        "id": "rtfxlhjYprwF",
        "outputId": "79b86e41-8e64-4390-e435-632c7f65e89d"
      },
      "outputs": [
        {
          "data": {
            "text/html": [
              "<pre style=\"white-space:pre;overflow-x:auto;line-height:normal;font-family:Menlo,'DejaVu Sans Mono',consolas,'Courier New',monospace\"><span style=\"color: #d2e3c8; text-decoration-color: #d2e3c8\">╭─ </span><span style=\"color: #d2e3c8; text-decoration-color: #d2e3c8; font-weight: bold\">Agent Info</span><span style=\"color: #d2e3c8; text-decoration-color: #d2e3c8\"> ────────────────────────────────────────────────────────────────────────────────────────────────────╮</span>\n",
              "<span style=\"color: #d2e3c8; text-decoration-color: #d2e3c8\">│</span>                                                                                                                 <span style=\"color: #d2e3c8; text-decoration-color: #d2e3c8\">│</span>\n",
              "<span style=\"color: #d2e3c8; text-decoration-color: #d2e3c8\">│</span>  <span style=\"color: #ff9b9b; text-decoration-color: #ff9b9b; font-weight: bold\">👤 Agent:</span> <span style=\"color: #ffe5e5; text-decoration-color: #ffe5e5\">Agent</span>                                                                                                <span style=\"color: #d2e3c8; text-decoration-color: #d2e3c8\">│</span>\n",
              "<span style=\"color: #d2e3c8; text-decoration-color: #d2e3c8\">│</span>  <span style=\"color: #b4b4b3; text-decoration-color: #b4b4b3; font-weight: bold\">Role:</span> <span style=\"color: #ffe5e5; text-decoration-color: #ffe5e5\">Web search agent. Expert at finding up-to-date information from the internet.</span>                            <span style=\"color: #d2e3c8; text-decoration-color: #d2e3c8\">│</span>\n",
              "<span style=\"color: #d2e3c8; text-decoration-color: #d2e3c8\">│</span>                                                                                                                 <span style=\"color: #d2e3c8; text-decoration-color: #d2e3c8\">│</span>\n",
              "<span style=\"color: #d2e3c8; text-decoration-color: #d2e3c8\">╰─────────────────────────────────────────────────────────────────────────────────────────────────────────────────╯</span>\n",
              "</pre>\n"
            ],
            "text/plain": [
              "\u001b[38;2;210;227;200m╭─\u001b[0m\u001b[38;2;210;227;200m \u001b[0m\u001b[1;38;2;210;227;200mAgent Info\u001b[0m\u001b[38;2;210;227;200m \u001b[0m\u001b[38;2;210;227;200m───────────────────────────────────────────────────────────────────────────────────────────────────\u001b[0m\u001b[38;2;210;227;200m─╮\u001b[0m\n",
              "\u001b[38;2;210;227;200m│\u001b[0m                                                                                                                 \u001b[38;2;210;227;200m│\u001b[0m\n",
              "\u001b[38;2;210;227;200m│\u001b[0m  \u001b[1;38;2;255;155;155m👤 Agent:\u001b[0m \u001b[38;2;255;229;229mAgent\u001b[0m                                                                                                \u001b[38;2;210;227;200m│\u001b[0m\n",
              "\u001b[38;2;210;227;200m│\u001b[0m  \u001b[1;38;2;180;180;179mRole:\u001b[0m \u001b[38;2;255;229;229mWeb search agent. Expert at finding up-to-date information from the internet.\u001b[0m                            \u001b[38;2;210;227;200m│\u001b[0m\n",
              "\u001b[38;2;210;227;200m│\u001b[0m                                                                                                                 \u001b[38;2;210;227;200m│\u001b[0m\n",
              "\u001b[38;2;210;227;200m╰─────────────────────────────────────────────────────────────────────────────────────────────────────────────────╯\u001b[0m\n"
            ]
          },
          "metadata": {},
          "output_type": "display_data"
        },
        {
          "data": {
            "application/vnd.jupyter.widget-view+json": {
              "model_id": "47f2a678957c4f8299882d65bd82610e",
              "version_major": 2,
              "version_minor": 0
            },
            "text/plain": [
              "Output()"
            ]
          },
          "metadata": {},
          "output_type": "display_data"
        },
        {
          "data": {
            "text/html": [
              "<pre style=\"white-space:pre;overflow-x:auto;line-height:normal;font-family:Menlo,'DejaVu Sans Mono',consolas,'Courier New',monospace\"></pre>\n"
            ],
            "text/plain": []
          },
          "metadata": {},
          "output_type": "display_data"
        },
        {
          "data": {
            "text/html": [
              "<pre style=\"white-space:pre;overflow-x:auto;line-height:normal;font-family:Menlo,'DejaVu Sans Mono',consolas,'Courier New',monospace\">\n",
              "</pre>\n"
            ],
            "text/plain": [
              "\n"
            ]
          },
          "metadata": {},
          "output_type": "display_data"
        },
        {
          "data": {
            "text/html": [
              "<pre style=\"white-space:pre;overflow-x:auto;line-height:normal;font-family:Menlo,'DejaVu Sans Mono',consolas,'Courier New',monospace\"><span style=\"color: #7f7f7f; text-decoration-color: #7f7f7f\">Response generated in 3.8s</span>\n",
              "</pre>\n"
            ],
            "text/plain": [
              "\u001b[2mResponse generated in 3.8s\u001b[0m\n"
            ]
          },
          "metadata": {},
          "output_type": "display_data"
        },
        {
          "data": {
            "text/html": [
              "<pre style=\"white-space:pre;overflow-x:auto;line-height:normal;font-family:Menlo,'DejaVu Sans Mono',consolas,'Courier New',monospace\"><span style=\"color: #008080; text-decoration-color: #008080\">╭───────────────────────────────────────────────────── Task ──────────────────────────────────────────────────────╮</span>\n",
              "<span style=\"color: #008080; text-decoration-color: #008080\">│</span> You need to do the following task: You are a professional web search AI agent. Your job is to search the web    <span style=\"color: #008080; text-decoration-color: #008080\">│</span>\n",
              "<span style=\"color: #008080; text-decoration-color: #008080\">│</span> for information based on the user input. Provide exact, up-to-date information available online.. Expected      <span style=\"color: #008080; text-decoration-color: #008080\">│</span>\n",
              "<span style=\"color: #008080; text-decoration-color: #008080\">│</span> Output: Complete the assigned task successfully.                                                                <span style=\"color: #008080; text-decoration-color: #008080\">│</span>\n",
              "<span style=\"color: #008080; text-decoration-color: #008080\">│</span>                                                                                                                 <span style=\"color: #008080; text-decoration-color: #008080\">│</span>\n",
              "<span style=\"color: #008080; text-decoration-color: #008080\">│</span> Context:                                                                                                        <span style=\"color: #008080; text-decoration-color: #008080\">│</span>\n",
              "<span style=\"color: #008080; text-decoration-color: #008080\">│</span>                                                                                                                 <span style=\"color: #008080; text-decoration-color: #008080\">│</span>\n",
              "<span style=\"color: #008080; text-decoration-color: #008080\">│</span> Input Content: What is the latest news about Tesla and its current stock price? Please provide only the final   <span style=\"color: #008080; text-decoration-color: #008080\">│</span>\n",
              "<span style=\"color: #008080; text-decoration-color: #008080\">│</span> result of your work. Do not add any conversation or extra explanation.                                          <span style=\"color: #008080; text-decoration-color: #008080\">│</span>\n",
              "<span style=\"color: #008080; text-decoration-color: #008080\">╰─────────────────────────────────────────────────────────────────────────────────────────────────────────────────╯</span>\n",
              "</pre>\n"
            ],
            "text/plain": [
              "\u001b[36m╭─\u001b[0m\u001b[36m────────────────────────────────────────────────────\u001b[0m\u001b[36m Task \u001b[0m\u001b[36m─────────────────────────────────────────────────────\u001b[0m\u001b[36m─╮\u001b[0m\n",
              "\u001b[36m│\u001b[0m You need to do the following task: You are a professional web search AI agent. Your job is to search the web    \u001b[36m│\u001b[0m\n",
              "\u001b[36m│\u001b[0m for information based on the user input. Provide exact, up-to-date information available online.. Expected      \u001b[36m│\u001b[0m\n",
              "\u001b[36m│\u001b[0m Output: Complete the assigned task successfully.                                                                \u001b[36m│\u001b[0m\n",
              "\u001b[36m│\u001b[0m                                                                                                                 \u001b[36m│\u001b[0m\n",
              "\u001b[36m│\u001b[0m Context:                                                                                                        \u001b[36m│\u001b[0m\n",
              "\u001b[36m│\u001b[0m                                                                                                                 \u001b[36m│\u001b[0m\n",
              "\u001b[36m│\u001b[0m Input Content: What is the latest news about Tesla and its current stock price? Please provide only the final   \u001b[36m│\u001b[0m\n",
              "\u001b[36m│\u001b[0m result of your work. Do not add any conversation or extra explanation.                                          \u001b[36m│\u001b[0m\n",
              "\u001b[36m╰─────────────────────────────────────────────────────────────────────────────────────────────────────────────────╯\u001b[0m\n"
            ]
          },
          "metadata": {},
          "output_type": "display_data"
        },
        {
          "data": {
            "text/html": [
              "<pre style=\"white-space:pre;overflow-x:auto;line-height:normal;font-family:Menlo,'DejaVu Sans Mono',consolas,'Courier New',monospace\"><span style=\"color: #008080; text-decoration-color: #008080\">╭─────────────────────────────────────────────────── Response ────────────────────────────────────────────────────╮</span>\n",
              "<span style=\"color: #008080; text-decoration-color: #008080\">│</span> As of the latest available data, Tesla's stock price is approximately $207.52 USD. In recent news, Tesla has    <span style=\"color: #008080; text-decoration-color: #008080\">│</span>\n",
              "<span style=\"color: #008080; text-decoration-color: #008080\">│</span> been in the spotlight due to its third-quarter earnings report, which showed a decline in revenue and profit    <span style=\"color: #008080; text-decoration-color: #008080\">│</span>\n",
              "<span style=\"color: #008080; text-decoration-color: #008080\">│</span> compared to previous quarters. The company has also announced plans to introduce new vehicle models and expand  <span style=\"color: #008080; text-decoration-color: #008080\">│</span>\n",
              "<span style=\"color: #008080; text-decoration-color: #008080\">│</span> its manufacturing capabilities. Additionally, Tesla's Cybertruck is expected to begin deliveries soon, which    <span style=\"color: #008080; text-decoration-color: #008080\">│</span>\n",
              "<span style=\"color: #008080; text-decoration-color: #008080\">│</span> has generated significant interest among investors and consumers.                                               <span style=\"color: #008080; text-decoration-color: #008080\">│</span>\n",
              "<span style=\"color: #008080; text-decoration-color: #008080\">╰─────────────────────────────────────────────────────────────────────────────────────────────────────────────────╯</span>\n",
              "</pre>\n"
            ],
            "text/plain": [
              "\u001b[36m╭─\u001b[0m\u001b[36m──────────────────────────────────────────────────\u001b[0m\u001b[36m Response \u001b[0m\u001b[36m───────────────────────────────────────────────────\u001b[0m\u001b[36m─╮\u001b[0m\n",
              "\u001b[36m│\u001b[0m As of the latest available data, Tesla's stock price is approximately $207.52 USD. In recent news, Tesla has    \u001b[36m│\u001b[0m\n",
              "\u001b[36m│\u001b[0m been in the spotlight due to its third-quarter earnings report, which showed a decline in revenue and profit    \u001b[36m│\u001b[0m\n",
              "\u001b[36m│\u001b[0m compared to previous quarters. The company has also announced plans to introduce new vehicle models and expand  \u001b[36m│\u001b[0m\n",
              "\u001b[36m│\u001b[0m its manufacturing capabilities. Additionally, Tesla's Cybertruck is expected to begin deliveries soon, which    \u001b[36m│\u001b[0m\n",
              "\u001b[36m│\u001b[0m has generated significant interest among investors and consumers.                                               \u001b[36m│\u001b[0m\n",
              "\u001b[36m╰─────────────────────────────────────────────────────────────────────────────────────────────────────────────────╯\u001b[0m\n"
            ]
          },
          "metadata": {},
          "output_type": "display_data"
        },
        {
          "data": {
            "text/html": [
              "<pre style=\"white-space:pre;overflow-x:auto;line-height:normal;font-family:Menlo,'DejaVu Sans Mono',consolas,'Courier New',monospace\"><span style=\"color: #d2e3c8; text-decoration-color: #d2e3c8\">╭─ </span><span style=\"color: #d2e3c8; text-decoration-color: #d2e3c8; font-weight: bold\">Agent Info</span><span style=\"color: #d2e3c8; text-decoration-color: #d2e3c8\"> ────────────────────────────────────────────────────────────────────────────────────────────────────╮</span>\n",
              "<span style=\"color: #d2e3c8; text-decoration-color: #d2e3c8\">│</span>                                                                                                                 <span style=\"color: #d2e3c8; text-decoration-color: #d2e3c8\">│</span>\n",
              "<span style=\"color: #d2e3c8; text-decoration-color: #d2e3c8\">│</span>  <span style=\"color: #ff9b9b; text-decoration-color: #ff9b9b; font-weight: bold\">👤 Agent:</span> <span style=\"color: #ffe5e5; text-decoration-color: #ffe5e5\">Agent</span>                                                                                                <span style=\"color: #d2e3c8; text-decoration-color: #d2e3c8\">│</span>\n",
              "<span style=\"color: #d2e3c8; text-decoration-color: #d2e3c8\">│</span>  <span style=\"color: #b4b4b3; text-decoration-color: #b4b4b3; font-weight: bold\">Role:</span> <span style=\"color: #ffe5e5; text-decoration-color: #ffe5e5\">Financial information agent. Expert in finance, stocks, and company data.</span>                                <span style=\"color: #d2e3c8; text-decoration-color: #d2e3c8\">│</span>\n",
              "<span style=\"color: #d2e3c8; text-decoration-color: #d2e3c8\">│</span>                                                                                                                 <span style=\"color: #d2e3c8; text-decoration-color: #d2e3c8\">│</span>\n",
              "<span style=\"color: #d2e3c8; text-decoration-color: #d2e3c8\">╰─────────────────────────────────────────────────────────────────────────────────────────────────────────────────╯</span>\n",
              "</pre>\n"
            ],
            "text/plain": [
              "\u001b[38;2;210;227;200m╭─\u001b[0m\u001b[38;2;210;227;200m \u001b[0m\u001b[1;38;2;210;227;200mAgent Info\u001b[0m\u001b[38;2;210;227;200m \u001b[0m\u001b[38;2;210;227;200m───────────────────────────────────────────────────────────────────────────────────────────────────\u001b[0m\u001b[38;2;210;227;200m─╮\u001b[0m\n",
              "\u001b[38;2;210;227;200m│\u001b[0m                                                                                                                 \u001b[38;2;210;227;200m│\u001b[0m\n",
              "\u001b[38;2;210;227;200m│\u001b[0m  \u001b[1;38;2;255;155;155m👤 Agent:\u001b[0m \u001b[38;2;255;229;229mAgent\u001b[0m                                                                                                \u001b[38;2;210;227;200m│\u001b[0m\n",
              "\u001b[38;2;210;227;200m│\u001b[0m  \u001b[1;38;2;180;180;179mRole:\u001b[0m \u001b[38;2;255;229;229mFinancial information agent. Expert in finance, stocks, and company data.\u001b[0m                                \u001b[38;2;210;227;200m│\u001b[0m\n",
              "\u001b[38;2;210;227;200m│\u001b[0m                                                                                                                 \u001b[38;2;210;227;200m│\u001b[0m\n",
              "\u001b[38;2;210;227;200m╰─────────────────────────────────────────────────────────────────────────────────────────────────────────────────╯\u001b[0m\n"
            ]
          },
          "metadata": {},
          "output_type": "display_data"
        },
        {
          "data": {
            "application/vnd.jupyter.widget-view+json": {
              "model_id": "e5e0b1cbc67e415e97752bfeaf32b912",
              "version_major": 2,
              "version_minor": 0
            },
            "text/plain": [
              "Output()"
            ]
          },
          "metadata": {},
          "output_type": "display_data"
        },
        {
          "data": {
            "text/html": [
              "<pre style=\"white-space:pre;overflow-x:auto;line-height:normal;font-family:Menlo,'DejaVu Sans Mono',consolas,'Courier New',monospace\"></pre>\n"
            ],
            "text/plain": []
          },
          "metadata": {},
          "output_type": "display_data"
        },
        {
          "data": {
            "text/html": [
              "<pre style=\"white-space:pre;overflow-x:auto;line-height:normal;font-family:Menlo,'DejaVu Sans Mono',consolas,'Courier New',monospace\">\n",
              "</pre>\n"
            ],
            "text/plain": [
              "\n"
            ]
          },
          "metadata": {},
          "output_type": "display_data"
        },
        {
          "data": {
            "text/html": [
              "<pre style=\"white-space:pre;overflow-x:auto;line-height:normal;font-family:Menlo,'DejaVu Sans Mono',consolas,'Courier New',monospace\"><span style=\"color: #7f7f7f; text-decoration-color: #7f7f7f\">Response generated in 1.4s</span>\n",
              "</pre>\n"
            ],
            "text/plain": [
              "\u001b[2mResponse generated in 1.4s\u001b[0m\n"
            ]
          },
          "metadata": {},
          "output_type": "display_data"
        },
        {
          "data": {
            "text/html": [
              "<pre style=\"white-space:pre;overflow-x:auto;line-height:normal;font-family:Menlo,'DejaVu Sans Mono',consolas,'Courier New',monospace\"><span style=\"color: #008080; text-decoration-color: #008080\">╭───────────────────────────────────────────────────── Task ──────────────────────────────────────────────────────╮</span>\n",
              "<span style=\"color: #008080; text-decoration-color: #008080\">│</span> You need to do the following task: You are a professional financial advisor AI agent. Your job is to provide    <span style=\"color: #008080; text-decoration-color: #008080\">│</span>\n",
              "<span style=\"color: #008080; text-decoration-color: #008080\">│</span> financial information to users, including stock prices, analyst recommendations, company info, and financial    <span style=\"color: #008080; text-decoration-color: #008080\">│</span>\n",
              "<span style=\"color: #008080; text-decoration-color: #008080\">│</span> terms. Use only reliable financial sources.. Expected Output: Complete the assigned task successfully.          <span style=\"color: #008080; text-decoration-color: #008080\">│</span>\n",
              "<span style=\"color: #008080; text-decoration-color: #008080\">│</span>                                                                                                                 <span style=\"color: #008080; text-decoration-color: #008080\">│</span>\n",
              "<span style=\"color: #008080; text-decoration-color: #008080\">│</span> Context:                                                                                                        <span style=\"color: #008080; text-decoration-color: #008080\">│</span>\n",
              "<span style=\"color: #008080; text-decoration-color: #008080\">│</span>                                                                                                                 <span style=\"color: #008080; text-decoration-color: #008080\">│</span>\n",
              "<span style=\"color: #008080; text-decoration-color: #008080\">│</span> Result of previous task Agent: As of the latest available data, Tesla's stock price is approximately $207.52    <span style=\"color: #008080; text-decoration-color: #008080\">│</span>\n",
              "<span style=\"color: #008080; text-decoration-color: #008080\">│</span> USD. In recent news, Tesla has been in the spotlight due to its third-quarter earnings report, which showed a   <span style=\"color: #008080; text-decoration-color: #008080\">│</span>\n",
              "<span style=\"color: #008080; text-decoration-color: #008080\">│</span> decline in revenue and profit compared to previous quarters. The company has also announced plans to introduce  <span style=\"color: #008080; text-decoration-color: #008080\">│</span>\n",
              "<span style=\"color: #008080; text-decoration-color: #008080\">│</span> new vehicle models and expand its manufacturing capabilities. Additionally, Tesla's Cybertruck is expected to   <span style=\"color: #008080; text-decoration-color: #008080\">│</span>\n",
              "<span style=\"color: #008080; text-decoration-color: #008080\">│</span> begin deliveries soon, which has generated significant interest among investors and consumers.                  <span style=\"color: #008080; text-decoration-color: #008080\">│</span>\n",
              "<span style=\"color: #008080; text-decoration-color: #008080\">│</span>                                                                                                                 <span style=\"color: #008080; text-decoration-color: #008080\">│</span>\n",
              "<span style=\"color: #008080; text-decoration-color: #008080\">│</span> Input Content: What is the latest news about Tesla and its current stock price? Please provide only the final   <span style=\"color: #008080; text-decoration-color: #008080\">│</span>\n",
              "<span style=\"color: #008080; text-decoration-color: #008080\">│</span> result of your work. Do not add any conversation or extra explanation.                                          <span style=\"color: #008080; text-decoration-color: #008080\">│</span>\n",
              "<span style=\"color: #008080; text-decoration-color: #008080\">╰─────────────────────────────────────────────────────────────────────────────────────────────────────────────────╯</span>\n",
              "</pre>\n"
            ],
            "text/plain": [
              "\u001b[36m╭─\u001b[0m\u001b[36m────────────────────────────────────────────────────\u001b[0m\u001b[36m Task \u001b[0m\u001b[36m─────────────────────────────────────────────────────\u001b[0m\u001b[36m─╮\u001b[0m\n",
              "\u001b[36m│\u001b[0m You need to do the following task: You are a professional financial advisor AI agent. Your job is to provide    \u001b[36m│\u001b[0m\n",
              "\u001b[36m│\u001b[0m financial information to users, including stock prices, analyst recommendations, company info, and financial    \u001b[36m│\u001b[0m\n",
              "\u001b[36m│\u001b[0m terms. Use only reliable financial sources.. Expected Output: Complete the assigned task successfully.          \u001b[36m│\u001b[0m\n",
              "\u001b[36m│\u001b[0m                                                                                                                 \u001b[36m│\u001b[0m\n",
              "\u001b[36m│\u001b[0m Context:                                                                                                        \u001b[36m│\u001b[0m\n",
              "\u001b[36m│\u001b[0m                                                                                                                 \u001b[36m│\u001b[0m\n",
              "\u001b[36m│\u001b[0m Result of previous task Agent: As of the latest available data, Tesla's stock price is approximately $207.52    \u001b[36m│\u001b[0m\n",
              "\u001b[36m│\u001b[0m USD. In recent news, Tesla has been in the spotlight due to its third-quarter earnings report, which showed a   \u001b[36m│\u001b[0m\n",
              "\u001b[36m│\u001b[0m decline in revenue and profit compared to previous quarters. The company has also announced plans to introduce  \u001b[36m│\u001b[0m\n",
              "\u001b[36m│\u001b[0m new vehicle models and expand its manufacturing capabilities. Additionally, Tesla's Cybertruck is expected to   \u001b[36m│\u001b[0m\n",
              "\u001b[36m│\u001b[0m begin deliveries soon, which has generated significant interest among investors and consumers.                  \u001b[36m│\u001b[0m\n",
              "\u001b[36m│\u001b[0m                                                                                                                 \u001b[36m│\u001b[0m\n",
              "\u001b[36m│\u001b[0m Input Content: What is the latest news about Tesla and its current stock price? Please provide only the final   \u001b[36m│\u001b[0m\n",
              "\u001b[36m│\u001b[0m result of your work. Do not add any conversation or extra explanation.                                          \u001b[36m│\u001b[0m\n",
              "\u001b[36m╰─────────────────────────────────────────────────────────────────────────────────────────────────────────────────╯\u001b[0m\n"
            ]
          },
          "metadata": {},
          "output_type": "display_data"
        },
        {
          "data": {
            "text/html": [
              "<pre style=\"white-space:pre;overflow-x:auto;line-height:normal;font-family:Menlo,'DejaVu Sans Mono',consolas,'Courier New',monospace\"><span style=\"color: #008080; text-decoration-color: #008080\">╭─────────────────────────────────────────────────── Response ────────────────────────────────────────────────────╮</span>\n",
              "<span style=\"color: #008080; text-decoration-color: #008080\">│</span> As of the latest available data, Tesla's stock price is approximately $207.52 USD. Recent news highlights       <span style=\"color: #008080; text-decoration-color: #008080\">│</span>\n",
              "<span style=\"color: #008080; text-decoration-color: #008080\">│</span> Tesla's third-quarter earnings report, which showed a decline in revenue and profit compared to previous        <span style=\"color: #008080; text-decoration-color: #008080\">│</span>\n",
              "<span style=\"color: #008080; text-decoration-color: #008080\">│</span> quarters. The company plans to introduce new vehicle models and expand its manufacturing capabilities.          <span style=\"color: #008080; text-decoration-color: #008080\">│</span>\n",
              "<span style=\"color: #008080; text-decoration-color: #008080\">│</span> Additionally, Tesla's Cybertruck is expected to begin deliveries soon, generating significant interest among    <span style=\"color: #008080; text-decoration-color: #008080\">│</span>\n",
              "<span style=\"color: #008080; text-decoration-color: #008080\">│</span> investors and consumers.                                                                                        <span style=\"color: #008080; text-decoration-color: #008080\">│</span>\n",
              "<span style=\"color: #008080; text-decoration-color: #008080\">╰─────────────────────────────────────────────────────────────────────────────────────────────────────────────────╯</span>\n",
              "</pre>\n"
            ],
            "text/plain": [
              "\u001b[36m╭─\u001b[0m\u001b[36m──────────────────────────────────────────────────\u001b[0m\u001b[36m Response \u001b[0m\u001b[36m───────────────────────────────────────────────────\u001b[0m\u001b[36m─╮\u001b[0m\n",
              "\u001b[36m│\u001b[0m As of the latest available data, Tesla's stock price is approximately $207.52 USD. Recent news highlights       \u001b[36m│\u001b[0m\n",
              "\u001b[36m│\u001b[0m Tesla's third-quarter earnings report, which showed a decline in revenue and profit compared to previous        \u001b[36m│\u001b[0m\n",
              "\u001b[36m│\u001b[0m quarters. The company plans to introduce new vehicle models and expand its manufacturing capabilities.          \u001b[36m│\u001b[0m\n",
              "\u001b[36m│\u001b[0m Additionally, Tesla's Cybertruck is expected to begin deliveries soon, generating significant interest among    \u001b[36m│\u001b[0m\n",
              "\u001b[36m│\u001b[0m investors and consumers.                                                                                        \u001b[36m│\u001b[0m\n",
              "\u001b[36m╰─────────────────────────────────────────────────────────────────────────────────────────────────────────────────╯\u001b[0m\n"
            ]
          },
          "metadata": {},
          "output_type": "display_data"
        },
        {
          "name": "stdout",
          "output_type": "stream",
          "text": [
            "As of the latest available data, Tesla's stock price is approximately $207.52 USD. Recent news highlights Tesla's third-quarter earnings report, which showed a decline in revenue and profit compared to previous quarters. The company plans to introduce new vehicle models and expand its manufacturing capabilities. Additionally, Tesla's Cybertruck is expected to begin deliveries soon, generating significant interest among investors and consumers.\n"
          ]
        }
      ],
      "source": [
        "# Create the web search agent\n",
        "web_search_agent = Agent(\n",
        "    role=WEB_ROLE,\n",
        "    goal=WEB_GOAL,\n",
        "    instructions=WEB_INSTRUCTIONS,\n",
        "    # You can add tool integrations here if praisonaiagents supports them\n",
        ")\n",
        "\n",
        "# Create the financial agent\n",
        "financial_agent = Agent(\n",
        "    role=FIN_ROLE,\n",
        "    goal=FIN_GOAL,\n",
        "    instructions=FIN_INSTRUCTIONS,\n",
        "    # You can add tool integrations here if praisonaiagents supports them\n",
        ")\n",
        "\n",
        "# Multi-agent orchestration\n",
        "multi_ai = PraisonAIAgents(\n",
        "    agents=[web_search_agent, financial_agent]\n",
        ")\n",
        "\n",
        "# Example usage\n",
        "def ask_spark_vest(query):\n",
        "    response = multi_ai.start(query)\n",
        "    return response\n",
        "\n",
        "# Try a sample query\n",
        "result = ask_spark_vest(\"What is the latest news about Tesla and its current stock price?\")\n",
        "print(result)"
      ]
    }
  ],
  "metadata": {
    "colab": {
      "provenance": []
    },
    "kernelspec": {
      "display_name": "Python 3",
      "name": "python3"
    },
    "language_info": {
      "name": "python"
    }
  },
  "nbformat": 4,
  "nbformat_minor": 0
}